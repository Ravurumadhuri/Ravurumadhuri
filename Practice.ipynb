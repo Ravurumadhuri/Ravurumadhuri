{
  "nbformat": 4,
  "nbformat_minor": 0,
  "metadata": {
    "colab": {
      "provenance": [],
      "toc_visible": true,
      "authorship_tag": "ABX9TyPUjwYodjHZlmfb3OP4BrG4",
      "include_colab_link": true
    },
    "kernelspec": {
      "name": "python3",
      "display_name": "Python 3"
    },
    "language_info": {
      "name": "python"
    }
  },
  "cells": [
    {
      "cell_type": "markdown",
      "metadata": {
        "id": "view-in-github",
        "colab_type": "text"
      },
      "source": [
        "<a href=\"https://colab.research.google.com/github/Ravurumadhuri/Ravurumadhuri/blob/main/Practice.ipynb\" target=\"_parent\"><img src=\"https://colab.research.google.com/assets/colab-badge.svg\" alt=\"Open In Colab\"/></a>"
      ]
    },
    {
      "cell_type": "code",
      "source": [
        "#Data Types"
      ],
      "metadata": {
        "id": "i0yyqxcgLG97"
      },
      "execution_count": 130,
      "outputs": []
    },
    {
      "cell_type": "code",
      "source": [
        "#int\n",
        "num=5\n",
        "print(type(num))\n",
        "#float\n",
        "num=0.5\n",
        "print(type(num))\n",
        "#string\n",
        "num=\" \"\n",
        "print(type(num))\n",
        "num=True\n",
        "print(type(num))\n",
        "num=\"String\"\n",
        "print(type(num))\n",
        "#list\n",
        "num=[1,2,3]\n",
        "print(type(num))\n",
        "#tuple\n",
        "num=(1,2,3)\n",
        "print(type(num))\n",
        "#set\n",
        "num={1,2,3}\n",
        "print(type(num))\n",
        "a=5.6\n",
        "b=int(a)\n",
        "print(type(b))\n",
        "b=5\n",
        "c=float(b)\n",
        "print(c)\n",
        "#complex\n",
        "k=6\n",
        "c=complex(b,k)\n",
        "print(c)\n",
        "print(type(c))\n",
        "#bool\n",
        "a=6>1\n",
        "print(a)\n",
        "print(type(a))\n",
        "a=7<1\n",
        "print(a)\n",
        "print(int(a))\n",
        "#range\n",
        "a=range(10)\n",
        "print(type(a))\n",
        "#dictionary"
      ],
      "metadata": {
        "colab": {
          "base_uri": "https://localhost:8080/"
        },
        "id": "WVXKA1MlLKya",
        "outputId": "b8ed2cf7-e009-432f-af32-74e98a1b0b59"
      },
      "execution_count": 131,
      "outputs": [
        {
          "output_type": "stream",
          "name": "stdout",
          "text": [
            "<class 'int'>\n",
            "<class 'float'>\n",
            "<class 'str'>\n",
            "<class 'bool'>\n",
            "<class 'str'>\n",
            "<class 'list'>\n",
            "<class 'tuple'>\n",
            "<class 'set'>\n",
            "<class 'int'>\n",
            "5.0\n",
            "(5+6j)\n",
            "<class 'complex'>\n",
            "True\n",
            "<class 'bool'>\n",
            "False\n",
            "0\n",
            "<class 'range'>\n"
          ]
        }
      ]
    },
    {
      "cell_type": "code",
      "source": [
        "x = 1    # int\n",
        "y = 2.8  # float\n",
        "z = 1j   # complex\n",
        "\n",
        "#convert from int to float:\n",
        "a = float(x)\n",
        "\n",
        "#convert from float to int:\n",
        "b = int(y)\n",
        "\n",
        "#convert from int to complex:\n",
        "c = complex(x)\n",
        "\n",
        "print(a)\n",
        "print(b)\n",
        "print(c)\n",
        "\n",
        "print(type(a))\n",
        "print(type(b))\n",
        "print(type(c))\n",
        "import random\n",
        "\n",
        "print(random.randrange(1, 10))"
      ],
      "metadata": {
        "colab": {
          "base_uri": "https://localhost:8080/"
        },
        "id": "SrNJ-mBORr2z",
        "outputId": "c2bb69d2-6e39-4203-9b95-d7c688b4ead8"
      },
      "execution_count": 132,
      "outputs": [
        {
          "output_type": "stream",
          "name": "stdout",
          "text": [
            "1.0\n",
            "2\n",
            "(1+0j)\n",
            "<class 'float'>\n",
            "<class 'int'>\n",
            "<class 'complex'>\n",
            "3\n"
          ]
        }
      ]
    },
    {
      "cell_type": "code",
      "source": [
        "#dictionary\n",
        "d={1:'apple',2:'banana',3:'mango'}\n",
        "print(type(d))\n",
        "print(d[1])\n",
        "print(d.values())\n",
        "print(d.keys())\n",
        "d.get(2)"
      ],
      "metadata": {
        "colab": {
          "base_uri": "https://localhost:8080/",
          "height": 109
        },
        "id": "d7LX-r1uLQtF",
        "outputId": "ce1b3ce8-b812-48d7-9bdc-3b6f3fee3894"
      },
      "execution_count": 133,
      "outputs": [
        {
          "output_type": "stream",
          "name": "stdout",
          "text": [
            "<class 'dict'>\n",
            "apple\n",
            "dict_values(['apple', 'banana', 'mango'])\n",
            "dict_keys([1, 2, 3])\n"
          ]
        },
        {
          "output_type": "execute_result",
          "data": {
            "text/plain": [
              "'banana'"
            ],
            "application/vnd.google.colaboratory.intrinsic+json": {
              "type": "string"
            }
          },
          "metadata": {},
          "execution_count": 133
        }
      ]
    },
    {
      "cell_type": "code",
      "source": [
        "#TypeCasting"
      ],
      "metadata": {
        "id": "iOmfNFntSEpX"
      },
      "execution_count": 134,
      "outputs": []
    },
    {
      "cell_type": "code",
      "source": [
        "#int\n",
        "x = print(int(1))\n",
        "y = print(int(5.6))\n",
        "z = print(int(\"3\"))"
      ],
      "metadata": {
        "colab": {
          "base_uri": "https://localhost:8080/"
        },
        "id": "PwvyGSQaSKkK",
        "outputId": "e4caed04-fd04-4c54-b4a9-fd5d76ee5b8e"
      },
      "execution_count": 135,
      "outputs": [
        {
          "output_type": "stream",
          "name": "stdout",
          "text": [
            "1\n",
            "5\n",
            "3\n"
          ]
        }
      ]
    },
    {
      "cell_type": "code",
      "source": [
        "#float\n",
        "a=print(float(3))\n",
        "a=print(float(\"5\"))\n",
        "#string\n",
        "a=print(str(3.0))\n",
        "a=print(str(6))"
      ],
      "metadata": {
        "colab": {
          "base_uri": "https://localhost:8080/"
        },
        "id": "BbOM8ObnSjCk",
        "outputId": "f7d9fb64-89a4-47c0-9907-0096a21ce97c"
      },
      "execution_count": 136,
      "outputs": [
        {
          "output_type": "stream",
          "name": "stdout",
          "text": [
            "3.0\n",
            "5.0\n",
            "3.0\n",
            "6\n"
          ]
        }
      ]
    },
    {
      "cell_type": "code",
      "source": [
        "#operators of Python"
      ],
      "metadata": {
        "id": "7Zy0XwfiTOIM"
      },
      "execution_count": 137,
      "outputs": []
    },
    {
      "cell_type": "code",
      "source": [
        "#Arithemtic Operators(+,-,*,%,/,**,//)\n",
        "x=8\n",
        "y=4\n",
        "print(x+y)\n",
        "print(x-y)\n",
        "print(x*y)\n",
        "print(x%y)\n",
        "print(x/y)\n",
        "print(x**y)\n",
        "print(x//y)\n"
      ],
      "metadata": {
        "colab": {
          "base_uri": "https://localhost:8080/"
        },
        "id": "BTXkjBXUTTO5",
        "outputId": "6c8c169c-9671-4ef0-d3e0-026f9689ad4f"
      },
      "execution_count": 138,
      "outputs": [
        {
          "output_type": "stream",
          "name": "stdout",
          "text": [
            "12\n",
            "4\n",
            "32\n",
            "0\n",
            "2.0\n",
            "4096\n",
            "2\n"
          ]
        }
      ]
    },
    {
      "cell_type": "code",
      "source": [
        "#Assignment Operators(=,+=,-=,*=,%=,/=,//=,**==,&=,|=,^=,>>=,<<==,:=)\n",
        "x=7\n",
        "print(x)\n",
        "x+=3\n",
        "print(x)\n",
        "x-=3\n",
        "print(x)\n",
        "x*=3\n",
        "print(x)\n",
        "x%=3\n",
        "print(x)\n",
        "x/=3\n",
        "print(x)\n",
        "x//=3\n",
        "print(x)\n",
        "x**=3\n",
        "print(x)\n",
        "x=3\n",
        "x&=3\n",
        "print(x)\n",
        "print(x)\n",
        "x|=3\n",
        "print(x)\n",
        "x^=3\n",
        "print(x)\n",
        "x>>=3\n",
        "print(x)\n",
        "x<<=3\n",
        "print(x)\n",
        "\n"
      ],
      "metadata": {
        "colab": {
          "base_uri": "https://localhost:8080/"
        },
        "id": "IqiPRVQqUDo1",
        "outputId": "f0b097f8-69a8-42ef-ee42-1696e98a44d5"
      },
      "execution_count": 139,
      "outputs": [
        {
          "output_type": "stream",
          "name": "stdout",
          "text": [
            "7\n",
            "10\n",
            "7\n",
            "21\n",
            "0\n",
            "0.0\n",
            "0.0\n",
            "0.0\n",
            "3\n",
            "3\n",
            "3\n",
            "0\n",
            "0\n",
            "0\n"
          ]
        }
      ]
    },
    {
      "cell_type": "code",
      "source": [
        "#comparison operators(==,!=,>,>=,<,<=)\n",
        "x=6\n",
        "y=7\n",
        "print(x==y)\n",
        "print(x!=y)\n",
        "print(x<y)\n",
        "print(x<=y)\n",
        "print(x>y)\n",
        "print(x>=y)\n",
        "\n"
      ],
      "metadata": {
        "colab": {
          "base_uri": "https://localhost:8080/"
        },
        "id": "ZVJVtWpxenKp",
        "outputId": "1c3fdc21-2806-42eb-8dcc-408a8c8b3995"
      },
      "execution_count": 140,
      "outputs": [
        {
          "output_type": "stream",
          "name": "stdout",
          "text": [
            "False\n",
            "True\n",
            "True\n",
            "True\n",
            "False\n",
            "False\n"
          ]
        }
      ]
    },
    {
      "cell_type": "code",
      "source": [
        "#lgical operators(and,or,not)\n",
        "x=10\n",
        "print(x<5 and x<11)\n",
        "print(x<5 or x<11)\n",
        "print(not(x<5 and x<11))#It reverse the result"
      ],
      "metadata": {
        "colab": {
          "base_uri": "https://localhost:8080/"
        },
        "id": "IqhkyzZqexcr",
        "outputId": "d5c390d8-6ab2-4016-b846-d11971bf2caa"
      },
      "execution_count": 141,
      "outputs": [
        {
          "output_type": "stream",
          "name": "stdout",
          "text": [
            "False\n",
            "True\n",
            "True\n"
          ]
        }
      ]
    },
    {
      "cell_type": "code",
      "source": [
        "#identity operators(is,is not)\n",
        "x=7\n",
        "x=8\n",
        "print(x is y)\n",
        "print(x is not y)"
      ],
      "metadata": {
        "colab": {
          "base_uri": "https://localhost:8080/"
        },
        "id": "wj6n52CJg46j",
        "outputId": "4848b88f-06d8-401b-dd6a-ecc3c19e00e2"
      },
      "execution_count": 142,
      "outputs": [
        {
          "output_type": "stream",
          "name": "stdout",
          "text": [
            "False\n",
            "True\n"
          ]
        }
      ]
    },
    {
      "cell_type": "code",
      "source": [
        "#membership operators(in,not in)\n",
        "x=[1,2,3]\n",
        "print(1 in x)\n",
        "print(2 not in x)"
      ],
      "metadata": {
        "colab": {
          "base_uri": "https://localhost:8080/"
        },
        "id": "5qba0B_ihHZq",
        "outputId": "d6398f6e-7b90-4378-c07d-256ba1c47927"
      },
      "execution_count": 143,
      "outputs": [
        {
          "output_type": "stream",
          "name": "stdout",
          "text": [
            "True\n",
            "False\n"
          ]
        }
      ]
    },
    {
      "cell_type": "code",
      "source": [
        "#bitwise operators(&,|,^,~,<<,>>)\n",
        "x=3\n",
        "y=2\n",
        "print(x&y)\n",
        "print(x|y)\n",
        "print(x^y)\n",
        "print(~x)\n",
        "print(x<<2)\n",
        "print(x>>2)\n",
        "\n",
        "\n",
        "\n"
      ],
      "metadata": {
        "colab": {
          "base_uri": "https://localhost:8080/"
        },
        "id": "BuDdcNXXhowq",
        "outputId": "750bcf9e-175b-4fea-cb0a-ddf38946e742"
      },
      "execution_count": 144,
      "outputs": [
        {
          "output_type": "stream",
          "name": "stdout",
          "text": [
            "2\n",
            "3\n",
            "1\n",
            "-4\n",
            "12\n",
            "0\n"
          ]
        }
      ]
    },
    {
      "cell_type": "markdown",
      "source": [
        "Strings in python\n"
      ],
      "metadata": {
        "id": "1ZjJ5MRa2ZgJ"
      }
    },
    {
      "cell_type": "code",
      "source": [
        "print(\"Hello\")\n",
        "print('Hello')\n",
        "#Quotes Inside Quotes\n",
        "print(\"Hii I'm Madhuri\")\n",
        "print(\"She is called 'Madhuri'\")\n",
        "print('she is called \"Madhuri\"')\n",
        "#Assign string to a variable\n",
        "a = \"Hello\"\n",
        "print(a)\n",
        "#Multiline Strings\n",
        "a=\"\"\"Iam Madhuri,\n",
        "Iam 21 Years Old,\n",
        "I have completed my Graduation.\"\"\"\n",
        "print(a)\n",
        "#Strings are Arrays\n",
        "a = \"Iam Madhuri\"\n",
        "print(a[3])\n",
        "print(a[5])\n",
        "#Looping Through a String\n",
        "for i in \"Madhuri\":\n",
        "  print(i)\n",
        "#String Length\n",
        "a=\"Iam Madhuri\"\n",
        "print(len(a))\n",
        "#Check string\n",
        "txt=\"Iam Madhuri Ravuru\"\n",
        "print(\"Madhuri\" in txt)\n",
        "#using if\n",
        "if \"Iam\" in txt:\n",
        "  print(\"Iam in text\")\n",
        "  #using not in\n",
        "print(\"Madhuri\" not in txt)\n",
        "#slicing\n",
        "a=\"Iam Madhuri \"\n",
        "print(a[2:5])\n",
        "#Slice From the Start\n",
        "print(a[:5])\n",
        "#Slice To the End\n",
        "print(a[2:])\n",
        "#negative slicing\n",
        "print(a[-6:-1])\n",
        "#Upper Case\n",
        "print(a.upper())\n",
        "print(a.lower())\n",
        "#Remove space\n",
        "print(a.strip())\n",
        "#Replace String\n",
        "print(a.replace(\"M\",\"H\"))\n",
        "#Split String\n",
        "print(a.split(\" \"))\n",
        "#String Concatenation\n",
        "a = \"Hello\"\n",
        "b = \"World\"\n",
        "c = a + b\n",
        "print(c)\n",
        "#Python - Format - Strings\n",
        "#F-Strings\n",
        "age = 21\n",
        "txt = f\"My name is Madhuri, I am {age}\"\n",
        "print(txt)\n",
        "price = 59\n",
        "txt = f\"The price is {price} dollars\"\n",
        "print(txt)\n",
        "price = 59\n",
        "txt = f\"The price is {price:.2f} dollars\"\n",
        "print(txt)\n",
        "txt = f\"The price is {20 * 59} dollars\"\n",
        "print(txt)\n",
        "#Escape Character\n",
        "txt = \"We are the so-called \\\"Vikings\\\" from the north.\"\n",
        "print(txt)\n"
      ],
      "metadata": {
        "colab": {
          "base_uri": "https://localhost:8080/"
        },
        "id": "vFpqnVJXmSWT",
        "outputId": "17dd4c2a-3b04-4781-89c4-a599738f3954"
      },
      "execution_count": 145,
      "outputs": [
        {
          "output_type": "stream",
          "name": "stdout",
          "text": [
            "Hello\n",
            "Hello\n",
            "Hii I'm Madhuri\n",
            "She is called 'Madhuri'\n",
            "she is called \"Madhuri\"\n",
            "Hello\n",
            "Iam Madhuri,\n",
            "Iam 21 Years Old,\n",
            "I have completed my Graduation.\n",
            " \n",
            "a\n",
            "M\n",
            "a\n",
            "d\n",
            "h\n",
            "u\n",
            "r\n",
            "i\n",
            "11\n",
            "True\n",
            "Iam in text\n",
            "False\n",
            "m M\n",
            "Iam M\n",
            "m Madhuri \n",
            "dhuri\n",
            "IAM MADHURI \n",
            "iam madhuri \n",
            "Iam Madhuri\n",
            "Iam Hadhuri \n",
            "['Iam', 'Madhuri', '']\n",
            "HelloWorld\n",
            "My name is Madhuri, I am 21\n",
            "The price is 59 dollars\n",
            "The price is 59.00 dollars\n",
            "The price is 1180 dollars\n",
            "We are the so-called \"Vikings\" from the north.\n"
          ]
        }
      ]
    },
    {
      "cell_type": "markdown",
      "source": [
        "#list"
      ],
      "metadata": {
        "id": "qEZMk8lg2M8-"
      }
    },
    {
      "cell_type": "code",
      "source": [
        "thislist = [\"apple\", \"banana\", \"cherry\"]\n",
        "print(thislist)\n",
        "#List Length\n",
        "thislist = [\"apple\", \"banana\", \"cherry\"]\n",
        "print(len(thislist))\n",
        "#List Items - Data Types\n",
        "list1 = [\"apple\", \"banana\", \"cherry\"]\n",
        "list2 = [1, 5, 7, 9, 3]\n",
        "list3 = [True, False, False]\n",
        "#Access Items\n",
        "thislist = [\"apple\", \"banana\", \"cherry\"]\n",
        "print(thislist[1])\n",
        "#Negative Indexing\n",
        "list5 = [\"apple\", \"banana\", \"cherry\"]\n",
        "print(list5[-1])\n",
        "#Range of Indexes\n",
        "list6 = [\"apple\", \"banana\", \"cherry\", \"orange\", \"kiwi\", \"melon\", \"mango\"]\n",
        "print(list6[2:5])\n",
        "thislist = [\"apple\", \"banana\", \"cherry\", \"orange\", \"kiwi\", \"melon\", \"mango\"]\n",
        "print(thislist[:4])\n",
        "thislist = [\"apple\", \"banana\", \"cherry\", \"orange\", \"kiwi\", \"melon\", \"mango\"]\n",
        "print(thislist[2:])\n",
        "#Range of Negative Indexes\n",
        "thislist = [\"apple\", \"banana\", \"cherry\", \"orange\", \"kiwi\", \"melon\", \"mango\"]\n",
        "print(thislist[-4:-1])\n",
        "#Check if Item Exists\n",
        "thislist = [\"apple\", \"banana\", \"cherry\"]\n",
        "if \"apple\" in thislist:\n",
        "  print(\"Yes, 'apple' is in the fruits list\")\n",
        "#Change Item Value\n",
        "thislist = [\"apple\", \"banana\", \"cherry\"]\n",
        "thislist[1] = \"blackcurrant\"\n",
        "print(thislist)\n",
        "#Change a Range of Item Values\n",
        "thislist = [\"apple\", \"banana\", \"cherry\", \"orange\", \"kiwi\", \"mango\"]\n",
        "thislist[1:3] = [\"blackcurrant\", \"watermelon\"]\n",
        "print(thislist)\n",
        "thislist = [\"apple\", \"banana\", \"cherry\"]\n",
        "thislist[1:2] = [\"blackcurrant\", \"watermelon\"]\n",
        "print(thislist)\n",
        "thislist = [\"apple\", \"banana\", \"cherry\"]\n",
        "thislist[1:3] = [\"watermelon\"]\n",
        "print(thislist)\n",
        "#Insert Items\n",
        "thislist = [\"apple\", \"banana\", \"cherry\"]\n",
        "thislist.insert(2, \"watermelon\")\n",
        "print(thislist)\n",
        "#Append Items\n",
        "thislist = [\"apple\", \"banana\", \"cherry\"]\n",
        "thislist.append(\"orange\")\n",
        "print(thislist)\n",
        "#insert of items\n",
        "thislist = [\"apple\", \"banana\", \"cherry\"]\n",
        "thislist.insert(1, \"orange\")\n",
        "print(thislist)\n",
        "#Extend List\n",
        "thislist = [\"apple\", \"banana\", \"cherry\"]\n",
        "tropical = [\"mango\", \"pineapple\", \"papaya\"]\n",
        "thislist.extend(tropical)\n",
        "print(thislist)\n",
        "#Add Any Iterable\n",
        "thislist = [\"apple\", \"banana\", \"cherry\"]\n",
        "thistuple = (\"kiwi\", \"orange\")\n",
        "thislist.extend(thistuple)\n",
        "print(thislist)\n",
        "#Remove Specified Item\n",
        "thislist = [\"apple\", \"banana\", \"cherry\"]\n",
        "thislist.remove(\"banana\")\n",
        "print(thislist)\n",
        "#Remove Specified Index\n",
        "thislist = [\"apple\", \"banana\", \"cherry\"]\n",
        "thislist.pop(1)\n",
        "print(thislist)\n",
        "thislist = [\"apple\", \"banana\", \"cherry\"]\n",
        "thislist.pop()\n",
        "print(thislist)#removes last item\n",
        "thislist = [\"apple\", \"banana\", \"cherry\"]\n",
        "del thislist[0]\n",
        "print(thislist)\n",
        "#Clear the List\n",
        "thislist = [\"apple\", \"banana\", \"cherry\"]\n",
        "thislist.clear()\n",
        "print(thislist)\n",
        "#Loop Through a List\n",
        "thislist = [\"apple\", \"banana\", \"cherry\"]\n",
        "for x in thislist:\n",
        "  print(x)\n",
        "#Loop Through the Index Numbers\n",
        "thislist = [\"apple\", \"banana\", \"cherry\"]\n",
        "for i in range(len(thislist)):\n",
        "  print(thislist[i])\n",
        "#Using a While Loop\n",
        "thislist = [\"apple\", \"banana\", \"cherry\"]\n",
        "i = 0\n",
        "while i < len(thislist):\n",
        "  print(thislist[i])\n",
        "  i = i + 1\n",
        "#Looping Using List Comprehension\n",
        "thislist = [\"apple\", \"banana\", \"cherry\"]\n",
        "[print(x) for x in thislist]\n",
        "#List Comprehension\n",
        "fruits = [\"apple\", \"banana\", \"cherry\", \"kiwi\", \"mango\"]\n",
        "newlist = []\n",
        "\n",
        "for x in fruits:\n",
        "  if \"a\" in x:\n",
        "    newlist.append(x)\n",
        "\n",
        "print(newlist)\n",
        "#or\n",
        "fruits = [\"apple\", \"banana\", \"cherry\", \"kiwi\", \"mango\"]\n",
        "\n",
        "newlist = [x for x in fruits if \"a\" in x]\n",
        "\n",
        "print(newlist)\n",
        "newlist = [x for x in fruits if x != \"apple\"]\n",
        "print(newlist)\n",
        "newlist = [x for x in fruits]\n",
        "print(newlist)\n",
        "newlist = [x for x in range(10)]\n",
        "print(newlist)\n",
        "newlist = [x for x in range(10) if x < 5]\n",
        "print(newlist)\n",
        "newlist = [x.upper() for x in fruits]\n",
        "print(newlist)\n",
        "newlist = ['hello' for x in fruits]\n",
        "print(newlist)\n",
        "newlist = [x if x != \"banana\" else \"orange\" for x in fruits]\n",
        "print(newlist)\n",
        "#Sort List Alphanumerically\n",
        "thislist = [\"orange\", \"mango\", \"kiwi\", \"pineapple\", \"banana\"]\n",
        "thislist.sort()\n",
        "print(thislist)\n",
        "thislist = [100, 50, 65, 82, 23]\n",
        "thislist.sort()\n",
        "print(thislist)\n",
        "thislist = [\"orange\", \"mango\", \"kiwi\", \"pineapple\", \"banana\"]\n",
        "thislist.sort(reverse = True)\n",
        "print(thislist)#sort the listin descending order\n",
        "#Case Insensitive Sort\n",
        "thislist = [\"banana\", \"Orange\", \"Kiwi\", \"cherry\"]\n",
        "thislist.sort()\n",
        "print(thislist)\n",
        "#Reverse Order\n",
        "thislist = [\"banana\", \"Orange\", \"Kiwi\", \"cherry\"]\n",
        "thislist.reverse()\n",
        "print(thislist)\n",
        "#copy method\n",
        "thislist = [\"apple\", \"banana\", \"cherry\"]\n",
        "mylist = thislist.copy()\n",
        "print(mylist)\n",
        "#using slice operator\n",
        "thislist = [\"apple\", \"banana\", \"cherry\"]\n",
        "mylist = thislist[:]\n",
        "print(mylist)\n",
        "#joining of lists\n",
        "list1 = [\"a\", \"b\", \"c\"]\n",
        "list2 = [1, 2, 3]\n",
        "list3 = list1 + list2\n",
        "print(list3)\n",
        "#Append list2 into list1:\n",
        "list1 = [\"a\", \"b\" , \"c\"]\n",
        "list2 = [1, 2, 3]\n",
        "for x in list2:\n",
        "  list1.append(x)\n",
        "print(list1)\n"
      ],
      "metadata": {
        "id": "LjWdJ3QQ2Oko",
        "colab": {
          "base_uri": "https://localhost:8080/"
        },
        "outputId": "70bedd9c-09d8-4932-8976-840b0c345046"
      },
      "execution_count": 146,
      "outputs": [
        {
          "output_type": "stream",
          "name": "stdout",
          "text": [
            "['apple', 'banana', 'cherry']\n",
            "3\n",
            "banana\n",
            "cherry\n",
            "['cherry', 'orange', 'kiwi']\n",
            "['apple', 'banana', 'cherry', 'orange']\n",
            "['cherry', 'orange', 'kiwi', 'melon', 'mango']\n",
            "['orange', 'kiwi', 'melon']\n",
            "Yes, 'apple' is in the fruits list\n",
            "['apple', 'blackcurrant', 'cherry']\n",
            "['apple', 'blackcurrant', 'watermelon', 'orange', 'kiwi', 'mango']\n",
            "['apple', 'blackcurrant', 'watermelon', 'cherry']\n",
            "['apple', 'watermelon']\n",
            "['apple', 'banana', 'watermelon', 'cherry']\n",
            "['apple', 'banana', 'cherry', 'orange']\n",
            "['apple', 'orange', 'banana', 'cherry']\n",
            "['apple', 'banana', 'cherry', 'mango', 'pineapple', 'papaya']\n",
            "['apple', 'banana', 'cherry', 'kiwi', 'orange']\n",
            "['apple', 'cherry']\n",
            "['apple', 'cherry']\n",
            "['apple', 'banana']\n",
            "['banana', 'cherry']\n",
            "[]\n",
            "apple\n",
            "banana\n",
            "cherry\n",
            "apple\n",
            "banana\n",
            "cherry\n",
            "apple\n",
            "banana\n",
            "cherry\n",
            "apple\n",
            "banana\n",
            "cherry\n",
            "['apple', 'banana', 'mango']\n",
            "['apple', 'banana', 'mango']\n",
            "['banana', 'cherry', 'kiwi', 'mango']\n",
            "['apple', 'banana', 'cherry', 'kiwi', 'mango']\n",
            "[0, 1, 2, 3, 4, 5, 6, 7, 8, 9]\n",
            "[0, 1, 2, 3, 4]\n",
            "['APPLE', 'BANANA', 'CHERRY', 'KIWI', 'MANGO']\n",
            "['hello', 'hello', 'hello', 'hello', 'hello']\n",
            "['apple', 'orange', 'cherry', 'kiwi', 'mango']\n",
            "['banana', 'kiwi', 'mango', 'orange', 'pineapple']\n",
            "[23, 50, 65, 82, 100]\n",
            "['pineapple', 'orange', 'mango', 'kiwi', 'banana']\n",
            "['Kiwi', 'Orange', 'banana', 'cherry']\n",
            "['cherry', 'Kiwi', 'Orange', 'banana']\n",
            "['apple', 'banana', 'cherry']\n",
            "['apple', 'banana', 'cherry']\n",
            "['a', 'b', 'c', 1, 2, 3]\n",
            "['a', 'b', 'c', 1, 2, 3]\n"
          ]
        }
      ]
    },
    {
      "cell_type": "markdown",
      "source": [
        "Tuple\n"
      ],
      "metadata": {
        "id": "s7dBoPdrTsyk"
      }
    },
    {
      "cell_type": "code",
      "source": [
        "mytuple = (\"apple\", \"banana\", \"cherry\")\n",
        "print(mytuple)\n",
        "thistuple = (\"apple\", \"banana\", \"cherry\", \"apple\", \"cherry\")\n",
        "print(thistuple)\n",
        "#tuple length\n",
        "thistuple = (\"apple\", \"banana\", \"cherry\")\n",
        "print(len(thistuple))\n",
        "#Create Tuple With One Item\n",
        "thistuple = (\"apple\",)\n",
        "print(type(thistuple))\n",
        "\n",
        "#NOT a tuple\n",
        "thistuple = (\"apple\")\n",
        "print(type(thistuple))\n",
        "#Data Types\n",
        "tuple1 = (\"apple\", \"banana\", \"cherry\")\n",
        "tuple2 = (1, 5, 7, 9, 3)\n",
        "tuple3 = (True, False, False)\n",
        "tuple1 = (\"abc\", 34, True, 40, \"male\")\n",
        "print(tuple1)\n",
        "mytuple = (\"apple\", \"banana\", \"cherry\")\n",
        "print(type(mytuple))\n",
        "#access of items\n",
        "thistuple = (\"apple\", \"banana\", \"cherry\")\n",
        "print(thistuple[1])\n",
        "#negative indexing\n",
        "thistuple = (\"apple\", \"banana\", \"cherry\")\n",
        "print(thistuple[-1])\n",
        "#Range of Indexes\n",
        "thistuple = (\"apple\", \"banana\", \"cherry\", \"orange\", \"kiwi\", \"melon\", \"mango\")\n",
        "print(thistuple[2:5])\n",
        "thistuple = (\"apple\", \"banana\", \"cherry\", \"orange\", \"kiwi\", \"melon\", \"mango\")\n",
        "print(thistuple[:4])\n",
        "thistuple = (\"apple\", \"banana\", \"cherry\", \"orange\", \"kiwi\", \"melon\", \"mango\")\n",
        "print(thistuple[2:])\n",
        "#Range of Negative Indexes"
      ],
      "metadata": {
        "colab": {
          "base_uri": "https://localhost:8080/"
        },
        "id": "YxLzLWAjWlJH",
        "outputId": "92dec3df-356c-4abe-d6db-c5a1d6bb0824"
      },
      "execution_count": 147,
      "outputs": [
        {
          "output_type": "stream",
          "name": "stdout",
          "text": [
            "('apple', 'banana', 'cherry')\n",
            "('apple', 'banana', 'cherry', 'apple', 'cherry')\n",
            "3\n",
            "<class 'tuple'>\n",
            "<class 'str'>\n",
            "('abc', 34, True, 40, 'male')\n",
            "<class 'tuple'>\n",
            "banana\n",
            "cherry\n",
            "('cherry', 'orange', 'kiwi')\n",
            "('apple', 'banana', 'cherry', 'orange')\n",
            "('cherry', 'orange', 'kiwi', 'melon', 'mango')\n"
          ]
        }
      ]
    }
  ]
}