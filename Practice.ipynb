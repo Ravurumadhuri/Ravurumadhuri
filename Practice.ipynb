{
  "nbformat": 4,
  "nbformat_minor": 0,
  "metadata": {
    "colab": {
      "provenance": [],
      "authorship_tag": "ABX9TyPTVnnD/76MIjKJYurv7ur5",
      "include_colab_link": true
    },
    "kernelspec": {
      "name": "python3",
      "display_name": "Python 3"
    },
    "language_info": {
      "name": "python"
    }
  },
  "cells": [
    {
      "cell_type": "markdown",
      "metadata": {
        "id": "view-in-github",
        "colab_type": "text"
      },
      "source": [
        "<a href=\"https://colab.research.google.com/github/Ravurumadhuri/Ravurumadhuri/blob/main/Practice.ipynb\" target=\"_parent\"><img src=\"https://colab.research.google.com/assets/colab-badge.svg\" alt=\"Open In Colab\"/></a>"
      ]
    },
    {
      "cell_type": "code",
      "source": [
        "#Data Types"
      ],
      "metadata": {
        "id": "i0yyqxcgLG97"
      },
      "execution_count": null,
      "outputs": []
    },
    {
      "cell_type": "code",
      "source": [
        "#int\n",
        "num=5\n",
        "print(type(num))\n",
        "#float\n",
        "num=0.5\n",
        "print(type(num))\n",
        "#string\n",
        "num=\" \"\n",
        "print(type(num))\n",
        "num=True\n",
        "print(type(num))\n",
        "num=\"String\"\n",
        "print(type(num))\n",
        "#list\n",
        "num=[1,2,3]\n",
        "print(type(num))\n",
        "#tuple\n",
        "num=(1,2,3)\n",
        "print(type(num))\n",
        "#set\n",
        "num={1,2,3}\n",
        "print(type(num))\n",
        "a=5.6\n",
        "b=int(a)\n",
        "print(type(b))\n",
        "b=5\n",
        "c=float(b)\n",
        "print(c)\n",
        "#complex\n",
        "k=6\n",
        "c=complex(b,k)\n",
        "print(c)\n",
        "print(type(c))\n",
        "#bool\n",
        "a=6>1\n",
        "print(a)\n",
        "print(type(a))\n",
        "a=7<1\n",
        "print(a)\n",
        "print(int(a))\n",
        "#range\n",
        "a=range(10)\n",
        "print(type(a))\n",
        "#dictionary"
      ],
      "metadata": {
        "colab": {
          "base_uri": "https://localhost:8080/"
        },
        "id": "WVXKA1MlLKya",
        "outputId": "b8ed2cf7-e009-432f-af32-74e98a1b0b59"
      },
      "execution_count": null,
      "outputs": [
        {
          "output_type": "stream",
          "name": "stdout",
          "text": [
            "<class 'int'>\n",
            "<class 'float'>\n",
            "<class 'str'>\n",
            "<class 'bool'>\n",
            "<class 'str'>\n",
            "<class 'list'>\n",
            "<class 'tuple'>\n",
            "<class 'set'>\n",
            "<class 'int'>\n",
            "5.0\n",
            "(5+6j)\n",
            "<class 'complex'>\n",
            "True\n",
            "<class 'bool'>\n",
            "False\n",
            "0\n",
            "<class 'range'>\n"
          ]
        }
      ]
    },
    {
      "cell_type": "code",
      "source": [
        "x = 1    # int\n",
        "y = 2.8  # float\n",
        "z = 1j   # complex\n",
        "\n",
        "#convert from int to float:\n",
        "a = float(x)\n",
        "\n",
        "#convert from float to int:\n",
        "b = int(y)\n",
        "\n",
        "#convert from int to complex:\n",
        "c = complex(x)\n",
        "\n",
        "print(a)\n",
        "print(b)\n",
        "print(c)\n",
        "\n",
        "print(type(a))\n",
        "print(type(b))\n",
        "print(type(c))\n",
        "import random\n",
        "\n",
        "print(random.randrange(1, 10))"
      ],
      "metadata": {
        "colab": {
          "base_uri": "https://localhost:8080/"
        },
        "id": "SrNJ-mBORr2z",
        "outputId": "c2bb69d2-6e39-4203-9b95-d7c688b4ead8"
      },
      "execution_count": null,
      "outputs": [
        {
          "output_type": "stream",
          "name": "stdout",
          "text": [
            "1.0\n",
            "2\n",
            "(1+0j)\n",
            "<class 'float'>\n",
            "<class 'int'>\n",
            "<class 'complex'>\n",
            "3\n"
          ]
        }
      ]
    },
    {
      "cell_type": "code",
      "source": [
        "#dictionary\n",
        "d={1:'apple',2:'banana',3:'mango'}\n",
        "print(type(d))\n",
        "print(d[1])\n",
        "print(d.values())\n",
        "print(d.keys())\n",
        "d.get(2)"
      ],
      "metadata": {
        "colab": {
          "base_uri": "https://localhost:8080/",
          "height": 109
        },
        "id": "d7LX-r1uLQtF",
        "outputId": "ce1b3ce8-b812-48d7-9bdc-3b6f3fee3894"
      },
      "execution_count": null,
      "outputs": [
        {
          "output_type": "stream",
          "name": "stdout",
          "text": [
            "<class 'dict'>\n",
            "apple\n",
            "dict_values(['apple', 'banana', 'mango'])\n",
            "dict_keys([1, 2, 3])\n"
          ]
        },
        {
          "output_type": "execute_result",
          "data": {
            "text/plain": [
              "'banana'"
            ],
            "application/vnd.google.colaboratory.intrinsic+json": {
              "type": "string"
            }
          },
          "metadata": {},
          "execution_count": 133
        }
      ]
    },
    {
      "cell_type": "code",
      "source": [
        "#TypeCasting"
      ],
      "metadata": {
        "id": "iOmfNFntSEpX"
      },
      "execution_count": null,
      "outputs": []
    },
    {
      "cell_type": "code",
      "source": [
        "#int\n",
        "x = print(int(1))\n",
        "y = print(int(5.6))\n",
        "z = print(int(\"3\"))"
      ],
      "metadata": {
        "colab": {
          "base_uri": "https://localhost:8080/"
        },
        "id": "PwvyGSQaSKkK",
        "outputId": "e4caed04-fd04-4c54-b4a9-fd5d76ee5b8e"
      },
      "execution_count": null,
      "outputs": [
        {
          "output_type": "stream",
          "name": "stdout",
          "text": [
            "1\n",
            "5\n",
            "3\n"
          ]
        }
      ]
    },
    {
      "cell_type": "code",
      "source": [
        "#float\n",
        "a=print(float(3))\n",
        "a=print(float(\"5\"))\n",
        "#string\n",
        "a=print(str(3.0))\n",
        "a=print(str(6))"
      ],
      "metadata": {
        "colab": {
          "base_uri": "https://localhost:8080/"
        },
        "id": "BbOM8ObnSjCk",
        "outputId": "f7d9fb64-89a4-47c0-9907-0096a21ce97c"
      },
      "execution_count": null,
      "outputs": [
        {
          "output_type": "stream",
          "name": "stdout",
          "text": [
            "3.0\n",
            "5.0\n",
            "3.0\n",
            "6\n"
          ]
        }
      ]
    },
    {
      "cell_type": "code",
      "source": [
        "#operators of Python"
      ],
      "metadata": {
        "id": "7Zy0XwfiTOIM"
      },
      "execution_count": null,
      "outputs": []
    },
    {
      "cell_type": "code",
      "source": [
        "#Arithemtic Operators(+,-,*,%,/,**,//)\n",
        "x=8\n",
        "y=4\n",
        "print(x+y)\n",
        "print(x-y)\n",
        "print(x*y)\n",
        "print(x%y)\n",
        "print(x/y)\n",
        "print(x**y)\n",
        "print(x//y)\n"
      ],
      "metadata": {
        "colab": {
          "base_uri": "https://localhost:8080/"
        },
        "id": "BTXkjBXUTTO5",
        "outputId": "6c8c169c-9671-4ef0-d3e0-026f9689ad4f"
      },
      "execution_count": null,
      "outputs": [
        {
          "output_type": "stream",
          "name": "stdout",
          "text": [
            "12\n",
            "4\n",
            "32\n",
            "0\n",
            "2.0\n",
            "4096\n",
            "2\n"
          ]
        }
      ]
    },
    {
      "cell_type": "code",
      "source": [
        "#Assignment Operators(=,+=,-=,*=,%=,/=,//=,**==,&=,|=,^=,>>=,<<==,:=)\n",
        "x=7\n",
        "print(x)\n",
        "x+=3\n",
        "print(x)\n",
        "x-=3\n",
        "print(x)\n",
        "x*=3\n",
        "print(x)\n",
        "x%=3\n",
        "print(x)\n",
        "x=7\n",
        "x/=3\n",
        "print(x)\n",
        "x=7\n",
        "x//=3\n",
        "print(x)\n",
        "x=7\n",
        "x**=3\n",
        "print(x)\n",
        "x=3\n",
        "x&=3\n",
        "print(x)\n",
        "x|=3\n",
        "print(x)\n",
        "x^=3\n",
        "print(x)\n",
        "x>>=3\n",
        "print(x)\n",
        "x<<=3\n",
        "print(x)\n",
        "\n"
      ],
      "metadata": {
        "colab": {
          "base_uri": "https://localhost:8080/"
        },
        "id": "IqiPRVQqUDo1",
        "outputId": "efb08080-df82-4d01-b618-038fa01792f3"
      },
      "execution_count": null,
      "outputs": [
        {
          "output_type": "stream",
          "name": "stdout",
          "text": [
            "7\n",
            "10\n",
            "7\n",
            "21\n",
            "0\n",
            "2.3333333333333335\n",
            "2\n",
            "343\n",
            "3\n",
            "3\n",
            "0\n",
            "0\n",
            "0\n"
          ]
        }
      ]
    },
    {
      "cell_type": "code",
      "source": [
        "#comparison operators(==,!=,>,>=,<,<=)\n",
        "x=6\n",
        "y=7\n",
        "print(x==y)\n",
        "print(x!=y)\n",
        "print(x<y)\n",
        "print(x<=y)\n",
        "print(x>y)\n",
        "print(x>=y)\n",
        "\n"
      ],
      "metadata": {
        "colab": {
          "base_uri": "https://localhost:8080/"
        },
        "id": "ZVJVtWpxenKp",
        "outputId": "1c3fdc21-2806-42eb-8dcc-408a8c8b3995"
      },
      "execution_count": null,
      "outputs": [
        {
          "output_type": "stream",
          "name": "stdout",
          "text": [
            "False\n",
            "True\n",
            "True\n",
            "True\n",
            "False\n",
            "False\n"
          ]
        }
      ]
    },
    {
      "cell_type": "code",
      "source": [
        "#lgical operators(and,or,not)\n",
        "x=10\n",
        "print(x<5 and x<11)\n",
        "print(x<5 or x<11)\n",
        "print(not(x<5 and x<11))#It reverse the result"
      ],
      "metadata": {
        "colab": {
          "base_uri": "https://localhost:8080/"
        },
        "id": "IqhkyzZqexcr",
        "outputId": "d5c390d8-6ab2-4016-b846-d11971bf2caa"
      },
      "execution_count": null,
      "outputs": [
        {
          "output_type": "stream",
          "name": "stdout",
          "text": [
            "False\n",
            "True\n",
            "True\n"
          ]
        }
      ]
    },
    {
      "cell_type": "code",
      "source": [
        "#identity operators(is,is not)\n",
        "x=7\n",
        "x=8\n",
        "print(x is y)\n",
        "print(x is not y)"
      ],
      "metadata": {
        "colab": {
          "base_uri": "https://localhost:8080/"
        },
        "id": "wj6n52CJg46j",
        "outputId": "4848b88f-06d8-401b-dd6a-ecc3c19e00e2"
      },
      "execution_count": null,
      "outputs": [
        {
          "output_type": "stream",
          "name": "stdout",
          "text": [
            "False\n",
            "True\n"
          ]
        }
      ]
    },
    {
      "cell_type": "code",
      "source": [
        "#membership operators(in,not in)\n",
        "x=[1,2,3]\n",
        "print(1 in x)\n",
        "print(2 not in x)"
      ],
      "metadata": {
        "colab": {
          "base_uri": "https://localhost:8080/"
        },
        "id": "5qba0B_ihHZq",
        "outputId": "d6398f6e-7b90-4378-c07d-256ba1c47927"
      },
      "execution_count": null,
      "outputs": [
        {
          "output_type": "stream",
          "name": "stdout",
          "text": [
            "True\n",
            "False\n"
          ]
        }
      ]
    },
    {
      "cell_type": "code",
      "source": [
        "#bitwise operators(&,|,^,~,<<,>>)\n",
        "x=3\n",
        "y=2\n",
        "print(x&y)\n",
        "print(x|y)\n",
        "print(x^y)\n",
        "print(~x)\n",
        "print(x<<2)\n",
        "print(x>>2)\n",
        "\n",
        "\n",
        "\n"
      ],
      "metadata": {
        "colab": {
          "base_uri": "https://localhost:8080/"
        },
        "id": "BuDdcNXXhowq",
        "outputId": "750bcf9e-175b-4fea-cb0a-ddf38946e742"
      },
      "execution_count": null,
      "outputs": [
        {
          "output_type": "stream",
          "name": "stdout",
          "text": [
            "2\n",
            "3\n",
            "1\n",
            "-4\n",
            "12\n",
            "0\n"
          ]
        }
      ]
    },
    {
      "cell_type": "markdown",
      "source": [
        "Strings in python\n"
      ],
      "metadata": {
        "id": "1ZjJ5MRa2ZgJ"
      }
    },
    {
      "cell_type": "code",
      "source": [
        "print(\"Hello\")\n",
        "print('Hello')\n",
        "#Quotes Inside Quotes\n",
        "print(\"Hii I'm Madhuri\")\n",
        "print(\"She is called 'Madhuri'\")\n",
        "print('she is called \"Madhuri\"')\n",
        "#Assign string to a variable\n",
        "a = \"Hello\"\n",
        "print(a)\n",
        "#Multiline Strings\n",
        "a=\"\"\"Iam Madhuri,\n",
        "Iam 21 Years Old,\n",
        "I have completed my Graduation.\"\"\"\n",
        "print(a)\n",
        "#Strings are Arrays\n",
        "a = \"Iam Madhuri\"\n",
        "print(a[3])\n",
        "print(a[5])\n",
        "#Looping Through a String\n",
        "for i in \"Madhuri\":\n",
        "  print(i)\n",
        "#String Length\n",
        "a=\"Iam Madhuri\"\n",
        "print(len(a))\n",
        "#Check string\n",
        "txt=\"Iam Madhuri Ravuru\"\n",
        "print(\"Madhuri\" in txt)\n",
        "#using if\n",
        "if \"Iam\" in txt:\n",
        "  print(\"Iam in text\")\n",
        "  #using not in\n",
        "print(\"Madhuri\" not in txt)\n",
        "#slicing\n",
        "a=\"Iam Madhuri \"\n",
        "print(a[2:5])\n",
        "#Slice From the Start\n",
        "print(a[:5])\n",
        "#Slice To the End\n",
        "print(a[2:])\n",
        "#negative slicing\n",
        "print(a[-6:-1])\n",
        "#Upper Case\n",
        "print(a.upper())\n",
        "print(a.lower())\n",
        "#Remove space\n",
        "print(a.strip())\n",
        "#Replace String\n",
        "print(a.replace(\"M\",\"H\"))\n",
        "#Split String\n",
        "print(a.split(\" \"))\n",
        "#String Concatenation\n",
        "a = \"Hello\"\n",
        "b = \"World\"\n",
        "c = a + b\n",
        "print(c)\n",
        "#Python - Format - Strings\n",
        "#F-Strings\n",
        "age = 21\n",
        "txt = f\"My name is Madhuri, I am {age}\"\n",
        "print(txt)\n",
        "price = 59\n",
        "txt = f\"The price is {price} dollars\"\n",
        "print(txt)\n",
        "price = 59\n",
        "txt = f\"The price is {price:.2f} dollars\"\n",
        "print(txt)\n",
        "txt = f\"The price is {20 * 59} dollars\"\n",
        "print(txt)\n",
        "#Escape Character\n",
        "txt = \"We are the so-called \\\"Vikings\\\" from the north.\"\n",
        "print(txt)\n"
      ],
      "metadata": {
        "colab": {
          "base_uri": "https://localhost:8080/"
        },
        "id": "vFpqnVJXmSWT",
        "outputId": "17dd4c2a-3b04-4781-89c4-a599738f3954"
      },
      "execution_count": null,
      "outputs": [
        {
          "output_type": "stream",
          "name": "stdout",
          "text": [
            "Hello\n",
            "Hello\n",
            "Hii I'm Madhuri\n",
            "She is called 'Madhuri'\n",
            "she is called \"Madhuri\"\n",
            "Hello\n",
            "Iam Madhuri,\n",
            "Iam 21 Years Old,\n",
            "I have completed my Graduation.\n",
            " \n",
            "a\n",
            "M\n",
            "a\n",
            "d\n",
            "h\n",
            "u\n",
            "r\n",
            "i\n",
            "11\n",
            "True\n",
            "Iam in text\n",
            "False\n",
            "m M\n",
            "Iam M\n",
            "m Madhuri \n",
            "dhuri\n",
            "IAM MADHURI \n",
            "iam madhuri \n",
            "Iam Madhuri\n",
            "Iam Hadhuri \n",
            "['Iam', 'Madhuri', '']\n",
            "HelloWorld\n",
            "My name is Madhuri, I am 21\n",
            "The price is 59 dollars\n",
            "The price is 59.00 dollars\n",
            "The price is 1180 dollars\n",
            "We are the so-called \"Vikings\" from the north.\n"
          ]
        }
      ]
    },
    {
      "cell_type": "markdown",
      "source": [
        "#list"
      ],
      "metadata": {
        "id": "qEZMk8lg2M8-"
      }
    },
    {
      "cell_type": "code",
      "source": [
        "thislist = [\"apple\", \"banana\", \"cherry\"]\n",
        "print(thislist)\n",
        "#List Length\n",
        "thislist = [\"apple\", \"banana\", \"cherry\"]\n",
        "print(len(thislist))\n",
        "#List Items - Data Types\n",
        "list1 = [\"apple\", \"banana\", \"cherry\"]\n",
        "list2 = [1, 5, 7, 9, 3]\n",
        "list3 = [True, False, False]\n",
        "#Access Items\n",
        "thislist = [\"apple\", \"banana\", \"cherry\"]\n",
        "print(thislist[1])\n",
        "#Negative Indexing\n",
        "list5 = [\"apple\", \"banana\", \"cherry\"]\n",
        "print(list5[-1])\n",
        "#Range of Indexes\n",
        "list6 = [\"apple\", \"banana\", \"cherry\", \"orange\", \"kiwi\", \"melon\", \"mango\"]\n",
        "print(list6[2:5])\n",
        "thislist = [\"apple\", \"banana\", \"cherry\", \"orange\", \"kiwi\", \"melon\", \"mango\"]\n",
        "print(thislist[:4])\n",
        "thislist = [\"apple\", \"banana\", \"cherry\", \"orange\", \"kiwi\", \"melon\", \"mango\"]\n",
        "print(thislist[2:])\n",
        "#Range of Negative Indexes\n",
        "thislist = [\"apple\", \"banana\", \"cherry\", \"orange\", \"kiwi\", \"melon\", \"mango\"]\n",
        "print(thislist[-4:-1])\n",
        "#Check if Item Exists\n",
        "thislist = [\"apple\", \"banana\", \"cherry\"]\n",
        "if \"apple\" in thislist:\n",
        "  print(\"Yes, 'apple' is in the fruits list\")\n",
        "#Change Item Value\n",
        "thislist = [\"apple\", \"banana\"]\n",
        "thislist[1] = \"blackcurrant\"\n",
        "print(thislist)\n",
        "#Change a Range of Item Values\n",
        "thislist = [\"apple\", \"banana\", \"cherry\", \"orange\", \"kiwi\", \"mango\"]\n",
        "thislist[1:3] = [\"blackcurrant\", \"watermelon\"]\n",
        "print(thislist)\n",
        "thislist = [\"apple\", \"banana\"]\n",
        "thislist[1:2] = [\"blackcurrant\", \"watermelon\"]\n",
        "print(thislist)\n",
        "thislist = [\"apple\", \"banana\", \"cherry\"]\n",
        "thislist[1:3] = [\"watermelon\"]\n",
        "print(thislist)\n",
        "#Insert Items\n",
        "thislist = [\"apple\", \"banana\", \"cherry\"]\n",
        "thislist.insert(2,\"watermelon\")\n",
        "print(thislist)\n",
        "#Append Items\n",
        "thislist = [\"apple\", \"banana\", \"cherry\"]\n",
        "thislist.append(\"orange\")\n",
        "print(thislist)\n",
        "#insert of items\n",
        "thislist = [\"apple\", \"banana\", \"cherry\"]\n",
        "thislist.insert(1, \"orange\")\n",
        "print(thislist)\n",
        "#Extend List\n",
        "thislist = [\"apple\", \"banana\", \"cherry\"]\n",
        "tropical = [\"mango\", \"pineapple\", \"papaya\"]\n",
        "thislist.extend(tropical)\n",
        "print(thislist)\n"
      ],
      "metadata": {
        "colab": {
          "base_uri": "https://localhost:8080/"
        },
        "id": "GW3BhxKzxtNv",
        "outputId": "b898bd77-f13a-4d8e-c40e-ef6aba8c405f"
      },
      "execution_count": null,
      "outputs": [
        {
          "output_type": "stream",
          "name": "stdout",
          "text": [
            "['apple', 'banana', 'cherry']\n",
            "3\n",
            "banana\n",
            "cherry\n",
            "['cherry', 'orange', 'kiwi']\n",
            "['apple', 'banana', 'cherry', 'orange']\n",
            "['cherry', 'orange', 'kiwi', 'melon', 'mango']\n",
            "['orange', 'kiwi', 'melon']\n",
            "Yes, 'apple' is in the fruits list\n",
            "['apple', 'blackcurrant']\n",
            "['apple', 'blackcurrant', 'watermelon', 'orange', 'kiwi', 'mango']\n",
            "['apple', 'blackcurrant', 'watermelon']\n",
            "['apple', 'watermelon']\n",
            "['apple', 'banana', 'watermelon', 'cherry']\n",
            "['apple', 'banana', 'cherry', 'orange']\n",
            "['apple', 'orange', 'banana', 'cherry']\n",
            "['apple', 'banana', 'cherry', 'mango', 'pineapple', 'papaya']\n"
          ]
        }
      ]
    },
    {
      "cell_type": "code",
      "source": [
        "#Add Any Iterable\n",
        "thislist = [\"apple\", \"banana\", \"cherry\"]\n",
        "thistuple = (\"kiwi\", \"orange\")\n",
        "thislist.extend(thistuple)\n",
        "print(thislist)\n",
        "#Remove Specified Item\n",
        "thislist = [\"apple\", \"banana\", \"cherry\"]\n",
        "thislist.remove(\"banana\")\n",
        "print(thislist)\n",
        "#Remove Specified Index\n",
        "thislist = [\"apple\", \"banana\", \"cherry\"]\n",
        "thislist.pop(1)\n",
        "print(thislist)\n",
        "thislist = [\"apple\", \"banana\", \"cherry\"]\n",
        "thislist.pop()\n",
        "print(thislist)#removes last item\n",
        "thislist = [\"apple\", \"banana\", \"cherry\"]\n",
        "del thislist[0]\n",
        "print(thislist)\n",
        "#Clear the List\n",
        "thislist = [\"apple\", \"banana\", \"cherry\"]\n",
        "thislist.clear()\n",
        "print(thislist)\n",
        "#Loop Through a List\n",
        "thislist = [\"apple\", \"banana\", \"cherry\"]\n",
        "for x in thislist:\n",
        "  print(x)\n",
        "#Loop Through the Index Numbers\n",
        "thislist = [\"apple\", \"banana\", \"cherry\"]\n",
        "for i in range(len(thislist)):\n",
        "  print(thislist[i])"
      ],
      "metadata": {
        "colab": {
          "base_uri": "https://localhost:8080/"
        },
        "id": "a7Fuj3gSzDSp",
        "outputId": "5b22977a-da69-46c2-c0f4-1e2c5db56f01"
      },
      "execution_count": null,
      "outputs": [
        {
          "output_type": "stream",
          "name": "stdout",
          "text": [
            "['apple', 'banana', 'cherry', 'kiwi', 'orange']\n",
            "['apple', 'cherry']\n",
            "['apple', 'cherry']\n",
            "['apple', 'banana']\n",
            "['banana', 'cherry']\n",
            "[]\n",
            "apple\n",
            "banana\n",
            "cherry\n",
            "apple\n",
            "banana\n",
            "cherry\n"
          ]
        }
      ]
    },
    {
      "cell_type": "code",
      "source": [
        "#Using a While Loop\n",
        "thislist = [\"apple\", \"banana\", \"cherry\"]\n",
        "i = 0\n",
        "while i < len(thislist):\n",
        "  print(thislist[i])\n",
        "  i = i + 1\n",
        "#Looping Using List Comprehension\n",
        "thislist = [\"apple\", \"banana\", \"cherry\"]\n",
        "[print(x) for x in thislist]\n",
        "#List Comprehension\n",
        "fruits = [\"apple\", \"banana\", \"cherry\", \"kiwi\", \"mango\"]\n",
        "newlist = []\n",
        "\n",
        "for x in fruits:\n",
        "  if \"a\" in x:\n",
        "    newlist.append(x)\n",
        "\n",
        "print(newlist)\n",
        "#or\n",
        "fruits = [\"apple\", \"banana\", \"cherry\", \"kiwi\", \"mango\"]\n",
        "\n",
        "newlist = [x for x in fruits if \"a\" in x]\n",
        "\n",
        "print(newlist)\n",
        "newlist = [x for x in fruits if x != \"apple\"]\n",
        "print(newlist)\n",
        "newlist = [x for x in fruits]\n",
        "print(newlist)\n",
        "newlist = [x for x in range(10)]\n",
        "print(newlist)\n",
        "newlist = [x for x in range(10) if x < 5]\n",
        "print(newlist)\n",
        "newlist = [x.upper() for x in fruits]\n",
        "print(newlist)\n",
        "newlist = ['hello' for x in fruits]\n",
        "print(newlist)\n",
        "newlist = [x if x != \"banana\" else \"orange\" for x in fruits]\n",
        "print(newlist)\n",
        "#Sort List Alphanumerically\n",
        "thislist = [\"orange\", \"mango\", \"kiwi\", \"pineapple\", \"banana\"]\n",
        "thislist.sort()\n",
        "print(thislist)\n",
        "thislist = [100, 50, 65, 82, 23]\n",
        "thislist.sort()\n",
        "print(thislist)\n",
        "thislist = [\"orange\", \"mango\", \"kiwi\", \"pineapple\", \"banana\"]\n",
        "thislist.sort(reverse = True)\n",
        "print(thislist)#sort the listin descending order"
      ],
      "metadata": {
        "colab": {
          "base_uri": "https://localhost:8080/"
        },
        "id": "hzykMaEgzxmM",
        "outputId": "b56303d6-3f6c-44fc-9981-72eb7249556b"
      },
      "execution_count": null,
      "outputs": [
        {
          "output_type": "stream",
          "name": "stdout",
          "text": [
            "apple\n",
            "banana\n",
            "cherry\n",
            "apple\n",
            "banana\n",
            "cherry\n",
            "['apple', 'banana', 'mango']\n",
            "['apple', 'banana', 'mango']\n",
            "['banana', 'cherry', 'kiwi', 'mango']\n",
            "['apple', 'banana', 'cherry', 'kiwi', 'mango']\n",
            "[0, 1, 2, 3, 4, 5, 6, 7, 8, 9]\n",
            "[0, 1, 2, 3, 4]\n",
            "['APPLE', 'BANANA', 'CHERRY', 'KIWI', 'MANGO']\n",
            "['hello', 'hello', 'hello', 'hello', 'hello']\n",
            "['apple', 'orange', 'cherry', 'kiwi', 'mango']\n",
            "['banana', 'kiwi', 'mango', 'orange', 'pineapple']\n",
            "[23, 50, 65, 82, 100]\n",
            "['pineapple', 'orange', 'mango', 'kiwi', 'banana']\n"
          ]
        }
      ]
    },
    {
      "cell_type": "code",
      "source": [
        "\n",
        "\n",
        "\n",
        "#Case Insensitive Sort\n",
        "thislist = [\"banana\", \"Orange\", \"Kiwi\", \"cherry\"]\n",
        "thislist.sort()\n",
        "print(thislist)\n",
        "#Reverse Order\n",
        "thislist = [\"banana\", \"Orange\", \"Kiwi\", \"cherry\"]\n",
        "thislist.reverse()\n",
        "print(thislist)\n",
        "#copy method\n",
        "thislist = [\"apple\", \"banana\", \"cherry\"]\n",
        "mylist = thislist.copy()\n",
        "print(mylist)\n",
        "#using slice operator\n",
        "thislist = [\"apple\", \"banana\", \"cherry\"]\n",
        "mylist = thislist[:]\n",
        "print(mylist)\n",
        "#joining of lists\n",
        "list1 = [\"a\", \"b\", \"c\"]\n",
        "list2 = [1, 2, 3]\n",
        "list3 = list1 + list2\n",
        "print(list3)\n",
        "#Append list2 into list1:\n",
        "list1 = [\"a\", \"b\" , \"c\"]\n",
        "list2 = [1, 2, 3]\n",
        "for x in list2:\n",
        "  list1.append(x)\n",
        "print(list1)\n"
      ],
      "metadata": {
        "id": "LjWdJ3QQ2Oko",
        "colab": {
          "base_uri": "https://localhost:8080/"
        },
        "outputId": "161f8202-4e8d-4205-ba7b-108e525c68bc"
      },
      "execution_count": null,
      "outputs": [
        {
          "output_type": "stream",
          "name": "stdout",
          "text": [
            "['Kiwi', 'Orange', 'banana', 'cherry']\n",
            "['cherry', 'Kiwi', 'Orange', 'banana']\n",
            "['apple', 'banana', 'cherry']\n",
            "['apple', 'banana', 'cherry']\n",
            "['a', 'b', 'c', 1, 2, 3]\n",
            "['a', 'b', 'c', 1, 2, 3]\n"
          ]
        }
      ]
    },
    {
      "cell_type": "markdown",
      "source": [
        "Tuple\n"
      ],
      "metadata": {
        "id": "J1r3kbT41DLk"
      }
    },
    {
      "cell_type": "code",
      "source": [
        "mytuple = (\"apple\", \"banana\", \"cherry\")\n",
        "print(mytuple)\n",
        "thistuple = (\"apple\", \"banana\", \"cherry\", \"apple\", \"cherry\")\n",
        "print(thistuple)\n",
        "#tuple length\n",
        "thistuple = (\"apple\", \"banana\", \"cherry\")\n",
        "print(len(thistuple))\n",
        "#Create Tuple With One Item\n",
        "thistuple = (\"apple\",)\n",
        "print(type(thistuple))\n",
        "\n",
        "#NOT a tuple\n",
        "thistuple = (\"apple\")\n",
        "print(type(thistuple))\n",
        "#Data Types\n",
        "tuple1 = (\"apple\", \"banana\", \"cherry\")\n",
        "tuple2 = (1, 5, 7, 9, 3)\n",
        "tuple3 = (True, False, False)\n",
        "tuple1 = (\"abc\", 34, True, 40, \"male\")\n",
        "print(tuple1)\n",
        "mytuple = (\"apple\", \"banana\", \"cherry\")\n",
        "print(type(mytuple))\n",
        "#access of items\n",
        "thistuple = (\"apple\", \"banana\", \"cherry\")\n",
        "print(thistuple[1])\n",
        "#negative indexing\n",
        "thistuple = (\"apple\", \"banana\", \"cherry\")\n",
        "print(thistuple[-1])\n",
        "#Range of Indexes\n",
        "thistuple = (\"apple\", \"banana\", \"cherry\", \"orange\", \"kiwi\", \"melon\", \"mango\")\n",
        "print(thistuple[2:5])\n",
        "thistuple = (\"apple\", \"banana\", \"cherry\", \"orange\", \"kiwi\", \"melon\", \"mango\")\n",
        "print(thistuple[:4])\n",
        "thistuple = (\"apple\", \"banana\", \"cherry\", \"orange\", \"kiwi\", \"melon\", \"mango\")\n",
        "print(thistuple[2:])\n",
        "#Range of Negative Indexes\n",
        "thistuple = (\"apple\", \"banana\", \"cherry\", \"orange\", \"kiwi\", \"melon\", \"mango\")\n",
        "print(thistuple[-4:-1])\n",
        "#Check if Item Exists\n",
        "thistuple = (\"apple\", \"banana\", \"cherry\")\n",
        "if \"apple\" in thistuple:\n",
        "  print(\"Yes, 'apple' is in the fruits tuple\")\n",
        "#Change Tuple Values\n",
        "x = (\"apple\", \"banana\", \"cherry\")\n",
        "y = list(x)\n",
        "y[1] = \"kiwi\"\n",
        "x = tuple(y)\n",
        "print(x)"
      ],
      "metadata": {
        "colab": {
          "base_uri": "https://localhost:8080/"
        },
        "id": "VyPMyxs11LdX",
        "outputId": "16316e8e-ea2b-4a6c-e88a-48f2ba4c367a"
      },
      "execution_count": null,
      "outputs": [
        {
          "output_type": "stream",
          "name": "stdout",
          "text": [
            "('apple', 'banana', 'cherry')\n",
            "('apple', 'banana', 'cherry', 'apple', 'cherry')\n",
            "3\n",
            "<class 'tuple'>\n",
            "<class 'str'>\n",
            "('abc', 34, True, 40, 'male')\n",
            "<class 'tuple'>\n",
            "banana\n",
            "cherry\n",
            "('cherry', 'orange', 'kiwi')\n",
            "('apple', 'banana', 'cherry', 'orange')\n",
            "('cherry', 'orange', 'kiwi', 'melon', 'mango')\n",
            "('orange', 'kiwi', 'melon')\n",
            "Yes, 'apple' is in the fruits tuple\n",
            "('apple', 'kiwi', 'cherry')\n"
          ]
        }
      ]
    },
    {
      "cell_type": "code",
      "source": [
        "from typing import TypeGuard\n",
        "\n",
        "#add items\n",
        "thistuple = (\"apple\", \"banana\", \"cherry\")\n",
        "y = list(thistuple)\n",
        "y.append(\"orange\")\n",
        "thistuple = tuple(y)\n",
        "print(thistuple)\n",
        "thistuple = (\"apple\", \"banana\", \"cherry\")\n",
        "y = (\"orange\",)\n",
        "thistuple += y\n",
        "print(thistuple)\n",
        "#remove items\n",
        "thistuple = (\"apple\", \"banana\", \"cherry\")\n",
        "y = list(thistuple)\n",
        "y.remove(\"apple\")\n",
        "thistuple = tuple(y)\n",
        "print(thistuple)\n",
        "#Unpacking a tuple:\n",
        "fruits = (\"apple\", \"banana\", \"cherry\")\n",
        "(green, yellow, red) = fruits\n",
        "print(green)\n",
        "print(yellow)\n",
        "print(red)\n",
        "#Using Asterisk*\n",
        "fruits = (\"apple\", \"banana\", \"cherry\", \"strawberry\", \"raspberry\")\n",
        "(green, yellow, *red) = fruits\n",
        "print(green)\n",
        "print(yellow)\n",
        "print(red)\n",
        "#Join Two Tuples\n",
        "tuple1 = (\"a\", \"b\" , \"c\")\n",
        "tuple2 = (1, 2, 3)\n",
        "tuple3 = tuple1 + tuple2\n",
        "print(tuple3)\n",
        "fruits = (\"apple\", \"banana\", \"cherry\")\n",
        "mytuple = fruits * 2\n",
        "print(mytuple)"
      ],
      "metadata": {
        "colab": {
          "base_uri": "https://localhost:8080/"
        },
        "id": "YxLzLWAjWlJH",
        "outputId": "c84db25c-54e1-409b-e540-61b4190ca032"
      },
      "execution_count": null,
      "outputs": [
        {
          "output_type": "stream",
          "name": "stdout",
          "text": [
            "('apple', 'banana', 'cherry', 'orange')\n",
            "('apple', 'banana', 'cherry', 'orange')\n",
            "('banana', 'cherry')\n",
            "apple\n",
            "banana\n",
            "cherry\n",
            "apple\n",
            "banana\n",
            "['cherry', 'strawberry', 'raspberry']\n",
            "('a', 'b', 'c', 1, 2, 3)\n",
            "('apple', 'banana', 'cherry', 'apple', 'banana', 'cherry')\n"
          ]
        }
      ]
    },
    {
      "cell_type": "markdown",
      "source": [
        "Set\n"
      ],
      "metadata": {
        "id": "kGT0K_ifTsUh"
      }
    },
    {
      "cell_type": "code",
      "source": [
        "# Empty set\n",
        "s = set()\n",
        "s1 = {1, 2, 3, 4, 5}\n",
        "s2 = {\"Madhuri\", 25, True, 9.5}\n",
        "print(s)\n",
        "print(s1)\n",
        "print(s2)\n",
        "s = {1, 2, 3}\n",
        "# Adding single element\n",
        "s.add(4)\n",
        "print(s)\n",
        "# Adding multiple elements\n",
        "s = {1, 2, 3}\n",
        "s.update([5, 6, 7])\n",
        "print(s)\n",
        "# Removing elements\n",
        "s = {1, 2, 3}\n",
        "s.remove(2)\n",
        "print(s)\n",
        "s.discard(10)\n",
        "print(s)\n",
        "s = {1, 2, 3}\n",
        "s.pop()\n",
        "print(s)\n",
        "a = {1, 2, 3, 4}\n",
        "b = {3, 4, 5, 6}\n",
        "# Subset & Superset\n",
        "print({1, 2}.issubset(a))\n",
        "print(b.issuperset({3, 4}))\n",
        "#set methods\n",
        "s = {1, 2, 3, 4}\n",
        "print(len(s))\n",
        "print(max(s))\n",
        "print(min(s))\n",
        "print(sum(s))\n",
        "print(3 in s)\n",
        "s.clear()\n",
        "# Union\n",
        "print(a | b)\n",
        "# Intersection\n",
        "print(a & b)\n",
        "# Difference\n",
        "print(a - b)\n",
        "# Symmetric Difference\n",
        "print(a ^ b)\n",
        "thisset = {\"apple\", \"banana\", \"cherry\"}\n",
        "for x in thisset:\n",
        "  print(x)\n",
        "thisset = {\"apple\", \"banana\", \"cherry\"}\n",
        "thisset.add(\"orange\")\n",
        "print(thisset)\n",
        "thisset = {\"apple\", \"banana\", \"cherry\"}\n",
        "tropical = {\"pineapple\", \"mango\", \"papaya\"}\n",
        "thisset.update(tropical)\n",
        "print(thisset)\n",
        "#pop\n",
        "thisset={'apple','banana','cherry'}\n",
        "x=thisset.pop()\n",
        "print(x)\n",
        "print(thisset)\n"
      ],
      "metadata": {
        "colab": {
          "base_uri": "https://localhost:8080/"
        },
        "id": "L7hguMF6TuA5",
        "outputId": "2142e3fb-c7b5-4d5e-99eb-fedaa357f9fa"
      },
      "execution_count": null,
      "outputs": [
        {
          "output_type": "stream",
          "name": "stdout",
          "text": [
            "set()\n",
            "{1, 2, 3, 4, 5}\n",
            "{25, 'Madhuri', True, 9.5}\n",
            "{1, 2, 3, 4}\n",
            "{1, 2, 3, 5, 6, 7}\n",
            "{1, 3}\n",
            "{1, 3}\n",
            "{2, 3}\n",
            "True\n",
            "True\n",
            "4\n",
            "4\n",
            "1\n",
            "10\n",
            "True\n",
            "{1, 2, 3, 4, 5, 6}\n",
            "{3, 4}\n",
            "{1, 2}\n",
            "{1, 2, 5, 6}\n",
            "banana\n",
            "cherry\n",
            "apple\n",
            "{'banana', 'cherry', 'apple', 'orange'}\n",
            "{'pineapple', 'papaya', 'apple', 'banana', 'cherry', 'mango'}\n",
            "banana\n",
            "{'cherry', 'apple'}\n"
          ]
        }
      ]
    },
    {
      "cell_type": "markdown",
      "source": [
        "Dictionary"
      ],
      "metadata": {
        "id": "L7OblEtqZJHg"
      }
    },
    {
      "cell_type": "code",
      "source": [
        "d = {}\n",
        "student = {\"name\": \"Madhuri\", \"age\": 22, \"course\": \"CSE\"}\n",
        "data = dict(id=101, branch=\"CSE\")\n",
        "#storing data\n",
        "student = {}\n",
        "student[\"name\"] = \"Madhuri\"\n",
        "student[\"age\"] = 22\n",
        "student[\"course\"] = \"CSE\"\n",
        "print(student)\n",
        "#Dictionary Keys and Values\n",
        "student = {\"name\": \"Madhuri\", \"age\": 22, \"course\": \"CSE\"}\n",
        "print(student.keys())\n",
        "print(student.values())\n",
        "print(student.items())\n",
        "#Accessing Elements of Dictionaries\n",
        "student = {\"name\": \"Madhuri\", \"age\": 22, \"course\": \"CSE\"}\n",
        "print(student[\"name\"])\n",
        "print(student.get(\"age\"))\n",
        "print(student.get(\"grade\", \"Not Available\"))\n",
        "#Dictionary Methods\n",
        "student = {\"name\": \"Madhuri\", \"age\": 22, \"course\": \"CSE\"}\n",
        "student.update({\"grade\": \"A\"})\n",
        "print(student)\n",
        "student.pop(\"age\")\n",
        "print(student)\n",
        "student.popitem()\n",
        "print(student)\n",
        "copy_student = student.copy()\n",
        "print(copy_student)\n",
        "student.clear()\n",
        "#Dictionary Comprehension\n",
        "squares = {x: x*x for x in range(1, 6)}\n",
        "print(squares)\n",
        "even_squares = {x: x*x for x in range(1, 11) if x % 2 == 0}\n",
        "print(even_squares)\n",
        "#Remove duplicate values\n",
        "d = {\"a\": 1, \"b\": 2, \"c\": 1, \"d\": 3}\n",
        "unique = {}\n",
        "for k, v in d.items():\n",
        "    if v not in unique.values():\n",
        "        unique[k] = v\n",
        "print(unique)\n",
        "#Nested dictionary\n",
        "students = {\n",
        "    101: {\"name\": \"Madhuri\", \"branch\": \"CSE\", \"marks\": 90},\n",
        "    102: {\"name\": \"kamakshi\", \"branch\": \"ECE\", \"marks\": 85}\n",
        "}\n",
        "print(students)\n",
        "print(students[101][\"marks\"])\n",
        "for x in students:\n",
        "  print(x)\n",
        "for x in students:\n",
        "  print(students[x])\n",
        "for x, y in students.items():\n",
        "  print(x, y)\n",
        "thisdict = {\n",
        "  \"brand\": \"Ford\",\n",
        "  \"model\": \"Mustang\",\n",
        "  \"year\": 1964\n",
        "}\n",
        "mydict = dict(thisdict)\n",
        "print(mydict)\n",
        "#nested dictionaries\n",
        "myfamily = {\n",
        "  \"child1\" : {\n",
        "    \"name\" : \"Emil\",\n",
        "    \"year\" : 2004\n",
        "  },\n",
        "  \"child2\" : {\n",
        "    \"name\" : \"Tobias\",\n",
        "    \"year\" : 2007\n",
        "  },\n",
        "  \"child3\" : {\n",
        "    \"name\" : \"Linus\",\n",
        "    \"year\" : 2011\n",
        "  }\n",
        "}"
      ],
      "metadata": {
        "colab": {
          "base_uri": "https://localhost:8080/"
        },
        "id": "sc6nnKl8ZK-_",
        "outputId": "5a7d3eb6-5713-44eb-bb9e-8edc260dec38"
      },
      "execution_count": null,
      "outputs": [
        {
          "output_type": "stream",
          "name": "stdout",
          "text": [
            "{'name': 'Madhuri', 'age': 22, 'course': 'CSE'}\n",
            "dict_keys(['name', 'age', 'course'])\n",
            "dict_values(['Madhuri', 22, 'CSE'])\n",
            "dict_items([('name', 'Madhuri'), ('age', 22), ('course', 'CSE')])\n",
            "Madhuri\n",
            "22\n",
            "Not Available\n",
            "{'name': 'Madhuri', 'age': 22, 'course': 'CSE', 'grade': 'A'}\n",
            "{'name': 'Madhuri', 'course': 'CSE', 'grade': 'A'}\n",
            "{'name': 'Madhuri', 'course': 'CSE'}\n",
            "{'name': 'Madhuri', 'course': 'CSE'}\n",
            "{1: 1, 2: 4, 3: 9, 4: 16, 5: 25}\n",
            "{2: 4, 4: 16, 6: 36, 8: 64, 10: 100}\n",
            "{'a': 1, 'b': 2, 'd': 3}\n",
            "{101: {'name': 'Madhuri', 'branch': 'CSE', 'marks': 90}, 102: {'name': 'kamakshi', 'branch': 'ECE', 'marks': 85}}\n",
            "90\n",
            "101\n",
            "102\n",
            "{'name': 'Madhuri', 'branch': 'CSE', 'marks': 90}\n",
            "{'name': 'kamakshi', 'branch': 'ECE', 'marks': 85}\n",
            "101 {'name': 'Madhuri', 'branch': 'CSE', 'marks': 90}\n",
            "102 {'name': 'kamakshi', 'branch': 'ECE', 'marks': 85}\n",
            "{'brand': 'Ford', 'model': 'Mustang', 'year': 1964}\n"
          ]
        }
      ]
    },
    {
      "cell_type": "markdown",
      "source": [
        "Python conditional statements\n"
      ],
      "metadata": {
        "id": "28qZt9kIow36"
      }
    },
    {
      "cell_type": "code",
      "source": [
        "#if statement\n",
        "x = 10\n",
        "if x > 5:\n",
        "    print(\"x is greater than 5\")\n",
        "#If-Else Statement\n",
        "num = 7\n",
        "if num % 2 == 0:\n",
        "    print(\"Even number\")\n",
        "else:\n",
        "    print(\"Odd number\")\n",
        "#if-elif-else statements\n",
        "a = 33\n",
        "b = 33\n",
        "if b > a:\n",
        "  print(\"b is greater than a\")\n",
        "elif a == b:\n",
        "  print(\"a and b are equal\")\n",
        "marks = 85\n",
        "if marks >= 90:\n",
        "    print(\"Grade A\")\n",
        "elif marks >= 75:\n",
        "    print(\"Grade B\")\n",
        "elif marks >= 50:\n",
        "    print(\"Grade C\")\n",
        "else:\n",
        "    print(\"Fail\")\n",
        "#ternary operator\n",
        "num = 10\n",
        "result = \"Even\" if num % 2 == 0 else \"Odd\"\n",
        "print(result)\n",
        "a = 33\n",
        "b = 33\n",
        "if b > a:\n",
        "  print(\"b is greater than a\")\n",
        "elif a == b:\n",
        "  print(\"a and b are equal\")\n",
        "#and\n",
        "a = 200\n",
        "b = 33\n",
        "c = 500\n",
        "if a > b and c > a:\n",
        "  print(\"Both conditions are True\")\n",
        "#or\n",
        "a = 200\n",
        "b = 33\n",
        "c = 500\n",
        "if a > b or a > c:\n",
        "  print(\"At least one of the conditions is True\")\n",
        "#not\n",
        "a = 33\n",
        "b = 200\n",
        "if not a > b:\n",
        "  print(\"a is NOT greater than b\")\n",
        "a = 33\n",
        "b = 200\n",
        "\n",
        "if b > a:\n",
        "  pass\n",
        "\n",
        "#nested if\n",
        "x = 41\n",
        "if x > 10:\n",
        "  print(\"Above ten,\")\n",
        "  if x > 20:\n",
        "    print(\"and also above 20!\")\n",
        "  else:\n",
        "    print(\"but not above 20.\")\n",
        "#match statemet\n",
        "day = 4\n",
        "match day:\n",
        "  case 1:\n",
        "    print(\"Monday\")\n",
        "  case 2:\n",
        "    print(\"Tuesday\")\n",
        "  case 3:\n",
        "    print(\"Wednesday\")\n",
        "  case 4:\n",
        "    print(\"Thursday\")\n",
        "  case 5:\n",
        "    print(\"Friday\")\n",
        "  case 6:\n",
        "    print(\"Saturday\")\n",
        "  case 7:\n",
        "    print(\"Sunday\")\n",
        "#default value\n",
        "day = 4\n",
        "match day:\n",
        "  case 6:\n",
        "    print(\"Today is Saturday\")\n",
        "  case 7:\n",
        "    print(\"Today is Sunday\")\n",
        "  case _:\n",
        "    print(\"Looking forward to the Weekend\")"
      ],
      "metadata": {
        "colab": {
          "base_uri": "https://localhost:8080/"
        },
        "id": "l50qLH7RozBp",
        "outputId": "95ea0d8d-c618-4740-cdb0-40bb4c6f3357"
      },
      "execution_count": null,
      "outputs": [
        {
          "output_type": "stream",
          "name": "stdout",
          "text": [
            "x is greater than 5\n",
            "Odd number\n",
            "a and b are equal\n",
            "Grade B\n",
            "Even\n",
            "a and b are equal\n",
            "Both conditions are True\n",
            "At least one of the conditions is True\n",
            "a is NOT greater than b\n",
            "Above ten,\n",
            "and also above 20!\n",
            "Thursday\n"
          ]
        }
      ]
    },
    {
      "cell_type": "markdown",
      "source": [
        " Loops in Python\n"
      ],
      "metadata": {
        "id": "4kO73jdsT4gI"
      }
    },
    {
      "cell_type": "code",
      "source": [
        "#while loop\n",
        "i = 1\n",
        "while i < 6:\n",
        "  print(i)\n",
        "  i += 1\n",
        "#break statement\n",
        "i = 1\n",
        "while i < 6:\n",
        "  print(i)\n",
        "  if i == 3:\n",
        "    break\n",
        "  i += 1\n",
        "#continue statement\n",
        "i=1\n",
        "while i<6:\n",
        "  i+=1\n",
        "  if i==3:\n",
        "    continue\n",
        "  print(i)\n",
        "#the else statement\n",
        "i = 1\n",
        "while i < 6:\n",
        "  print(i)\n",
        "  i += 1\n",
        "else:\n",
        "  print(\"i is no longer less than 6\")\n"
      ],
      "metadata": {
        "id": "mC-wX6RCszdI",
        "colab": {
          "base_uri": "https://localhost:8080/"
        },
        "outputId": "7c5bce86-8d84-42ac-f6e7-c8bd5f7c7c5f"
      },
      "execution_count": null,
      "outputs": [
        {
          "output_type": "stream",
          "name": "stdout",
          "text": [
            "1\n",
            "2\n",
            "3\n",
            "4\n",
            "5\n",
            "1\n",
            "2\n",
            "3\n",
            "2\n",
            "4\n",
            "5\n",
            "6\n",
            "1\n",
            "2\n",
            "3\n",
            "4\n",
            "5\n",
            "i is no longer less than 6\n"
          ]
        }
      ]
    },
    {
      "cell_type": "markdown",
      "source": [
        "python for loops"
      ],
      "metadata": {
        "id": "ztmgqMUtZUhu"
      }
    },
    {
      "cell_type": "code",
      "source": [
        "fruits = [\"apple\", \"banana\", \"cherry\"]\n",
        "for x in fruits:\n",
        "  print(x)\n",
        "#looping through a string\n",
        "for x in 'madhuri':\n",
        "  print(x)\n",
        "fruits = [\"apple\", \"banana\", \"cherry\"]\n",
        "for x in fruits:\n",
        "  print(x)\n",
        "  if x == \"banana\":\n",
        "    break\n",
        "fruits = [\"apple\", \"banana\", \"cherry\"]\n",
        "for x in fruits:\n",
        "  if x == \"banana\":\n",
        "    break\n",
        "  print(x)\n",
        "for x in range(6):\n",
        "  print(x)\n",
        "print(\"---\")\n",
        "for x in range(2, 6):\n",
        "  print(x)\n",
        "print(\"---\")\n",
        "for x in range(2, 30, 3):\n",
        "  print(x)\n",
        "print(\"---\")\n",
        "for x in range(6):\n",
        "  print(x)\n",
        "else:\n",
        "  print(\"Finally finished!\")\n",
        "print(\"---\")\n",
        "for x in range(6):\n",
        "  print(x)\n",
        "else:\n",
        "  print(\"Finally finished!\")\n",
        "print(\"----\")\n",
        "#nested loops\n",
        "adj = [\"red\", \"big\", \"tasty\"]\n",
        "fruits = [\"apple\", \"banana\", \"cherry\"]\n",
        "for x in adj:\n",
        "  for y in fruits:\n",
        "    print(x, y)\n",
        "#enumerate\n",
        "fruits = [\"apple\", \"banana\", \"cherry\"]\n",
        "for index, fruit in enumerate(fruits):\n",
        "    print(index, fruit)\n",
        "#zip\n",
        "names = [\"Madhuri\", \"kamakshi\",\"dhana\",\"manasa\"]\n",
        "scores = [95, 90,50,60]\n",
        "for name, score in zip(names, scores):\n",
        "    print(name, score)\n"
      ],
      "metadata": {
        "id": "kMtbnWj9szfN",
        "colab": {
          "base_uri": "https://localhost:8080/"
        },
        "outputId": "5535da85-458c-4d7e-919b-42f4aeb4f822"
      },
      "execution_count": null,
      "outputs": [
        {
          "output_type": "stream",
          "name": "stdout",
          "text": [
            "apple\n",
            "banana\n",
            "cherry\n",
            "m\n",
            "a\n",
            "d\n",
            "h\n",
            "u\n",
            "r\n",
            "i\n",
            "apple\n",
            "banana\n",
            "apple\n",
            "0\n",
            "1\n",
            "2\n",
            "3\n",
            "4\n",
            "5\n",
            "---\n",
            "2\n",
            "3\n",
            "4\n",
            "5\n",
            "---\n",
            "2\n",
            "5\n",
            "8\n",
            "11\n",
            "14\n",
            "17\n",
            "20\n",
            "23\n",
            "26\n",
            "29\n",
            "---\n",
            "0\n",
            "1\n",
            "2\n",
            "3\n",
            "4\n",
            "5\n",
            "Finally finished!\n",
            "---\n",
            "0\n",
            "1\n",
            "2\n",
            "3\n",
            "4\n",
            "5\n",
            "Finally finished!\n",
            "----\n",
            "red apple\n",
            "red banana\n",
            "red cherry\n",
            "big apple\n",
            "big banana\n",
            "big cherry\n",
            "tasty apple\n",
            "tasty banana\n",
            "tasty cherry\n",
            "0 apple\n",
            "1 banana\n",
            "2 cherry\n",
            "Madhuri 95\n",
            "kamakshi 90\n",
            "dhana 50\n",
            "manasa 60\n"
          ]
        }
      ]
    },
    {
      "cell_type": "markdown",
      "source": [
        "List and Dictionaries comprehension\n"
      ],
      "metadata": {
        "id": "G5fuQdOkXMPb"
      }
    },
    {
      "cell_type": "code",
      "source": [
        "#list comprehension\n",
        "squares = [x**2 for x in range(5)]\n",
        "print(squares)\n",
        "#dict comprehension\n",
        "squares = {x: x**2 for x in range(5)}\n",
        "print(squares)\n",
        "squares = {x: x*x for x in range(1, 6)}\n",
        "print(squares)\n",
        "even_squares = {x: x*x for x in range(1, 11) if x % 2 == 0}\n",
        "print(even_squares)"
      ],
      "metadata": {
        "id": "OfKYTFtweBJW",
        "colab": {
          "base_uri": "https://localhost:8080/"
        },
        "outputId": "3d2d5622-e9c5-4d13-c4c4-2b5ed449b795"
      },
      "execution_count": null,
      "outputs": [
        {
          "output_type": "stream",
          "name": "stdout",
          "text": [
            "[0, 1, 4, 9, 16]\n",
            "{0: 0, 1: 1, 2: 4, 3: 9, 4: 16}\n",
            "{1: 1, 2: 4, 3: 9, 4: 16, 5: 25}\n",
            "{2: 4, 4: 16, 6: 36, 8: 64, 10: 100}\n"
          ]
        }
      ]
    },
    {
      "cell_type": "markdown",
      "source": [
        "Functions\n"
      ],
      "metadata": {
        "id": "usmlG6nZdf_7"
      }
    },
    {
      "cell_type": "code",
      "source": [
        "#calling function\n",
        "def greek():\n",
        "  print(\"Hello\")\n",
        "greek()\n",
        "#passing arguements\n",
        "def name(fname):\n",
        "  print(\"Hii\",fname)\n",
        "name(\"Madhuri\")\n",
        "#positional arguements\n",
        "def student(name, age):\n",
        "    print(\"Name:\", name)\n",
        "    print(\"Age:\", age)\n",
        "student(\"Madhuri\", 22)\n",
        "#keyword arguements\n",
        "def addition(a,b):\n",
        "  print(a+b)\n",
        "addition(a=10,b=5)\n",
        "addition(b=3,a=4)#order doesn't matter here\n",
        "#variable length arguements\n",
        "def greet(*names):\n",
        "  print(\"Hello \"+names[3])\n",
        "greet(\"Madhuri\",\"kamakshi\",\"dhana\",\"manasa\")\n",
        "#variable keyword length arguements\n",
        "def name(**kid):\n",
        "  print(kid['fname']+ \" \"+kid['lname'] )\n",
        "name(fname='madhuri',lname='ravuru')\n",
        "#return\n",
        "def func(x):\n",
        "  return x*x\n",
        "func(5)\n",
        "#passing functions as arguements\n",
        "def names(name):\n",
        "  return f\"Hello,{name}\"\n",
        "def print_message(func):\n",
        "  message=func(\"madhuri\")\n",
        "  print(message)\n",
        "print_message(names)\n",
        "#passing function in return\n",
        "def outer():\n",
        "  def inner():\n",
        "    return \"Hello\"\n",
        "  return inner\n",
        "f=outer()\n",
        "print(f())\n",
        "#global and local variables\n",
        "x=8#global\n",
        "def my_funct(x):\n",
        "  y=5#local\n",
        "  return y*2\n",
        "my_funct(x)\n",
        "#recursion\n",
        "def fact(n):\n",
        "    if n == 1:\n",
        "        return 1\n",
        "    return n * fact(n-1)\n",
        "print(fact(10))"
      ],
      "metadata": {
        "colab": {
          "base_uri": "https://localhost:8080/"
        },
        "id": "PwT3Q1sK2l9t",
        "outputId": "5d31cea7-e7b2-4e76-d71a-c3b2114f193a"
      },
      "execution_count": null,
      "outputs": [
        {
          "output_type": "stream",
          "name": "stdout",
          "text": [
            "Hello\n",
            "Hii Madhuri\n",
            "Name: Madhuri\n",
            "Age: 22\n",
            "15\n",
            "7\n",
            "Hello manasa\n",
            "madhuri ravuru\n",
            "Hello,madhuri\n",
            "Hello\n",
            "3628800\n"
          ]
        }
      ]
    },
    {
      "cell_type": "markdown",
      "source": [
        "Practice problems"
      ],
      "metadata": {
        "id": "OuedZ_rOEhIQ"
      }
    },
    {
      "cell_type": "markdown",
      "source": [
        "Converting an integer into decimal"
      ],
      "metadata": {
        "id": "cxb91y87QXON"
      }
    },
    {
      "cell_type": "code",
      "source": [
        "import decimal\n",
        "integer=123.5\n",
        "print(decimal.Decimal(integer))\n",
        "print(type(decimal.Decimal(integer)))"
      ],
      "metadata": {
        "colab": {
          "base_uri": "https://localhost:8080/"
        },
        "id": "wXuUn-01EfVD",
        "outputId": "58997d01-0264-48f8-a68b-63741702d1fa"
      },
      "execution_count": null,
      "outputs": [
        {
          "output_type": "stream",
          "name": "stdout",
          "text": [
            "123.5\n",
            "<class 'decimal.Decimal'>\n"
          ]
        }
      ]
    },
    {
      "cell_type": "markdown",
      "source": [
        "Converting an integer into decimal"
      ],
      "metadata": {
        "id": "DuB6z3-_RSpc"
      }
    },
    {
      "cell_type": "code",
      "source": [
        "import decimal\n",
        "string='12345'\n",
        "print(decimal.Decimal(string))\n",
        "print(type(decimal.Decimal(string)))"
      ],
      "metadata": {
        "colab": {
          "base_uri": "https://localhost:8080/"
        },
        "id": "WeYZixFTRQGM",
        "outputId": "7472e717-0d5f-4fe3-d2c6-6b93bc073d70"
      },
      "execution_count": null,
      "outputs": [
        {
          "output_type": "stream",
          "name": "stdout",
          "text": [
            "12345\n",
            "<class 'decimal.Decimal'>\n"
          ]
        }
      ]
    },
    {
      "cell_type": "markdown",
      "source": [
        "Reverse a string"
      ],
      "metadata": {
        "id": "OzTvPKTjRtRQ"
      }
    },
    {
      "cell_type": "code",
      "source": [
        "str='Madhuri'\n",
        "print(str[::-1])"
      ],
      "metadata": {
        "colab": {
          "base_uri": "https://localhost:8080/"
        },
        "id": "VfkSLvOZRwQa",
        "outputId": "3a529eb5-ca0b-4449-de75-d0c7ff38fe29"
      },
      "execution_count": null,
      "outputs": [
        {
          "output_type": "stream",
          "name": "stdout",
          "text": [
            "iruhdaM\n"
          ]
        }
      ]
    },
    {
      "cell_type": "markdown",
      "source": [
        "Count vowels"
      ],
      "metadata": {
        "id": "XtSi-orVSK4k"
      }
    },
    {
      "cell_type": "code",
      "source": [
        "vowels='aeiou'\n",
        "word='madhuri'\n",
        "count=0\n",
        "for character in word:\n",
        "  if character in vowels:\n",
        "    count+=1\n",
        "    print(character)\n",
        "print(count)\n"
      ],
      "metadata": {
        "colab": {
          "base_uri": "https://localhost:8080/"
        },
        "id": "V_V3wa73SNff",
        "outputId": "7fc11329-9e1d-4604-900a-5975019f21f5"
      },
      "execution_count": null,
      "outputs": [
        {
          "output_type": "stream",
          "name": "stdout",
          "text": [
            "a\n",
            "u\n",
            "i\n",
            "3\n"
          ]
        }
      ]
    },
    {
      "cell_type": "markdown",
      "source": [
        "count consonants"
      ],
      "metadata": {
        "id": "lz1NL1G9Tbgr"
      }
    },
    {
      "cell_type": "code",
      "source": [
        "vowels='aeiou'\n",
        "word='madhuri'\n",
        "count=0\n",
        "for character in word:\n",
        "  if character not in vowels:\n",
        "    count+=1\n",
        "    print(character)\n",
        "print(count)"
      ],
      "metadata": {
        "colab": {
          "base_uri": "https://localhost:8080/"
        },
        "id": "0smoAnQlTgZI",
        "outputId": "211424e7-a46a-42ad-dc0d-fa2d20d36781"
      },
      "execution_count": null,
      "outputs": [
        {
          "output_type": "stream",
          "name": "stdout",
          "text": [
            "m\n",
            "d\n",
            "h\n",
            "r\n",
            "4\n"
          ]
        }
      ]
    },
    {
      "cell_type": "markdown",
      "source": [
        "Number of occureneces of a character in a string"
      ],
      "metadata": {
        "id": "uTD4anrjTxWP"
      }
    },
    {
      "cell_type": "code",
      "source": [
        "string=\"i love programming\"\n",
        "character=\"m\"\n",
        "count=0\n",
        "for i in string:\n",
        "  if i==character:\n",
        "    count+=1\n",
        "print(count)"
      ],
      "metadata": {
        "colab": {
          "base_uri": "https://localhost:8080/"
        },
        "id": "E62AO3YAm2pB",
        "outputId": "600f3701-3be9-41b5-c5ed-1e1f68eb14c4"
      },
      "execution_count": null,
      "outputs": [
        {
          "output_type": "stream",
          "name": "stdout",
          "text": [
            "2\n"
          ]
        }
      ]
    },
    {
      "cell_type": "markdown",
      "source": [
        "Fibonacci"
      ],
      "metadata": {
        "id": "GBjEHxfXnZDU"
      }
    },
    {
      "cell_type": "code",
      "source": [
        "n=10\n",
        "a,b=0,1\n",
        "for i in range(n):\n",
        "  print(a)\n",
        "  a,b=b,a+b"
      ],
      "metadata": {
        "colab": {
          "base_uri": "https://localhost:8080/"
        },
        "id": "NRJe7q9Gnb4l",
        "outputId": "54ebbcff-7813-4496-c8ad-6965c693c953"
      },
      "execution_count": null,
      "outputs": [
        {
          "output_type": "stream",
          "name": "stdout",
          "text": [
            "0\n",
            "1\n",
            "1\n",
            "2\n",
            "3\n",
            "5\n",
            "8\n",
            "13\n",
            "21\n",
            "34\n"
          ]
        }
      ]
    },
    {
      "cell_type": "markdown",
      "source": [
        "find max number in a list"
      ],
      "metadata": {
        "id": "-q3V400Sod-7"
      }
    },
    {
      "cell_type": "code",
      "source": [
        "numberlist=[20,30,33,12,32,43,56,43]\n",
        "max=numberlist[0]\n",
        "for num in numberlist:\n",
        "  if max<num:\n",
        "    max=num\n",
        "print(max)"
      ],
      "metadata": {
        "colab": {
          "base_uri": "https://localhost:8080/"
        },
        "id": "0Zwzbd9yCslH",
        "outputId": "b06161db-2b83-4cac-a01a-c7d18e0ac550"
      },
      "execution_count": null,
      "outputs": [
        {
          "output_type": "stream",
          "name": "stdout",
          "text": [
            "56\n"
          ]
        }
      ]
    },
    {
      "cell_type": "markdown",
      "source": [
        "find min number in a list\n"
      ],
      "metadata": {
        "id": "BTk7RTeRDU-5"
      }
    },
    {
      "cell_type": "code",
      "source": [
        "numberlist=[20,30,33,12,32,43,56,43]\n",
        "min=numberlist[0]\n",
        "for num in numberlist:\n",
        "  if min>num:\n",
        "    min=num\n",
        "print(min)"
      ],
      "metadata": {
        "colab": {
          "base_uri": "https://localhost:8080/"
        },
        "id": "o4ed8uY-Dcxs",
        "outputId": "c2f95ed3-5f80-4412-d616-826bb7370330"
      },
      "execution_count": null,
      "outputs": [
        {
          "output_type": "stream",
          "name": "stdout",
          "text": [
            "12\n"
          ]
        }
      ]
    },
    {
      "cell_type": "markdown",
      "source": [
        "find middle element in a list"
      ],
      "metadata": {
        "id": "D9JF5UugFES0"
      }
    },
    {
      "cell_type": "code",
      "source": [
        "numlist=[12,34,56,78,90,23,45,50]\n",
        "middleElement=int(len(numlist)/2)\n",
        "print(numlist[middleElement])\n"
      ],
      "metadata": {
        "colab": {
          "base_uri": "https://localhost:8080/"
        },
        "id": "0ETJT5epFIeA",
        "outputId": "0426bfd9-0500-4af5-9073-20e096adc18b"
      },
      "execution_count": null,
      "outputs": [
        {
          "output_type": "stream",
          "name": "stdout",
          "text": [
            "90\n"
          ]
        }
      ]
    },
    {
      "cell_type": "markdown",
      "source": [
        "Coverting list into a string"
      ],
      "metadata": {
        "id": "OMDgbLH6GNxX"
      }
    },
    {
      "cell_type": "code",
      "source": [
        "list1=[\"m\",'a','d','h','u','r','i']\n",
        "string=\"\".join(list1)\n",
        "print(string)\n",
        "print(type(string))"
      ],
      "metadata": {
        "colab": {
          "base_uri": "https://localhost:8080/"
        },
        "id": "98g5CD91GSQQ",
        "outputId": "7da4bb23-ec1b-41c4-efee-162f14b2d590"
      },
      "execution_count": null,
      "outputs": [
        {
          "output_type": "stream",
          "name": "stdout",
          "text": [
            "madhuri\n",
            "<class 'str'>\n"
          ]
        }
      ]
    },
    {
      "cell_type": "markdown",
      "source": [
        "Adding two lists"
      ],
      "metadata": {
        "id": "ey1vdh4-IFyL"
      }
    },
    {
      "cell_type": "code",
      "source": [
        "list1=[1,2,3]\n",
        "list2=[4,5,6]\n",
        "newlist=list1+list2\n",
        "print(newlist)"
      ],
      "metadata": {
        "colab": {
          "base_uri": "https://localhost:8080/"
        },
        "id": "lCdaTuHMIUUM",
        "outputId": "9e8606f5-d19a-44a4-faf9-c1b2b51e2470"
      },
      "execution_count": null,
      "outputs": [
        {
          "output_type": "stream",
          "name": "stdout",
          "text": [
            "[1, 2, 3, 4, 5, 6]\n"
          ]
        }
      ]
    },
    {
      "cell_type": "markdown",
      "source": [
        "Anagram"
      ],
      "metadata": {
        "id": "UCmZqYPzMAEm"
      }
    },
    {
      "cell_type": "code",
      "source": [
        "str1=\"listen\"\n",
        "str2=\"Silent\"\n",
        "str1=str1.upper()\n",
        "str2=str2.upper()\n",
        "if sorted(str1)==sorted(str2):\n",
        "  print(\"Anagram\")\n",
        "else:\n",
        "  print(\"Not Anagram\")"
      ],
      "metadata": {
        "colab": {
          "base_uri": "https://localhost:8080/"
        },
        "id": "lL4Btd3MMBXj",
        "outputId": "df910f0b-ed53-4de6-8730-6e27e744664f"
      },
      "execution_count": null,
      "outputs": [
        {
          "output_type": "stream",
          "name": "stdout",
          "text": [
            "Anagram\n"
          ]
        }
      ]
    },
    {
      "cell_type": "markdown",
      "source": [
        "Palindrome"
      ],
      "metadata": {
        "id": "O-27Zu2KReE2"
      }
    },
    {
      "cell_type": "code",
      "source": [
        "str1='madam'.lower()\n",
        "if str1==str1[::-1]:\n",
        "  print(\"palindrome\")\n",
        "else:\n",
        "  print(\"not a palindrome\")"
      ],
      "metadata": {
        "colab": {
          "base_uri": "https://localhost:8080/"
        },
        "id": "DF5husBfRi0W",
        "outputId": "ade999fa-002e-4ab6-e896-fa659bf58900"
      },
      "execution_count": null,
      "outputs": [
        {
          "output_type": "stream",
          "name": "stdout",
          "text": [
            "palindrome\n"
          ]
        }
      ]
    },
    {
      "cell_type": "markdown",
      "source": [
        "count spaces"
      ],
      "metadata": {
        "id": "RimiGG77UR6r"
      }
    },
    {
      "cell_type": "code",
      "source": [
        "string=\"m a dhu ri\"\n",
        "print(string.count(\" \"))"
      ],
      "metadata": {
        "colab": {
          "base_uri": "https://localhost:8080/"
        },
        "id": "r4wv5QG7Uer7",
        "outputId": "c998375c-7229-44ec-a8f7-464f20976650"
      },
      "execution_count": null,
      "outputs": [
        {
          "output_type": "stream",
          "name": "stdout",
          "text": [
            "3\n"
          ]
        }
      ]
    },
    {
      "cell_type": "markdown",
      "source": [
        "counting letters,digits and spaces\n",
        "\n",
        "\n"
      ],
      "metadata": {
        "id": "jgymcq0pVr6g"
      }
    },
    {
      "cell_type": "code",
      "source": [
        "txt=\"My name is Madhuri and I am 22 years old.\"\n",
        "letters=digits=spaces=0\n",
        "for char in txt:\n",
        "  if char.isalpha():\n",
        "    letters+=1\n",
        "  elif char.isdigit():\n",
        "    digits+=1\n",
        "  elif char.isspace():\n",
        "    spaces+=1\n",
        "print(f\"Letters:{letters}\")\n",
        "print(f\"Digits:{digits}\")\n",
        "print(f\"Spaces:{spaces}\")\n",
        "\n"
      ],
      "metadata": {
        "colab": {
          "base_uri": "https://localhost:8080/"
        },
        "id": "y4Gxj6S1VwrE",
        "outputId": "d7960775-5b1c-4296-8971-d42d14e7e880"
      },
      "execution_count": null,
      "outputs": [
        {
          "output_type": "stream",
          "name": "stdout",
          "text": [
            "Letters:29\n",
            "Digits:2\n",
            "Spaces:9\n"
          ]
        }
      ]
    },
    {
      "cell_type": "markdown",
      "source": [
        "counting special characters in a string"
      ],
      "metadata": {
        "id": "Gm3G2E_OeaPd"
      }
    },
    {
      "cell_type": "code",
      "source": [
        "txt=\"#madhuri#@$%\"\n",
        "special=0\n",
        "for ch in txt:\n",
        "    if not ch.isalnum() and not ch.isspace():\n",
        "        special += 1\n",
        "print(special)"
      ],
      "metadata": {
        "colab": {
          "base_uri": "https://localhost:8080/"
        },
        "id": "b3TM6U9dedLu",
        "outputId": "0b3491e2-5ba0-4f86-d607-002174d6fc8f"
      },
      "execution_count": null,
      "outputs": [
        {
          "output_type": "stream",
          "name": "stdout",
          "text": [
            "5\n"
          ]
        }
      ]
    },
    {
      "cell_type": "markdown",
      "source": [
        "Removing white spaces"
      ],
      "metadata": {
        "id": "PYjnNodEhyca"
      }
    },
    {
      "cell_type": "code",
      "source": [
        " txt=\"Mad huri Ra vu ru\"\n",
        " new=txt.replace(\" \",\"\")\n",
        " print(new)"
      ],
      "metadata": {
        "id": "K4EMWpkKh2Xu",
        "outputId": "c5f47ba3-07f3-47ca-e257-9074198db9e5",
        "colab": {
          "base_uri": "https://localhost:8080/"
        }
      },
      "execution_count": null,
      "outputs": [
        {
          "output_type": "stream",
          "name": "stdout",
          "text": [
            "MadhuriRavuru\n"
          ]
        }
      ]
    },
    {
      "cell_type": "markdown",
      "source": [
        "pyramid"
      ],
      "metadata": {
        "id": "4AMNrdGjkOFG"
      }
    },
    {
      "cell_type": "code",
      "source": [
        "rows=5\n",
        "for i in range(1,rows+1):\n",
        "  print(\" \"*(rows-i)+\"*\"*(2*i-1))\n"
      ],
      "metadata": {
        "id": "952ayoxbkP24",
        "outputId": "bd02a10b-0abc-49be-b740-3d8e460962d1",
        "colab": {
          "base_uri": "https://localhost:8080/"
        }
      },
      "execution_count": null,
      "outputs": [
        {
          "output_type": "stream",
          "name": "stdout",
          "text": [
            "    *\n",
            "   ***\n",
            "  *****\n",
            " *******\n",
            "*********\n"
          ]
        }
      ]
    },
    {
      "cell_type": "markdown",
      "source": [
        "Rhombus shaped pyramid"
      ],
      "metadata": {
        "id": "jp7vFrQqlPKU"
      }
    },
    {
      "cell_type": "code",
      "source": [
        "rows=5\n",
        "for i in range(1,rows+1):\n",
        "  print(\" \"*(rows-i)+\"*\"*(2*i-1))\n",
        "for j in range(rows-1,0,-1):\n",
        "  print(\" \"*(rows-j)+\"*\"*(2*j-1))"
      ],
      "metadata": {
        "id": "jRD1WLNMlOrg",
        "outputId": "47af7ea3-b663-45b6-c953-d83eb8bd1aae",
        "colab": {
          "base_uri": "https://localhost:8080/"
        }
      },
      "execution_count": null,
      "outputs": [
        {
          "output_type": "stream",
          "name": "stdout",
          "text": [
            "    *\n",
            "   ***\n",
            "  *****\n",
            " *******\n",
            "*********\n",
            " *******\n",
            "  *****\n",
            "   ***\n",
            "    *\n"
          ]
        }
      ]
    },
    {
      "cell_type": "markdown",
      "source": [
        "Randomizing the items in a list"
      ],
      "metadata": {
        "id": "Fm0pALnMnD9g"
      }
    },
    {
      "cell_type": "code",
      "source": [
        "from random import shuffle\n",
        "lst=[\"madhuri\",1,5,6,\"apple\",5,'a']\n",
        "shuffle(lst)\n",
        "print(lst)"
      ],
      "metadata": {
        "id": "b1o62JbynMwJ",
        "outputId": "6106f361-b5b9-43f7-f4fd-83562c1cc47b",
        "colab": {
          "base_uri": "https://localhost:8080/"
        }
      },
      "execution_count": null,
      "outputs": [
        {
          "output_type": "stream",
          "name": "stdout",
          "text": [
            "['a', 1, 5, 6, 'apple', 5, 'madhuri']\n"
          ]
        }
      ]
    },
    {
      "cell_type": "markdown",
      "source": [
        "prime generator"
      ],
      "metadata": {
        "id": "cLNYmrwfuG5n"
      }
    },
    {
      "cell_type": "code",
      "source": [
        "def prime_generator(n):\n",
        "  for num in range(2,n+1):\n",
        "    count=0\n",
        "    for i in range(2,num):\n",
        "      if num%i==0:\n",
        "        count+=1\n",
        "        break\n",
        "    if count==0:\n",
        "      print(num)\n",
        "prime_generator(5)"
      ],
      "metadata": {
        "id": "VArP6-yWuI1n",
        "outputId": "6a8c2686-4a5b-4d4b-a0b3-940d9727fc3c",
        "colab": {
          "base_uri": "https://localhost:8080/"
        }
      },
      "execution_count": null,
      "outputs": [
        {
          "output_type": "stream",
          "name": "stdout",
          "text": [
            "2\n",
            "3\n",
            "5\n"
          ]
        }
      ]
    },
    {
      "cell_type": "markdown",
      "source": [
        "Implementing variable length arguements"
      ],
      "metadata": {
        "id": "HHq3LoM2x6gA"
      }
    },
    {
      "cell_type": "code",
      "source": [
        "def average(*n):\n",
        "  result=sum(n)/len(n)\n",
        "  return result\n",
        "result1=average(2,3,4,5,6)\n",
        "result2=average(7,8,9,6,5,5)\n",
        "print(result1)\n",
        "print(result2)\n"
      ],
      "metadata": {
        "id": "GPGZWy_6x_AO",
        "outputId": "06b6ada8-ae9f-4452-f86d-e0b678a1e7e8",
        "colab": {
          "base_uri": "https://localhost:8080/"
        }
      },
      "execution_count": null,
      "outputs": [
        {
          "output_type": "stream",
          "name": "stdout",
          "text": [
            "4.0\n",
            "6.666666666666667\n"
          ]
        }
      ]
    },
    {
      "cell_type": "markdown",
      "source": [
        "Convert kilometers to miles"
      ],
      "metadata": {
        "id": "85Kr2ATsUpip"
      }
    },
    {
      "cell_type": "code",
      "source": [
        "kilometers=float(input(\"kilometers:\"))\n",
        "Conversion=0.621371\n",
        "miles=kilometers*Conversion\n",
        "print('miles:',miles)"
      ],
      "metadata": {
        "id": "9zJzqOIwUuIi",
        "outputId": "b2ef2a7f-f7aa-410c-b1f1-010cd0eb1232",
        "colab": {
          "base_uri": "https://localhost:8080/"
        }
      },
      "execution_count": null,
      "outputs": [
        {
          "output_type": "stream",
          "name": "stdout",
          "text": [
            "kilometers:20\n",
            "miles: 12.42742\n"
          ]
        }
      ]
    },
    {
      "cell_type": "markdown",
      "source": [
        "Convert celcius to fahrenheit"
      ],
      "metadata": {
        "id": "r50VQNdRVerz"
      }
    },
    {
      "cell_type": "code",
      "source": [
        "celcuis=float(input(\"celcius:\"))\n",
        "fahrenheit=(celcuis*9/5)+32\n",
        "print('fahrenheit:',fahrenheit)\n"
      ],
      "metadata": {
        "id": "lI4Egbu_VjWd",
        "outputId": "13dcb73f-6cce-44a6-a5e6-99717c0f37c2",
        "colab": {
          "base_uri": "https://localhost:8080/"
        }
      },
      "execution_count": null,
      "outputs": [
        {
          "output_type": "stream",
          "name": "stdout",
          "text": [
            "celcius:37\n",
            "fahrenheit: 98.6\n"
          ]
        }
      ]
    },
    {
      "cell_type": "markdown",
      "source": [
        "print calender"
      ],
      "metadata": {
        "id": "cR-tusSoWddA"
      }
    },
    {
      "cell_type": "code",
      "source": [
        "import calendar\n",
        "year=int(input(\"year:\"))\n",
        "month=int(input(\"month:\"))\n",
        "calender=calendar.month(year,month)\n",
        "print(calender)"
      ],
      "metadata": {
        "colab": {
          "base_uri": "https://localhost:8080/"
        },
        "id": "Ylx_BUrlWfPb",
        "outputId": "b3a9de60-b216-4a20-ed73-e2f78321708a"
      },
      "execution_count": null,
      "outputs": [
        {
          "output_type": "stream",
          "name": "stdout",
          "text": [
            "year:2025\n",
            "month:10\n",
            "    October 2025\n",
            "Mo Tu We Th Fr Sa Su\n",
            "       1  2  3  4  5\n",
            " 6  7  8  9 10 11 12\n",
            "13 14 15 16 17 18 19\n",
            "20 21 22 23 24 25 26\n",
            "27 28 29 30 31\n",
            "\n"
          ]
        }
      ]
    },
    {
      "cell_type": "markdown",
      "source": [
        "quadratic equation"
      ],
      "metadata": {
        "id": "jWLg8hcDYFZx"
      }
    },
    {
      "cell_type": "code",
      "source": [
        "import math\n",
        "a=int(input(\"a:\"))\n",
        "b=int(input(\"b:\"))\n",
        "c=int(input(\"c:\"))\n",
        "d=b**2-4*a*c\n",
        "if d>0:\n",
        "  root1=(-b+math.sqrt(d))/2*a\n",
        "  root2=(-b-math.sqrt(d))/2*a\n",
        "  print(f\"root1:{root1}\")\n",
        "  print(f\"root2:{root2}\")\n",
        "elif d==0:\n",
        "  root=-b/(2*a)\n",
        "  print(f\"root:{root}\")\n",
        "else:\n",
        "  real_part=-b/(2*a)\n",
        "  imaginary_part=math.sqrt(-d)/(2*a)\n",
        "  print(f\"root1:{real_part}+{imaginary_part}i\")\n",
        "  print(f\"root2:{real_part}-{imaginary_part}i\")\n"
      ],
      "metadata": {
        "colab": {
          "base_uri": "https://localhost:8080/"
        },
        "id": "mbHlspVEYI7R",
        "outputId": "d6e2467b-0a68-403e-cdc4-110c5fa52e3d"
      },
      "execution_count": null,
      "outputs": [
        {
          "output_type": "stream",
          "name": "stdout",
          "text": [
            "a:12\n",
            "b:6\n",
            "c:3\n",
            "root1:-0.25+0.43301270189221935i\n",
            "root2:-0.25-0.43301270189221935i\n"
          ]
        }
      ]
    },
    {
      "cell_type": "markdown",
      "source": [
        "swapping without third variable"
      ],
      "metadata": {
        "id": "sYHnfIdMZqfQ"
      }
    },
    {
      "cell_type": "code",
      "source": [
        "a=int(input(\"a:\"))\n",
        "b=int(input(\"b:\"))\n",
        "a,b=b,a\n",
        "print(\"After swapping:\")\n",
        "print(\"a:\",a)\n",
        "print(\"b:\",b)"
      ],
      "metadata": {
        "colab": {
          "base_uri": "https://localhost:8080/"
        },
        "id": "8LoOQTDBZveG",
        "outputId": "67a1a36f-68fd-4323-a16a-133f6a69bc1a"
      },
      "execution_count": null,
      "outputs": [
        {
          "output_type": "stream",
          "name": "stdout",
          "text": [
            "a:10\n",
            "b:20\n",
            "After swapping:\n",
            "a: 20\n",
            "b: 10\n"
          ]
        }
      ]
    },
    {
      "cell_type": "markdown",
      "source": [
        "leap year"
      ],
      "metadata": {
        "id": "27KdKt5nbWaL"
      }
    },
    {
      "cell_type": "code",
      "source": [
        "year=int(input(\"year:\"))\n",
        "if(year%400==0) and (year%100==0):\n",
        "  print(\"leap year\")\n",
        "elif (year%4==0) and (year%100!=0):\n",
        "  print(\"leap year\")\n",
        "else:\n",
        "  print(\"not a leap year\")\n",
        "year=int(input(\"year:\"))\n",
        "if(year%400==0) and (year%100==0):\n",
        "  print(\"leap year\")\n",
        "elif (year%4==0) and (year%100!=0):\n",
        "  print(\"leap year\")\n",
        "else:\n",
        "  print(\"not a leap year\")"
      ],
      "metadata": {
        "colab": {
          "base_uri": "https://localhost:8080/"
        },
        "id": "sAFn0wJ2b9uQ",
        "outputId": "d1b5532c-23a9-459d-f4e5-ee81a72ff632"
      },
      "execution_count": null,
      "outputs": [
        {
          "output_type": "stream",
          "name": "stdout",
          "text": [
            "year:2004\n",
            "leap year\n",
            "year:2025\n",
            "not a leap year\n"
          ]
        }
      ]
    },
    {
      "cell_type": "markdown",
      "source": [
        "Check for prime number"
      ],
      "metadata": {
        "id": "BNM2ri09ewZR"
      }
    },
    {
      "cell_type": "code",
      "source": [
        "n=int(input(\"entr a number:\"))\n",
        "if n>1:\n",
        "  for i in range(2,n):\n",
        "    if n%i==0:\n",
        "      print(\"not a prime number\")\n",
        "      break\n",
        "  else:\n",
        "    print(\"prime number\")\n",
        "else:\n",
        "  print(\"not a prime number\")\n"
      ],
      "metadata": {
        "colab": {
          "base_uri": "https://localhost:8080/"
        },
        "id": "0CeCVlH8e0FM",
        "outputId": "39ceb733-5d5d-44e8-ce1f-e7814dd4755d"
      },
      "execution_count": null,
      "outputs": [
        {
          "output_type": "stream",
          "name": "stdout",
          "text": [
            "entr a number:5\n",
            "prime number\n"
          ]
        }
      ]
    },
    {
      "cell_type": "markdown",
      "source": [
        "prime with in a range"
      ],
      "metadata": {
        "id": "K3S2UHj9lP8X"
      }
    },
    {
      "cell_type": "code",
      "source": [
        "start=int(input(\"start:\"))\n",
        "end=int(input(\"end:\"))\n",
        "for num in range(start,end+1):\n",
        "  if num>1:\n",
        "    for i in range(2,num):\n",
        "      if num%i==-0:\n",
        "        break\n",
        "    else:\n",
        "      print(num)"
      ],
      "metadata": {
        "colab": {
          "base_uri": "https://localhost:8080/"
        },
        "id": "7lAbirMflTSu",
        "outputId": "8e9e4332-c473-4695-eb03-7e1cd8e16d95"
      },
      "execution_count": null,
      "outputs": [
        {
          "output_type": "stream",
          "name": "stdout",
          "text": [
            "start:5\n",
            "end:20\n",
            "5\n",
            "7\n",
            "11\n",
            "13\n",
            "17\n",
            "19\n"
          ]
        }
      ]
    },
    {
      "cell_type": "markdown",
      "source": [
        "factorial\n"
      ],
      "metadata": {
        "id": "-P1A2WH-mBFF"
      }
    },
    {
      "cell_type": "code",
      "source": [
        "n = int(input(\"Enter a number: \"))\n",
        "fact = 1\n",
        "\n",
        "for i in range(1, n + 1):\n",
        "    fact *= i\n",
        "\n",
        "print(\"Factorial:\", fact)\n"
      ],
      "metadata": {
        "colab": {
          "base_uri": "https://localhost:8080/"
        },
        "id": "A_JGOgewmDie",
        "outputId": "51fa74a0-da85-48d4-8d97-e3ba92816827"
      },
      "execution_count": null,
      "outputs": [
        {
          "output_type": "stream",
          "name": "stdout",
          "text": [
            "Enter a number: 0\n",
            "Factorial: 1\n"
          ]
        }
      ]
    },
    {
      "cell_type": "code",
      "source": [
        "def factorial(n):\n",
        "  if n==0:\n",
        "    return 1\n",
        "  for i in range(1,n+1):\n",
        "    return n*factorial(n-1)\n",
        "factorial(1)\n"
      ],
      "metadata": {
        "colab": {
          "base_uri": "https://localhost:8080/"
        },
        "id": "vLYx7RCJmHCT",
        "outputId": "84c7ac76-c02a-4544-fbf8-5df10b2683dd"
      },
      "execution_count": null,
      "outputs": [
        {
          "output_type": "execute_result",
          "data": {
            "text/plain": [
              "1"
            ]
          },
          "metadata": {},
          "execution_count": 21
        }
      ]
    },
    {
      "cell_type": "markdown",
      "source": [
        "Multiplication table\n"
      ],
      "metadata": {
        "id": "5IX3lnrTnDDC"
      }
    },
    {
      "cell_type": "code",
      "source": [
        "num=float(input(\"Enter a number:\"))\n",
        "for i in range(1,11):\n",
        "  print(f\"{num} X {i} = {num*i}\")"
      ],
      "metadata": {
        "colab": {
          "base_uri": "https://localhost:8080/"
        },
        "id": "SbRQ3ZU4nFcV",
        "outputId": "97c4872b-31ee-4bd5-cbff-98db3fe3c7f3"
      },
      "execution_count": null,
      "outputs": [
        {
          "output_type": "stream",
          "name": "stdout",
          "text": [
            "Enter a number:2.5\n",
            "2.5 X 1 = 2.5\n",
            "2.5 X 2 = 5.0\n",
            "2.5 X 3 = 7.5\n",
            "2.5 X 4 = 10.0\n",
            "2.5 X 5 = 12.5\n",
            "2.5 X 6 = 15.0\n",
            "2.5 X 7 = 17.5\n",
            "2.5 X 8 = 20.0\n",
            "2.5 X 9 = 22.5\n",
            "2.5 X 10 = 25.0\n"
          ]
        }
      ]
    },
    {
      "cell_type": "markdown",
      "source": [
        "Fibonacci series"
      ],
      "metadata": {
        "id": "6oDMGqUJnrVL"
      }
    },
    {
      "cell_type": "code",
      "source": [
        "number=int(input(\"Enter a number:\"))\n",
        "a,b=0,1\n",
        "for i in range(number):\n",
        "  print(a)\n",
        "  a,b=b,a+b\n"
      ],
      "metadata": {
        "colab": {
          "base_uri": "https://localhost:8080/"
        },
        "id": "q5UED7XXntkU",
        "outputId": "89908c40-0574-4810-ad2b-ae755740836b"
      },
      "execution_count": null,
      "outputs": [
        {
          "output_type": "stream",
          "name": "stdout",
          "text": [
            "Enter a number:5\n",
            "0\n",
            "1\n",
            "1\n",
            "2\n",
            "3\n"
          ]
        }
      ]
    },
    {
      "cell_type": "markdown",
      "source": [
        "Check for amstrong number"
      ],
      "metadata": {
        "id": "t_dPgs3ApRwd"
      }
    },
    {
      "cell_type": "code",
      "source": [
        "n=int(input(\"Enter a number:\"))\n",
        "power=len(str(n))\n",
        "sum=0\n",
        "temp=n\n",
        "while temp>0:\n",
        "  digit=temp%10\n",
        "  sum+=digit**power\n",
        "  temp//=10\n",
        "if sum==n:\n",
        "  print(\"amstrong number\")\n",
        "else:\n",
        "  print(\"not an amstrong number\")\n"
      ],
      "metadata": {
        "colab": {
          "base_uri": "https://localhost:8080/"
        },
        "id": "iz5CCErMpVOS",
        "outputId": "86ddb4d5-0cdc-41ba-e8d0-93a9ee61f6e9"
      },
      "execution_count": null,
      "outputs": [
        {
          "output_type": "stream",
          "name": "stdout",
          "text": [
            "Enter a number:153\n",
            "amstrong number\n"
          ]
        }
      ]
    },
    {
      "cell_type": "markdown",
      "source": [
        "amstrong nuber in a given range"
      ],
      "metadata": {
        "id": "v3dK11l-qYe8"
      }
    },
    {
      "cell_type": "code",
      "source": [
        "start=int(input(\"Enter a start number:\"))\n",
        "end=int(input(\"Enter a end number:\"))\n",
        "for num in range(start,end+1):\n",
        "  power=len(str(num))\n",
        "  sum=0\n",
        "  temp=num\n",
        "  while temp>0:\n",
        "    digit=temp%10\n",
        "    sum+=digit**power\n",
        "    temp//=10\n",
        "  if num==sum:\n",
        "    print(num)\n"
      ],
      "metadata": {
        "colab": {
          "base_uri": "https://localhost:8080/"
        },
        "id": "ZXpSbxZ_qcXa",
        "outputId": "ef59e094-36f6-4d08-8bc2-b07f50d69a72"
      },
      "execution_count": null,
      "outputs": [
        {
          "output_type": "stream",
          "name": "stdout",
          "text": [
            "Enter a start number:100\n",
            "Enter a end number:1000\n",
            "153\n",
            "370\n",
            "371\n",
            "407\n"
          ]
        }
      ]
    },
    {
      "cell_type": "markdown",
      "source": [
        "sum of natural numbers\n"
      ],
      "metadata": {
        "id": "gp-tHMufsRBU"
      }
    },
    {
      "cell_type": "code",
      "source": [
        " num=int(input(\"enter a number:\"))\n",
        " sum=0\n",
        " for i in range(1,num+1):\n",
        "  sum+=i\n",
        "print(\"sum:\",sum)"
      ],
      "metadata": {
        "colab": {
          "base_uri": "https://localhost:8080/"
        },
        "id": "OS2lBhAwsUdG",
        "outputId": "3a7ee09c-11fd-4b17-e472-4aa9c287f489"
      },
      "execution_count": null,
      "outputs": [
        {
          "output_type": "stream",
          "name": "stdout",
          "text": [
            "enter a number:10\n",
            "sum: 55\n"
          ]
        }
      ]
    },
    {
      "cell_type": "markdown",
      "source": [
        "lcd"
      ],
      "metadata": {
        "id": "nn74WSkByb_5"
      }
    },
    {
      "cell_type": "code",
      "source": [
        "import math\n",
        "a=int(input(\"enter first number:\"))\n",
        "b=int(input(\"enter second number\"))\n",
        "lcd=a*b//math.gcd(a,b)\n",
        "print(\"lcd:\",lcd)\n",
        "\n"
      ],
      "metadata": {
        "colab": {
          "base_uri": "https://localhost:8080/"
        },
        "id": "HYFdaEw0ygH_",
        "outputId": "2847bbef-932c-4dfb-d4db-6083db3f4e7a"
      },
      "execution_count": null,
      "outputs": [
        {
          "output_type": "stream",
          "name": "stdout",
          "text": [
            "enter first number:12\n",
            "enter second number16\n",
            "lcd: 48\n"
          ]
        }
      ]
    },
    {
      "cell_type": "markdown",
      "source": [
        "HCF"
      ],
      "metadata": {
        "id": "a_Tz3t7K0WcS"
      }
    },
    {
      "cell_type": "code",
      "source": [
        "import math\n",
        "a=int(input(\"enter first number:\"))\n",
        "b=int(input(\"enter second number\"))\n",
        "hcf=math.gcd(a,b)\n",
        "print(\"hcf:\",hcf)"
      ],
      "metadata": {
        "colab": {
          "base_uri": "https://localhost:8080/"
        },
        "id": "PBCd3vPG0XhT",
        "outputId": "e6caee80-cdbd-439a-bfdd-c393cb74fe67"
      },
      "execution_count": null,
      "outputs": [
        {
          "output_type": "stream",
          "name": "stdout",
          "text": [
            "enter first number: 12\n",
            "enter second number36\n",
            "hcf: 12\n"
          ]
        }
      ]
    },
    {
      "cell_type": "markdown",
      "source": [
        "decimal number to binary,hexadecimal,octal"
      ],
      "metadata": {
        "id": "mvnc4WbaISCG"
      }
    },
    {
      "cell_type": "code",
      "source": [
        "decimal=float(input(\"enter a decimal number:\"))\n",
        "integer_part=int(decimal)\n",
        "print(\"binary is : \",bin(integer_part)[2:])\n",
        "print(\"hexadecimal is : \",hex(integer_part)[2:].upper())\n",
        "print(\"octal is : \",oct(integer_part)[2:])"
      ],
      "metadata": {
        "colab": {
          "base_uri": "https://localhost:8080/"
        },
        "id": "pbUqk2N1Izc6",
        "outputId": "6d5a0d54-61a6-4102-de9c-86f79bac1a59"
      },
      "execution_count": null,
      "outputs": [
        {
          "output_type": "stream",
          "name": "stdout",
          "text": [
            "enter a decimal number:30\n",
            "binary is :  11110\n",
            "hexadecimal is :  1E\n",
            "octal is :  36\n"
          ]
        }
      ]
    },
    {
      "cell_type": "markdown",
      "source": [
        "ASCII Value"
      ],
      "metadata": {
        "id": "1oMeA0JTMVnP"
      }
    },
    {
      "cell_type": "code",
      "source": [
        "char = input(\"Enter the character: \")\n",
        "print(\"The ASCII value of '\" + char + \"' is\", ord(char))\n",
        "char = input(\"Enter the character: \")\n",
        "print(\"The ASCII value of '\" + char + \"' is\", ord(char))\n",
        "\n",
        "\n"
      ],
      "metadata": {
        "colab": {
          "base_uri": "https://localhost:8080/"
        },
        "id": "29Yda0CyMXtw",
        "outputId": "bafe9c50-5508-4bd8-ee00-bc1463b265e8"
      },
      "execution_count": null,
      "outputs": [
        {
          "output_type": "stream",
          "name": "stdout",
          "text": [
            "Enter the character: A\n",
            "The ASCII value of 'A' is 65\n",
            "Enter the character: 2\n",
            "The ASCII value of '2' is 50\n"
          ]
        }
      ]
    },
    {
      "cell_type": "markdown",
      "source": [
        "simple calculator"
      ],
      "metadata": {
        "id": "_jXs2n0UQVdS"
      }
    },
    {
      "cell_type": "code",
      "source": [
        "a = float(input(\"Enter first number: \"))\n",
        "b = float(input(\"Enter second number: \"))\n",
        "op = input(\"Enter operation (+, -, *, /): \")\n",
        "\n",
        "if op == '+':\n",
        "    print(a + b)\n",
        "elif op == '-':\n",
        "    print(a - b)\n",
        "elif op == '*':\n",
        "    print(a * b)\n",
        "elif op == '/':\n",
        "    print(a / b)\n",
        "else:\n",
        "    print(\"Invalid operation\")\n"
      ],
      "metadata": {
        "colab": {
          "base_uri": "https://localhost:8080/"
        },
        "id": "JjIOu65EQx5y",
        "outputId": "ee3bcb97-c9c9-4c30-a680-13cc4f1cf726"
      },
      "execution_count": null,
      "outputs": [
        {
          "output_type": "stream",
          "name": "stdout",
          "text": [
            "Enter first number: 20\n",
            "Enter second number: 30\n",
            "Enter operation (+, -, *, /): *\n",
            "600.0\n"
          ]
        }
      ]
    },
    {
      "cell_type": "markdown",
      "source": [
        "Fibonacci using Recursion"
      ],
      "metadata": {
        "id": "72lqDVZzRd-J"
      }
    },
    {
      "cell_type": "code",
      "source": [
        "def fib(n):\n",
        "    if n <= 1:\n",
        "        return n\n",
        "    else:\n",
        "        return fib(n-1) + fib(n-2)\n",
        "\n",
        "n = int(input(\"Enter number of terms: \"))\n",
        "for i in range(n):\n",
        "    print(fib(i))\n"
      ],
      "metadata": {
        "colab": {
          "base_uri": "https://localhost:8080/"
        },
        "id": "Rmb8cfPvRhow",
        "outputId": "082c64f6-835e-469a-b8ba-2f2827aee2aa"
      },
      "execution_count": null,
      "outputs": [
        {
          "output_type": "stream",
          "name": "stdout",
          "text": [
            "Enter number of terms: 23\n",
            "0\n",
            "1\n",
            "1\n",
            "2\n",
            "3\n",
            "5\n",
            "8\n",
            "13\n",
            "21\n",
            "34\n",
            "55\n",
            "89\n",
            "144\n",
            "233\n",
            "377\n",
            "610\n",
            "987\n",
            "1597\n",
            "2584\n",
            "4181\n",
            "6765\n",
            "10946\n",
            "17711\n"
          ]
        }
      ]
    },
    {
      "cell_type": "markdown",
      "source": [
        "factorial using recursion"
      ],
      "metadata": {
        "id": "xG1WaFymTeL-"
      }
    },
    {
      "cell_type": "code",
      "source": [
        "def factorial(n):\n",
        "  if n==0 or n==1:\n",
        "    return 1\n",
        "  else:\n",
        "    return n*factorial(n-1)\n",
        "n=int(input(\"enter a number:\"))\n",
        "print(factorial(n))"
      ],
      "metadata": {
        "colab": {
          "base_uri": "https://localhost:8080/"
        },
        "id": "Yed1Acr2T502",
        "outputId": "347d8ba4-26f3-4e54-f7bb-11c939e15c1f"
      },
      "execution_count": null,
      "outputs": [
        {
          "output_type": "stream",
          "name": "stdout",
          "text": [
            "enter a number:20\n",
            "2432902008176640000\n"
          ]
        }
      ]
    },
    {
      "cell_type": "markdown",
      "source": [
        "Body mass index"
      ],
      "metadata": {
        "id": "YIa87Lu-VcD6"
      }
    },
    {
      "cell_type": "code",
      "source": [
        "weight=float(input(\"enter weight in kg:\"))\n",
        "height=float(input(\"enter height in meters:\"))\n",
        "bmi=weight/(height**2)\n",
        "print(\"bmi:\",bmi)\n",
        "if bmi <= 18.5:\n",
        " print(\"You are underweight.\")\n",
        "elif 18.5 < bmi <= 24.9:\n",
        " print(\"Your weight is normal.\")\n",
        "elif 25 < bmi <= 29.29:\n",
        " print(\"You are overweight.\")\n",
        "else:\n",
        " print(\"You are obese.\")"
      ],
      "metadata": {
        "colab": {
          "base_uri": "https://localhost:8080/"
        },
        "id": "HLfb30-4V2s_",
        "outputId": "89aaf923-30f6-4d12-b874-fcea0311722d"
      },
      "execution_count": null,
      "outputs": [
        {
          "output_type": "stream",
          "name": "stdout",
          "text": [
            "enter weight in kg:56\n",
            "enter height in meters:1.707\n",
            "bmi: 19.21856623318504\n",
            "Your weight is normal.\n"
          ]
        }
      ]
    },
    {
      "cell_type": "markdown",
      "source": [
        "log value"
      ],
      "metadata": {
        "id": "V41T74nrXYdj"
      }
    },
    {
      "cell_type": "code",
      "source": [
        "import math\n",
        "number=float(input(\"enter a number:\"))\n",
        "if number<=0:\n",
        "  print(\"enter positive number\")\n",
        "else:\n",
        "  log_number=math.log(number)\n",
        "  print(log_number)\n"
      ],
      "metadata": {
        "colab": {
          "base_uri": "https://localhost:8080/"
        },
        "id": "88flrov3YBux",
        "outputId": "2fd58be0-fe35-47bb-8803-fc0afde094ab"
      },
      "execution_count": null,
      "outputs": [
        {
          "output_type": "stream",
          "name": "stdout",
          "text": [
            "enter a number:23\n",
            "3.1354942159291497\n"
          ]
        }
      ]
    },
    {
      "cell_type": "markdown",
      "source": [
        "cube sum of first n natural numbers"
      ],
      "metadata": {
        "id": "mMylCCRyaJok"
      }
    },
    {
      "cell_type": "code",
      "source": [
        "n = int(input(\"Enter a number: \"))\n",
        "cube_sum = 0\n",
        "for i in range(1, n+1):\n",
        "    cube_sum += i**3\n",
        "print(\"Cube sum of first\", n, \"natural numbers is:\", cube_sum)\n"
      ],
      "metadata": {
        "colab": {
          "base_uri": "https://localhost:8080/"
        },
        "id": "pDKAO7JbaD7P",
        "outputId": "88327f7c-ed22-4a58-c02f-3d4263163d22"
      },
      "execution_count": null,
      "outputs": [
        {
          "output_type": "stream",
          "name": "stdout",
          "text": [
            "Enter a number: 3\n",
            "Cube sum of first 3 natural numbers is: 36\n"
          ]
        }
      ]
    },
    {
      "cell_type": "markdown",
      "source": [
        "Sum of array"
      ],
      "metadata": {
        "id": "bvJM2GikcRkM"
      }
    },
    {
      "cell_type": "code",
      "source": [
        "arr = [1,2,3]\n",
        "ans = sum(arr)\n",
        "print('Sum of the array is ', ans)"
      ],
      "metadata": {
        "colab": {
          "base_uri": "https://localhost:8080/"
        },
        "id": "7Qrqz0VFcTpW",
        "outputId": "c77645b7-9478-43f2-f034-c9648888083b"
      },
      "execution_count": null,
      "outputs": [
        {
          "output_type": "stream",
          "name": "stdout",
          "text": [
            "Sum of the array is  6\n"
          ]
        }
      ]
    },
    {
      "cell_type": "markdown",
      "source": [
        "Largest element in an array"
      ],
      "metadata": {
        "id": "9HTY52hKcrB1"
      }
    },
    {
      "cell_type": "code",
      "source": [
        "arr = [10, 25, 7, 89, 56]\n",
        "largest = arr[0]\n",
        "for num in arr:\n",
        "    if num > largest:\n",
        "        largest = num\n",
        "print(\"Largest element in the array is:\", largest)"
      ],
      "metadata": {
        "colab": {
          "base_uri": "https://localhost:8080/"
        },
        "id": "bijHIePEcuEK",
        "outputId": "c80a8ae1-d0e8-47b9-b385-cd32bcf62345"
      },
      "execution_count": null,
      "outputs": [
        {
          "output_type": "stream",
          "name": "stdout",
          "text": [
            "Largest element in the array is: 89\n"
          ]
        }
      ]
    },
    {
      "cell_type": "markdown",
      "source": [
        "array rotation"
      ],
      "metadata": {
        "id": "HUMLcYlrdFkd"
      }
    },
    {
      "cell_type": "code",
      "source": [],
      "metadata": {
        "colab": {
          "base_uri": "https://localhost:8080/"
        },
        "id": "6-UpFW0QdsQL",
        "outputId": "ad1415e5-9888-4adc-952c-b82bba0ec8a4"
      },
      "execution_count": null,
      "outputs": [
        {
          "output_type": "stream",
          "name": "stdout",
          "text": [
            "Enter array elements1 2 3 4 5\n",
            "Enter no.of rotations:3\n",
            "[4, 5, 1, 2, 3]\n"
          ]
        }
      ]
    },
    {
      "cell_type": "markdown",
      "source": [
        "Split the array and add the first part to the end"
      ],
      "metadata": {
        "id": "L8XLNV2Rf_6Z"
      }
    },
    {
      "cell_type": "code",
      "source": [
        "arr = list(map(int, input(\"Enter array elements separated by space: \").split()))\n",
        "n = int(input(\"Enter number of elements to split: \"))\n",
        "arr = arr[n:] + arr[:n]\n",
        "print(\"Array after split and adding first part to end:\", arr)\n"
      ],
      "metadata": {
        "colab": {
          "base_uri": "https://localhost:8080/"
        },
        "id": "APP1h4togAmC",
        "outputId": "40ffec1f-a2b9-4596-e479-5bdcc303fbcb"
      },
      "execution_count": null,
      "outputs": [
        {
          "output_type": "stream",
          "name": "stdout",
          "text": [
            "Enter array elements separated by space: 1 2 3 4 5 6 7 8\n",
            "Enter number of elements to split: 5\n",
            "Array after split and adding first part to end: [6, 7, 8, 1, 2, 3, 4, 5]\n"
          ]
        }
      ]
    },
    {
      "cell_type": "markdown",
      "source": [
        "Program to check if given array is Monotonic.\n"
      ],
      "metadata": {
        "id": "M9fuQImIhRUK"
      }
    },
    {
      "cell_type": "markdown",
      "source": [
        "check given arry is monomatic"
      ],
      "metadata": {
        "id": "PeQpRFrlhSvz"
      }
    },
    {
      "cell_type": "code",
      "source": [
        "arr = list(map(int, input(\"Enter array elements separated by space: \").split()))\n",
        "if arr==sorted(arr) or arr==sorted(arr,reverse=True):\n",
        "  print(\"monotonic\")\n",
        "else:\n",
        "  print(\"not monomatic\")\n",
        "arr = list(map(int, input(\"Enter array elements separated by space: \").split()))\n",
        "if arr==sorted(arr) or arr==sorted(arr,reverse=True):\n",
        "  print(\"monomatic\")\n",
        "else:\n",
        "  print(\"not monotonic\")"
      ],
      "metadata": {
        "colab": {
          "base_uri": "https://localhost:8080/"
        },
        "id": "KvuVi3Uipv06",
        "outputId": "6dbf0f0b-256a-4e8b-8e23-fd5bc3434bed"
      },
      "execution_count": null,
      "outputs": [
        {
          "output_type": "stream",
          "name": "stdout",
          "text": [
            "Enter array elements separated by space: 1 2 3 4 5\n",
            "monomatic\n",
            "Enter array elements separated by space: 2 3 43 5\n",
            "not monomatic\n"
          ]
        }
      ]
    },
    {
      "cell_type": "markdown",
      "source": [
        "add two matrices"
      ],
      "metadata": {
        "id": "LHYW0prMtSHd"
      }
    },
    {
      "cell_type": "code",
      "source": [
        "rows=int(input(\"enter number of rows:\"))\n",
        "columns=int(input(\"enter number of columns:\"))\n",
        "print(\"Enter elements of first matrix:\")\n",
        "matrice1=[list(map(int,input().split())) for _ in range(rows)]\n",
        "print(\"Enter elements of second matrix:\")\n",
        "matrice2=[list(map(int,input().split())) for _ in range(rows)]\n",
        "result= [[matrice1[i][j]+matrice2[i][j] for j in range(columns)] for i in range(rows)]\n",
        "print(\"sum of matrices:\")\n",
        "for row in result:\n",
        "  print(row)"
      ],
      "metadata": {
        "colab": {
          "base_uri": "https://localhost:8080/"
        },
        "id": "aLursdwHtUUu",
        "outputId": "32a4b217-24f0-4de9-d916-d01d8822a53b"
      },
      "execution_count": null,
      "outputs": [
        {
          "output_type": "stream",
          "name": "stdout",
          "text": [
            "enter number of rows:2\n",
            "enter number of columns:3\n",
            "Enter elements of first matrix:\n",
            "1 2 3\n",
            "4 5 6\n",
            "Enter elements of second matrix:\n",
            "2 3 4\n",
            "5 6 7\n",
            "sum of matrices:\n",
            "[3, 5, 7]\n",
            "[9, 11, 13]\n"
          ]
        }
      ]
    },
    {
      "cell_type": "markdown",
      "source": [
        "Multiplication of two matrices"
      ],
      "metadata": {
        "id": "xIfag9G-wjQE"
      }
    },
    {
      "cell_type": "code",
      "source": [
        "rows1 = int(input(\"Enter number of rows for first matrix: \"))\n",
        "cols1 = int(input(\"Enter number of columns for first matrix: \"))\n",
        "print(\"Enter elements of first matrix:\")\n",
        "matrix1 = [list(map(int, input().split())) for _ in range(rows1)]\n",
        "\n",
        "rows2 = int(input(\"Enter number of rows for second matrix: \"))\n",
        "cols2 = int(input(\"Enter number of columns for second matrix: \"))\n",
        "print(\"Enter elements of second matrix:\")\n",
        "matrix2 = [list(map(int, input().split())) for _ in range(rows2)]\n",
        "\n",
        "if cols1 != rows2:\n",
        "    print(\"Matrix multiplication not possible\")\n",
        "else:\n",
        "  result = [[sum(matrix1[i][k] * matrix2[k][j] for k in range(cols1)) for j in range(cols2)] for i in range(rows1)]\n",
        "  print(\"product of matrices:\")\n",
        "  for row in result:\n",
        "     print(*row)"
      ],
      "metadata": {
        "colab": {
          "base_uri": "https://localhost:8080/"
        },
        "id": "mDPW1gFxwm0G",
        "outputId": "eeddac74-0cf2-4fbf-e589-183516ebc0a1"
      },
      "execution_count": null,
      "outputs": [
        {
          "output_type": "stream",
          "name": "stdout",
          "text": [
            "Enter number of rows for first matrix: 2\n",
            "Enter number of columns for first matrix: 3\n",
            "Enter elements of first matrix:\n",
            "1 2 3\n",
            "4 5 6\n",
            "Enter number of rows for second matrix: 3\n",
            "Enter number of columns for second matrix: 4\n",
            "Enter elements of second matrix:\n",
            "1 2 3 4\n",
            "2 3 4 5\n",
            "3 4 5 6\n",
            "product of matrices:\n",
            "14 20 26 32\n",
            "32 47 62 77\n"
          ]
        }
      ]
    },
    {
      "cell_type": "markdown",
      "source": [
        "TRANSPOSE OF A MATRIX"
      ],
      "metadata": {
        "id": "vUV55EjzzbZ1"
      }
    },
    {
      "cell_type": "code",
      "source": [
        "rows = int(input(\"Enter number of rows: \"))\n",
        "cols = int(input(\"Enter number of columns: \"))\n",
        "print(\"Enter matrix elements:\")\n",
        "matrix = [list(map(int, input().split())) for _ in range(rows)]\n",
        "transpose = [[matrix[j][i] for j in range(rows)] for i in range(cols)]\n",
        "v  print(\"Transpose of the matrix:\")\n",
        "for row in transpose:\n",
        "    print(*row)\n"
      ],
      "metadata": {
        "colab": {
          "base_uri": "https://localhost:8080/"
        },
        "id": "IsdUMMypzdr1",
        "outputId": "b5e2d75b-d9ea-46f7-be50-d264ec2694fa"
      },
      "execution_count": null,
      "outputs": [
        {
          "output_type": "stream",
          "name": "stdout",
          "text": [
            "Enter number of rows: 2\n",
            "Enter number of columns: 3\n",
            "Enter matrix elements:\n",
            "1 2 3\n",
            "4 5 6\n",
            "Transpose of the matrix:\n",
            "1 4\n",
            "2 5\n",
            "3 6\n"
          ]
        }
      ]
    },
    {
      "cell_type": "markdown",
      "source": [
        "sorting the words in alphabetical order"
      ],
      "metadata": {
        "id": "jDwfsP3y1NpB"
      }
    },
    {
      "cell_type": "code",
      "source": [
        "words = input(\"Enter words separated by space: \").split()\n",
        "words.sort()\n",
        "print(\"the sorted words are:\",words)"
      ],
      "metadata": {
        "colab": {
          "base_uri": "https://localhost:8080/"
        },
        "id": "9pEDwSvK1NaI",
        "outputId": "ec3fdd7a-412a-4696-f14f-ac981f375452"
      },
      "execution_count": null,
      "outputs": [
        {
          "output_type": "stream",
          "name": "stdout",
          "text": [
            "Enter words separated by space: dhana Dhana Madhuri Kamakshi\n",
            "the sorted words are: ['Dhana', 'Kamakshi', 'Madhuri', 'dhana']\n"
          ]
        }
      ]
    },
    {
      "cell_type": "markdown",
      "source": [
        "Remove punctuations from a string"
      ],
      "metadata": {
        "id": "vA6GtilI5oA0"
      }
    },
    {
      "cell_type": "code",
      "source": [
        "import string\n",
        "text = input(\"Enter a string: \")\n",
        "result = \"\".join(char for char in text if char not in string.punctuation)\n",
        "print(\"String without punctuation:\", result)\n"
      ],
      "metadata": {
        "id": "OctQS__45z-L",
        "outputId": "eb73d936-f54a-4948-da5a-4a6fd86d1fce",
        "colab": {
          "base_uri": "https://localhost:8080/"
        }
      },
      "execution_count": null,
      "outputs": [
        {
          "output_type": "stream",
          "name": "stdout",
          "text": [
            "Enter a string: *m&a(d^h+u$r?i\n",
            "String without punctuation: madhuri\n"
          ]
        }
      ]
    },
    {
      "cell_type": "markdown",
      "source": [
        "disarium number"
      ],
      "metadata": {
        "id": "Ix0nVyeL8qZi"
      }
    },
    {
      "cell_type": "code",
      "source": [
        "num = int(input(\"Enter a number: \"))\n",
        "s = str(num)\n",
        "total = 0\n",
        "for i in range(len(s)):\n",
        "    total += int(s[i]) ** (i + 1)\n",
        "\n",
        "if total == num:\n",
        "    print(num, \"is a Disarium Number\")\n",
        "else:\n",
        "    print(num, \"is not a Disarium Number\")\n",
        "num = int(input(\"Enter a number: \"))\n",
        "s = str(num)\n",
        "total = 0\n",
        "for i in range(len(s)):\n",
        "    total += int(s[i]) ** (i + 1)\n",
        "\n",
        "if total == num:\n",
        "    print(num, \"is a Disarium Number\")\n",
        "else:\n",
        "    print(num, \"is not a Disarium Number\")"
      ],
      "metadata": {
        "id": "eNjdSCON-SJS",
        "outputId": "62fe15ef-d85b-40b3-bca2-8c1092c0ac30",
        "colab": {
          "base_uri": "https://localhost:8080/"
        }
      },
      "execution_count": null,
      "outputs": [
        {
          "output_type": "stream",
          "name": "stdout",
          "text": [
            "Enter a number: 20\n",
            "20 is not a Disarium Number\n",
            "Enter a number: 89\n",
            "89 is a Disarium Number\n"
          ]
        }
      ]
    },
    {
      "cell_type": "markdown",
      "source": [
        "disarium number from 1 to 100"
      ],
      "metadata": {
        "id": "tT-nnv46-pXK"
      }
    },
    {
      "cell_type": "code",
      "source": [
        "for num in range(1,100):\n",
        "  s = str(num)\n",
        "  total = 0\n",
        "  for i in range(len(s)):\n",
        "      total += int(s[i]) ** (i + 1)\n",
        "\n",
        "  if total == num:\n",
        "      print(num)\n"
      ],
      "metadata": {
        "id": "bEqhM_U0-r5J",
        "outputId": "755121fa-b2fe-49ba-e787-b4b35c3147b4",
        "colab": {
          "base_uri": "https://localhost:8080/"
        }
      },
      "execution_count": null,
      "outputs": [
        {
          "output_type": "stream",
          "name": "stdout",
          "text": [
            "1\n",
            "2\n",
            "3\n",
            "4\n",
            "5\n",
            "6\n",
            "7\n",
            "8\n",
            "9\n",
            "89\n"
          ]
        }
      ]
    },
    {
      "cell_type": "markdown",
      "source": [
        "Happy Number"
      ],
      "metadata": {
        "id": "aAnXLTQ_AEY9"
      }
    },
    {
      "cell_type": "code",
      "source": [
        "num = int(input(\"Enter a number: \"))\n",
        "n = num\n",
        "seen = set()\n",
        "\n",
        "while n != 1 and n not in seen:\n",
        "    seen.add(n)\n",
        "    next_n = 0\n",
        "    while n > 0:\n",
        "        digit = n % 10\n",
        "        next_n += digit ** 2\n",
        "        n //= 10\n",
        "    n = next_n\n",
        "\n",
        "if n == 1:\n",
        "    print(num, \"is a Happy Number\")\n",
        "else:\n",
        "    print(num, \"is not a Happy Number\")\n"
      ],
      "metadata": {
        "id": "ohRHUAp0-07s",
        "outputId": "0ef13842-6d2f-4a8b-b71a-321cfce0f24c",
        "colab": {
          "base_uri": "https://localhost:8080/"
        }
      },
      "execution_count": null,
      "outputs": [
        {
          "output_type": "stream",
          "name": "stdout",
          "text": [
            "Enter a number: 23\n",
            "23 is a Happy Number\n"
          ]
        }
      ]
    },
    {
      "cell_type": "markdown",
      "source": [
        "happy number in a range"
      ],
      "metadata": {
        "id": "_RflCWkyCVMJ"
      }
    },
    {
      "cell_type": "code",
      "source": [
        "for num in range(1,100):\n",
        "  n = num\n",
        "  seen = set()\n",
        "\n",
        "  while n != 1 and n not in seen:\n",
        "      seen.add(n)\n",
        "      next_n = 0\n",
        "      while n > 0:\n",
        "          digit = n % 10\n",
        "          next_n += digit ** 2\n",
        "          n //= 10\n",
        "      n = next_n\n",
        "\n",
        "  if n == 1:\n",
        "      print(num)\n"
      ],
      "metadata": {
        "id": "P2gHSuEJCYDE",
        "outputId": "b535c441-8b97-4753-f1af-62c99eacb9a8",
        "colab": {
          "base_uri": "https://localhost:8080/"
        }
      },
      "execution_count": null,
      "outputs": [
        {
          "output_type": "stream",
          "name": "stdout",
          "text": [
            "1\n",
            "7\n",
            "10\n",
            "13\n",
            "19\n",
            "23\n",
            "28\n",
            "31\n",
            "32\n",
            "44\n",
            "49\n",
            "68\n",
            "70\n",
            "79\n",
            "82\n",
            "86\n",
            "91\n",
            "94\n",
            "97\n"
          ]
        }
      ]
    },
    {
      "cell_type": "markdown",
      "source": [
        "Harshad number"
      ],
      "metadata": {
        "id": "etBGj4CEDPUM"
      }
    },
    {
      "cell_type": "code",
      "source": [
        "num = int(input(\"Enter a number: \"))\n",
        "n = num\n",
        "sum_digits = 0\n",
        "\n",
        "while n > 0:\n",
        "    sum_digits += n % 10\n",
        "    n //= 10\n",
        "\n",
        "if num % sum_digits == 0:\n",
        "    print(num, \"is a Harshad Number\")\n",
        "else:\n",
        "    print(num, \"is not a Harshad Number\")\n"
      ],
      "metadata": {
        "id": "f67s_FD9DWEK",
        "outputId": "c594ba54-e256-49d0-fe05-f81856da92d2",
        "colab": {
          "base_uri": "https://localhost:8080/"
        }
      },
      "execution_count": null,
      "outputs": [
        {
          "output_type": "stream",
          "name": "stdout",
          "text": [
            "Enter a number: 18\n",
            "18 is a Harshad Number\n"
          ]
        }
      ]
    },
    {
      "cell_type": "markdown",
      "source": [
        "pronic number from 1 to 100"
      ],
      "metadata": {
        "id": "z7oxSE5Sci7a"
      }
    },
    {
      "cell_type": "code",
      "source": [
        "for n in range(1,101):\n",
        "  x=int((n)**0.5)\n",
        "  if x*(x+1)==n:\n",
        "    print(n)"
      ],
      "metadata": {
        "colab": {
          "base_uri": "https://localhost:8080/"
        },
        "id": "YDCNNZ81cmXQ",
        "outputId": "19248813-bc72-4c80-e33b-8b182bca67e0"
      },
      "execution_count": null,
      "outputs": [
        {
          "output_type": "stream",
          "name": "stdout",
          "text": [
            "2\n",
            "6\n",
            "12\n",
            "20\n",
            "30\n",
            "42\n",
            "56\n",
            "72\n",
            "90\n"
          ]
        }
      ]
    },
    {
      "cell_type": "code",
      "source": [
        "import math\n",
        "num=math.sqrt(90)\n",
        "print(num)"
      ],
      "metadata": {
        "colab": {
          "base_uri": "https://localhost:8080/"
        },
        "id": "wQuL5jSwdJhR",
        "outputId": "7e704e70-0c95-40a7-86d7-8e2e7610e912"
      },
      "execution_count": null,
      "outputs": [
        {
          "output_type": "stream",
          "name": "stdout",
          "text": [
            "9.486832980505138\n"
          ]
        }
      ]
    },
    {
      "cell_type": "markdown",
      "source": [
        "sum of numbers in a list"
      ],
      "metadata": {
        "id": "ejLd_kQPdRW0"
      }
    },
    {
      "cell_type": "code",
      "source": [
        "n=[1,2,3,4,5,6]\n",
        "print(sum(n))"
      ],
      "metadata": {
        "colab": {
          "base_uri": "https://localhost:8080/"
        },
        "id": "jcxCoAwkdw6L",
        "outputId": "8b822ac5-3fe2-468a-c453-70eb7131b46e"
      },
      "execution_count": null,
      "outputs": [
        {
          "output_type": "stream",
          "name": "stdout",
          "text": [
            "21\n"
          ]
        }
      ]
    },
    {
      "cell_type": "markdown",
      "source": [
        "product of elements in a list"
      ],
      "metadata": {
        "id": "545Oh_svfBHT"
      }
    },
    {
      "cell_type": "code",
      "source": [
        "elements=[1,2,3,4,5]\n",
        "product=1\n",
        "for n in elements:\n",
        "  product*=n\n",
        "print(product)"
      ],
      "metadata": {
        "colab": {
          "base_uri": "https://localhost:8080/"
        },
        "id": "w5ct6n5biXbW",
        "outputId": "a67015bc-2e93-4609-ab13-ba0227920911"
      },
      "execution_count": null,
      "outputs": [
        {
          "output_type": "stream",
          "name": "stdout",
          "text": [
            "120\n"
          ]
        }
      ]
    },
    {
      "cell_type": "markdown",
      "source": [
        "second largest elements in a list"
      ],
      "metadata": {
        "id": "bB59OIiJkTfv"
      }
    },
    {
      "cell_type": "code",
      "source": [
        "numbers=[1,4,5,788,98,34,54,56]\n",
        "numbers.sort()\n",
        "print(numbers[-2])"
      ],
      "metadata": {
        "colab": {
          "base_uri": "https://localhost:8080/"
        },
        "id": "2CpAx4mMkYEd",
        "outputId": "7421d0ba-602d-4561-a84f-bbcefb977747"
      },
      "execution_count": null,
      "outputs": [
        {
          "output_type": "stream",
          "name": "stdout",
          "text": [
            "98\n"
          ]
        }
      ]
    },
    {
      "cell_type": "markdown",
      "source": [
        "print n number of largest numbers"
      ],
      "metadata": {
        "id": "Jf1l8ZQ3k07i"
      }
    },
    {
      "cell_type": "code",
      "source": [
        "numbers=[23,43,12,34,56,32,12]\n",
        "n=3\n",
        "numbers.sort(reverse=True)\n",
        "print(numbers[:n])"
      ],
      "metadata": {
        "colab": {
          "base_uri": "https://localhost:8080/"
        },
        "id": "pW18pkCnmR-z",
        "outputId": "c1826a81-734c-4b10-899f-5acec85dbd91"
      },
      "execution_count": null,
      "outputs": [
        {
          "output_type": "stream",
          "name": "stdout",
          "text": [
            "[56, 43, 34]\n"
          ]
        }
      ]
    },
    {
      "cell_type": "markdown",
      "source": [
        "print even numbers in a list"
      ],
      "metadata": {
        "id": "5F9Gbn4coDNi"
      }
    },
    {
      "cell_type": "code",
      "source": [
        "numbers=[23,43,12,34,56,32,12]\n",
        "for n in numbers:\n",
        "  if n%2==0:\n",
        "    print(n)"
      ],
      "metadata": {
        "colab": {
          "base_uri": "https://localhost:8080/"
        },
        "id": "paHq6-EMoIAB",
        "outputId": "899568b9-1c00-4bbf-d496-3eca656e6d07"
      },
      "execution_count": null,
      "outputs": [
        {
          "output_type": "stream",
          "name": "stdout",
          "text": [
            "12\n",
            "34\n",
            "56\n",
            "32\n",
            "12\n"
          ]
        }
      ]
    },
    {
      "cell_type": "markdown",
      "source": [
        "odd numbers in a list"
      ],
      "metadata": {
        "id": "buWAPNVkr_DW"
      }
    },
    {
      "cell_type": "code",
      "source": [
        "numbers=[23,43,12,34,56,32,12]\n",
        "for n in numbers:\n",
        "  if n%2!=0:\n",
        "    print(n)"
      ],
      "metadata": {
        "colab": {
          "base_uri": "https://localhost:8080/"
        },
        "id": "2IN_pwtTr5lf",
        "outputId": "769f644f-8b21-48af-a66b-bfbc75948c4b"
      },
      "execution_count": null,
      "outputs": [
        {
          "output_type": "stream",
          "name": "stdout",
          "text": [
            "23\n",
            "43\n"
          ]
        }
      ]
    },
    {
      "cell_type": "markdown",
      "source": [
        "remove empty list from a list"
      ],
      "metadata": {
        "id": "D9KBiaFXt-zg"
      }
    },
    {
      "cell_type": "code",
      "source": [
        "elements=[1,2,[],3,4,[],[],7,9,10]\n",
        "result=[]\n",
        "for n in elements:\n",
        "  if n!=[]:\n",
        "    result.append(n)\n",
        "print(result)"
      ],
      "metadata": {
        "colab": {
          "base_uri": "https://localhost:8080/"
        },
        "id": "wC2paV_auC45",
        "outputId": "ac837bef-5e4f-4fb5-c74e-45e23a3e025e"
      },
      "execution_count": null,
      "outputs": [
        {
          "output_type": "stream",
          "name": "stdout",
          "text": [
            "[1, 2, 3, 4, 7, 9, 10]\n"
          ]
        }
      ]
    },
    {
      "cell_type": "markdown",
      "source": [
        "cloning or copying a list"
      ],
      "metadata": {
        "id": "MnfpGZvPv_4D"
      }
    },
    {
      "cell_type": "code",
      "source": [
        "list1=[1,2,3,4,5]\n",
        "list2=list1.copy()\n",
        "print(list2)\n",
        "original_list = [1, 2, 3, 4, 5]\n",
        "cloned_list = list(original_list)\n",
        "print(cloned_list)\n"
      ],
      "metadata": {
        "colab": {
          "base_uri": "https://localhost:8080/"
        },
        "id": "KfkuOFsEwH-w",
        "outputId": "3b93c72e-c423-4a82-8b62-283fe879a519"
      },
      "execution_count": null,
      "outputs": [
        {
          "output_type": "stream",
          "name": "stdout",
          "text": [
            "[1, 2, 3, 4, 5]\n",
            "[1, 2, 3, 4, 5]\n"
          ]
        }
      ]
    },
    {
      "cell_type": "markdown",
      "source": [
        "count occurance of elements in a list"
      ],
      "metadata": {
        "id": "9tNE6Hcxw2pO"
      }
    },
    {
      "cell_type": "code",
      "source": [
        "list1=[1,2,3,4,1,2,2,4,5,2]\n",
        "count=list1.count(2)\n",
        "print(count)"
      ],
      "metadata": {
        "colab": {
          "base_uri": "https://localhost:8080/"
        },
        "id": "C-ZCvbImxH9J",
        "outputId": "7f6c5d8e-e168-430a-fa14-0657ff7a2063"
      },
      "execution_count": null,
      "outputs": [
        {
          "output_type": "stream",
          "name": "stdout",
          "text": [
            "4\n"
          ]
        }
      ]
    },
    {
      "cell_type": "markdown",
      "source": [
        "print words greaater tha k"
      ],
      "metadata": {
        "id": "cWBLnG3PzcXw"
      }
    },
    {
      "cell_type": "code",
      "source": [
        "list1=[\"apple\",\"madhuri\",\"bag\",\"car\",\"mango\",\"grapes\"]\n",
        "result=[]\n",
        "k=4\n",
        "for n in list1:\n",
        "  if len(n)>k:\n",
        "    result.append(n)\n",
        "print(result)"
      ],
      "metadata": {
        "colab": {
          "base_uri": "https://localhost:8080/"
        },
        "id": "FjSgeBQ0zfKl",
        "outputId": "fc8f69e5-9590-4731-9ad7-ee4cb33ee732"
      },
      "execution_count": null,
      "outputs": [
        {
          "output_type": "stream",
          "name": "stdout",
          "text": [
            "['apple', 'madhuri', 'mango', 'grapes']\n"
          ]
        }
      ]
    },
    {
      "cell_type": "markdown",
      "source": [
        "remving ith character"
      ],
      "metadata": {
        "id": "pGcoOyIC0ZqH"
      }
    },
    {
      "cell_type": "code",
      "source": [
        "text = \"Madhuri\"\n",
        "i = 3\n",
        "new_text = text[:i] + text[i+1:]\n",
        "print(new_text)\n"
      ],
      "metadata": {
        "colab": {
          "base_uri": "https://localhost:8080/"
        },
        "id": "Qa9aohQf1ZUH",
        "outputId": "2b5e8293-b74f-414c-c434-d275558df598"
      },
      "execution_count": null,
      "outputs": [
        {
          "output_type": "stream",
          "name": "stdout",
          "text": [
            "Maduri\n"
          ]
        }
      ]
    },
    {
      "cell_type": "markdown",
      "source": [
        " program to split and join a string"
      ],
      "metadata": {
        "id": "QDsIVSQb1p5q"
      }
    },
    {
      "cell_type": "code",
      "source": [
        "str1=\"madhuri loves python\"\n",
        "word=str1.split()\n",
        "print(word)\n",
        "new_text=\"-\".join(word)\n",
        "print(new_text)"
      ],
      "metadata": {
        "colab": {
          "base_uri": "https://localhost:8080/"
        },
        "id": "T_459MiZ2qcn",
        "outputId": "e4f6b815-f605-45df-ceb4-2aaf5535fb73"
      },
      "execution_count": null,
      "outputs": [
        {
          "output_type": "stream",
          "name": "stdout",
          "text": [
            "['madhuri', 'loves', 'python']\n",
            "madhuri-loves-python\n"
          ]
        }
      ]
    },
    {
      "cell_type": "markdown",
      "source": [
        "check if a given string is binary string or not.\n"
      ],
      "metadata": {
        "id": "60NIOomg4NzC"
      }
    },
    {
      "cell_type": "code",
      "source": [
        "string=input(\"enter a string:\")\n",
        "for ch in string:\n",
        "  if ch != '0' and ch != '1':\n",
        "    print(\"not a binary string\")\n",
        "    break\n",
        "else:\n",
        "  print(\"it is a binary string\")"
      ],
      "metadata": {
        "colab": {
          "base_uri": "https://localhost:8080/"
        },
        "id": "dcZh4hi_4Oh6",
        "outputId": "b6c63880-2fca-417f-9ef6-070e12122007"
      },
      "execution_count": null,
      "outputs": [
        {
          "output_type": "stream",
          "name": "stdout",
          "text": [
            "enter a string:0011\n",
            "it is a binary string\n"
          ]
        }
      ]
    },
    {
      "cell_type": "markdown",
      "source": [
        "print uncommon words"
      ],
      "metadata": {
        "id": "XQjef0U7Te5S"
      }
    },
    {
      "cell_type": "code",
      "source": [
        "str1=\"apple banana mango\"\n",
        "str2=\"apple banana orange\"\n",
        "str1=set(str1.split())\n",
        "str2=set(str2.split())\n",
        "uncommon=str1.symmetric_difference(str2)\n",
        "print(uncommon)"
      ],
      "metadata": {
        "colab": {
          "base_uri": "https://localhost:8080/"
        },
        "id": "HPCtsnL5Th_Z",
        "outputId": "a3d665b3-3b9c-4711-f7e8-da5e3fd1bd7d"
      },
      "execution_count": null,
      "outputs": [
        {
          "output_type": "stream",
          "name": "stdout",
          "text": [
            "{'mango', 'orange'}\n"
          ]
        }
      ]
    },
    {
      "cell_type": "markdown",
      "source": [
        " print duplicate characers in a list\n",
        "\n"
      ],
      "metadata": {
        "id": "5OWps9TIUEYf"
      }
    },
    {
      "cell_type": "code",
      "source": [
        "str1=\"apple banana mango\"\n",
        "duplicates = []\n",
        "for ch in str1:\n",
        "    if str1.count(ch) > 1 and ch not in duplicates:\n",
        "        duplicates.append(ch)\n",
        "print(duplicates)\n",
        "\n"
      ],
      "metadata": {
        "colab": {
          "base_uri": "https://localhost:8080/"
        },
        "id": "4Lmt8_zSUVDY",
        "outputId": "14f28d51-6fdf-4aa1-df8e-ad4683ba0c0e"
      },
      "execution_count": null,
      "outputs": [
        {
          "output_type": "stream",
          "name": "stdout",
          "text": [
            "['a', 'p', ' ', 'n']\n"
          ]
        }
      ]
    },
    {
      "cell_type": "markdown",
      "source": [
        "check special characters in a string"
      ],
      "metadata": {
        "id": "y74H5tfnXooh"
      }
    },
    {
      "cell_type": "code",
      "source": [
        "import string\n",
        "text = input(\"Enter a string: \")\n",
        "for char in text:\n",
        "  if char in string.punctuation:\n",
        "    print(\"special character found\")\n",
        "    break\n",
        "else:\n",
        "  print(\"no special character found\")\n",
        "import string\n",
        "text = input(\"Enter a string: \")\n",
        "for char in text:\n",
        "  if char in string.punctuation:\n",
        "    print(\"special character found\")\n",
        "    break\n",
        "else:\n",
        "  print(\"no special character found\")"
      ],
      "metadata": {
        "colab": {
          "base_uri": "https://localhost:8080/"
        },
        "id": "o1Qs6ZtOXtba",
        "outputId": "e156b41e-6882-48a6-b3ae-3462b45a7f63"
      },
      "execution_count": null,
      "outputs": [
        {
          "output_type": "stream",
          "name": "stdout",
          "text": [
            "Enter a string: *gsnsg\n",
            "special character found\n",
            "Enter a string: madhu\n",
            "no special character found\n"
          ]
        }
      ]
    },
    {
      "cell_type": "markdown",
      "source": [
        "extractvunique values in a dict"
      ],
      "metadata": {
        "id": "v4DlOv8LcJ84"
      }
    },
    {
      "cell_type": "code",
      "source": [
        "dict1={'a': 10,\n",
        " 'b': 20,\n",
        " 'c': 30,\n",
        " 'd': 40,\n",
        " 'e': 20\n",
        "}\n",
        "unique_values = set(dict1.values())\n",
        "unique_values_list=list(unique_values)\n",
        "print(unique_values_list)"
      ],
      "metadata": {
        "colab": {
          "base_uri": "https://localhost:8080/"
        },
        "id": "AuSOMVMVcNMm",
        "outputId": "3ff4f9da-01b2-4c2d-f1d3-2c5260fbf23d"
      },
      "execution_count": null,
      "outputs": [
        {
          "output_type": "stream",
          "name": "stdout",
          "text": [
            "[40, 10, 20, 30]\n"
          ]
        }
      ]
    },
    {
      "cell_type": "markdown",
      "source": [
        "sum od dict values"
      ],
      "metadata": {
        "id": "kHuqFo0TeGNH"
      }
    },
    {
      "cell_type": "code",
      "source": [
        "dict1={'a': 10,\n",
        " 'b': 20,\n",
        " 'c': 30,\n",
        " 'd': 40,\n",
        " 'e': 20\n",
        "}\n",
        "values=list(dict1.values())\n",
        "sum_digits=sum(values)\n",
        "print(sum_digits)"
      ],
      "metadata": {
        "colab": {
          "base_uri": "https://localhost:8080/"
        },
        "id": "de18SK3_eICw",
        "outputId": "0cd10d32-898a-43e1-e6a8-0456ba442698"
      },
      "execution_count": null,
      "outputs": [
        {
          "output_type": "stream",
          "name": "stdout",
          "text": [
            "120\n"
          ]
        }
      ]
    },
    {
      "cell_type": "markdown",
      "source": [
        "merging two dictionaries"
      ],
      "metadata": {
        "id": "VM7JzXFbfsus"
      }
    },
    {
      "cell_type": "code",
      "source": [
        "dict1={'a': 10,\n",
        " 'b': 20,\n",
        " 'c': 30,\n",
        " 'd': 40,\n",
        " 'e': 20\n",
        "}\n",
        "dict2={'f':50,\n",
        "       'g':60,\n",
        "       'h':20\n",
        "\n",
        "}\n",
        "dict1.update(dict2)\n",
        "print(dict1)"
      ],
      "metadata": {
        "colab": {
          "base_uri": "https://localhost:8080/"
        },
        "id": "x1cjV-AefwcD",
        "outputId": "4a3eff89-5b3b-4031-8da3-ed0c4f9d22c8"
      },
      "execution_count": null,
      "outputs": [
        {
          "output_type": "stream",
          "name": "stdout",
          "text": [
            "{'a': 10, 'b': 20, 'c': 30, 'd': 40, 'e': 20, 'f': 50, 'g': 60, 'h': 20}\n"
          ]
        }
      ]
    },
    {
      "cell_type": "markdown",
      "source": [
        "convert key-values list to flat dictionary"
      ],
      "metadata": {
        "id": "NN2yjcAVgb-B"
      }
    },
    {
      "cell_type": "code",
      "source": [
        "key_values_list = [('a', 1), ('b', 2), ('c', 3), ('d', 4)]\n",
        "flat_dict = dict(key_values_list)\n",
        "print(flat_dict)\n"
      ],
      "metadata": {
        "colab": {
          "base_uri": "https://localhost:8080/"
        },
        "id": "VP5B-Nx7gpKv",
        "outputId": "2775740a-3de9-4b74-b72b-c3955e867ba9"
      },
      "execution_count": null,
      "outputs": [
        {
          "output_type": "stream",
          "name": "stdout",
          "text": [
            "{'a': 1, 'b': 2, 'c': 3, 'd': 4}\n"
          ]
        }
      ]
    },
    {
      "cell_type": "markdown",
      "source": [
        "insertion at the beginning in OrderedDict"
      ],
      "metadata": {
        "id": "f7LEIzocjzHq"
      }
    },
    {
      "cell_type": "code",
      "source": [
        "from collections import OrderedDict\n",
        "od = OrderedDict([('b', 2), ('c', 3)])\n",
        "od.update({'a': 1})\n",
        "od.move_to_end('a', last=False)\n",
        "print(od)\n"
      ],
      "metadata": {
        "colab": {
          "base_uri": "https://localhost:8080/"
        },
        "id": "0PQLK_20j3cW",
        "outputId": "83bdd18d-c743-4173-9e24-3586bf8b2f76"
      },
      "execution_count": null,
      "outputs": [
        {
          "output_type": "stream",
          "name": "stdout",
          "text": [
            "OrderedDict({'a': 1, 'b': 2, 'c': 3})\n"
          ]
        }
      ]
    },
    {
      "cell_type": "markdown",
      "source": [
        "to check order of character in string using OrderedDict()"
      ],
      "metadata": {
        "id": "wfW3vHAcluMT"
      }
    },
    {
      "cell_type": "code",
      "source": [
        "from collections import OrderedDict\n",
        "text = \"banana\"\n",
        "ordered = OrderedDict.fromkeys(text)\n",
        "print(\"Order of characters:\", ''.join(ordered))\n"
      ],
      "metadata": {
        "id": "l5wER_JDlu1l"
      },
      "execution_count": null,
      "outputs": []
    },
    {
      "cell_type": "markdown",
      "source": [
        "sort Python Dictionaries by Keys ."
      ],
      "metadata": {
        "id": "E2xJprDiwihW"
      }
    },
    {
      "cell_type": "code",
      "source": [
        "my_dict = {'b': 3, 'a': 1, 'c': 2}\n",
        "sorted_by_key = dict(sorted(my_dict.items()))\n",
        "print(sorted_by_key)\n"
      ],
      "metadata": {
        "colab": {
          "base_uri": "https://localhost:8080/"
        },
        "id": "imr1wnWowjU6",
        "outputId": "0be2b8e7-9df9-46e6-f8a2-ce5079169bf5"
      },
      "execution_count": null,
      "outputs": [
        {
          "output_type": "stream",
          "name": "stdout",
          "text": [
            "{'a': 1, 'b': 3, 'c': 2}\n"
          ]
        }
      ]
    },
    {
      "cell_type": "markdown",
      "source": [
        "sort Python Dictionaries by Value."
      ],
      "metadata": {
        "id": "e09fSW2yxO6F"
      }
    },
    {
      "cell_type": "code",
      "source": [
        "my_dict = {'b': 3, 'a': 1, 'c': 2}\n",
        "sorted_by_value = dict(sorted(my_dict.items(), key=lambda x: x[1]))\n",
        "print(sorted_by_value)\n"
      ],
      "metadata": {
        "colab": {
          "base_uri": "https://localhost:8080/"
        },
        "id": "K5TsdrVoxhXB",
        "outputId": "1311aa62-224a-470a-abdc-0fe4e20bc659"
      },
      "execution_count": null,
      "outputs": [
        {
          "output_type": "stream",
          "name": "stdout",
          "text": [
            "{'a': 1, 'c': 2, 'b': 3}\n"
          ]
        }
      ]
    },
    {
      "cell_type": "markdown",
      "source": [
        "Write a program that calculates and prints the value according to the given formula:\n",
        "𝑄 = Square root of 2𝐶𝐷/H\n",
        "Following are the fixed values of C and H:\n",
        "C is 50. H is 30.\n",
        "D is the variable whose values should be input to your program in a commaseparated sequence.\n",
        "Example\n",
        "Let us assume the following comma separated input sequence is given to the\n",
        "program:\n",
        "100,150,180\n",
        "The output of the program should be:\n",
        "18,22,24"
      ],
      "metadata": {
        "id": "C63zj3VZywWt"
      }
    },
    {
      "cell_type": "code",
      "source": [
        "import math\n",
        "\n",
        "C = 50\n",
        "H = 30\n",
        "values = input(\"Enter comma separated D values: \").split(',')\n",
        "\n",
        "result = []\n",
        "for D in values:\n",
        "    Q = int(math.sqrt((2 * C * int(D)) / H))\n",
        "    result.append(str(Q))\n",
        "\n",
        "print(\",\".join(result))\n"
      ],
      "metadata": {
        "colab": {
          "base_uri": "https://localhost:8080/"
        },
        "id": "9mNmv1hwyuXu",
        "outputId": "2038ca32-2240-47e8-c51c-a351614bc47b"
      },
      "execution_count": null,
      "outputs": [
        {
          "output_type": "stream",
          "name": "stdout",
          "text": [
            "Enter comma separated D values: 100,150,180\n",
            "18,22,24\n"
          ]
        }
      ]
    },
    {
      "cell_type": "markdown",
      "source": [
        "Write a program which takes 2 digits, X,Y as input and generates a 2-dimensional\n",
        "array. The element value in the i-th row and j-th column of the array should be i*j.\n",
        "Note: i=0,1.., X-1; j=0,1,¡Y-1.\n",
        "Example\n",
        "Suppose the following inputs are given to the program:\n",
        "3,5\n",
        "Then, the output of the program should be:\n",
        "[[0, 0, 0, 0, 0], [0, 1, 2, 3, 4], [0, 2, 4, 6, 8]]"
      ],
      "metadata": {
        "id": "dEOcyWET0F5F"
      }
    },
    {
      "cell_type": "code",
      "source": [
        "x, y = map(int, input(\"Enter X,Y: \").split(','))\n",
        "matrix = [[i * j for j in range(y)] for i in range(x)]\n",
        "print(matrix)\n"
      ],
      "metadata": {
        "id": "7SgYfsEh0DtV"
      },
      "execution_count": null,
      "outputs": []
    },
    {
      "cell_type": "markdown",
      "source": [
        "Write a program that accepts a comma separated sequence of words as input and\n",
        "prints the words in a comma-separated sequence after sorting them alphabetically.\n",
        "Suppose the following input is supplied to the program:\n",
        "without,hello,bag,world\n",
        "Then, the output should be:\n",
        "bag,hello,without,world"
      ],
      "metadata": {
        "id": "1QOH_XnA0tva"
      }
    },
    {
      "cell_type": "code",
      "source": [
        "words=input(\"enter the words separated by comma:\").split(\",\")\n",
        "words.sort()\n",
        "print(\",\".join(words))"
      ],
      "metadata": {
        "id": "E8x9D4Gs0u3d",
        "outputId": "c5192add-ed34-45dd-8f8c-16a2b18c8508",
        "colab": {
          "base_uri": "https://localhost:8080/"
        }
      },
      "execution_count": null,
      "outputs": [
        {
          "output_type": "stream",
          "name": "stdout",
          "text": [
            "enter the words separated by comma:madhuri,nandf,dhana,\n",
            ",dhana,madhuri,nandf\n"
          ]
        }
      ]
    },
    {
      "cell_type": "markdown",
      "source": [
        "Write a program that accepts a sequence of whitespace separated words as input\n",
        "and prints the words after removing all duplicate words and sorting them\n",
        "alphanumerically.\n",
        "Suppose the following input is supplied to the program:\n",
        "hello world and practice makes perfect and hello world again\n",
        "Then, the output should be:\n",
        "again and hello makes perfect practice world"
      ],
      "metadata": {
        "id": "pyiBBs8i7zu3"
      }
    },
    {
      "cell_type": "code",
      "source": [
        "words=input(\"enter the words separated by space:\").split(\" \")\n",
        "unique_words=sorted(set(words))\n",
        "print(\" \".join(unique_words))"
      ],
      "metadata": {
        "id": "p5e3soI872Qp",
        "outputId": "e0c08fb9-8b36-4d2a-b815-bf820aa93bde",
        "colab": {
          "base_uri": "https://localhost:8080/"
        }
      },
      "execution_count": null,
      "outputs": [
        {
          "output_type": "stream",
          "name": "stdout",
          "text": [
            "enter the words separated by space:madhuri again happy again world happy\n",
            "again happy madhuri world\n"
          ]
        }
      ]
    },
    {
      "cell_type": "markdown",
      "source": [
        "count the letters and digits"
      ],
      "metadata": {
        "id": "uqLUPXCm-apo"
      }
    },
    {
      "cell_type": "code",
      "source": [
        "sentence=input(\"enter the sentence:\")\n",
        "letters=0\n",
        "digits=0\n",
        "for char in sentence:\n",
        "  if char.isalpha():\n",
        "    letters+=1\n",
        "  if char.isdigit():\n",
        "    digits+=1\n",
        "print(\"letters:\",letters)\n",
        "print(\"digits:\",digits)"
      ],
      "metadata": {
        "id": "R0wtAq-H-eol",
        "outputId": "c4e6cbeb-5f83-485c-a610-ed38c0b8256d",
        "colab": {
          "base_uri": "https://localhost:8080/"
        }
      },
      "execution_count": null,
      "outputs": [
        {
          "output_type": "stream",
          "name": "stdout",
          "text": [
            "enter the sentence:madhuri hello 12345 !!\n",
            "letters: 12\n",
            "digits: 5\n"
          ]
        }
      ]
    },
    {
      "cell_type": "markdown",
      "source": [
        "A website requires the users to input username and password to register. Write a\n",
        "program to check the validity of password input by users. Following are the criteria\n",
        "for checking the password:\n",
        "1. At least 1 letter between [a-z]\n",
        "2. At least 1 number between [0-9]\n",
        "1. At least 1 letter between [A-Z]\n",
        "3. At least 1 character from [$#@]\n",
        "4. Minimum length of transaction password: 6\n",
        "5. Maximum length of transaction password: 12\n",
        "Your program should accept a sequence of comma separated passwords and will\n",
        "check them according to the above criteria. Passwords that match the criteria are to\n",
        "be printed, each separated by a comma.\n",
        "Example\n",
        "If the following passwords are given as input to the program:\n",
        "ABd1234@1,a F1#,2w3E*,2We3345\n",
        "Then, the output of the program should be:\n",
        "ABd1234@1"
      ],
      "metadata": {
        "id": "0EMEhuTgBPk2"
      }
    },
    {
      "cell_type": "code",
      "source": [
        "\n",
        "import re\n",
        "\n",
        "passwords = input(\"Enter comma-separated passwords: \").split(',')\n",
        "valid = []\n",
        "\n",
        "for pwd in passwords:\n",
        "    pwd = pwd.strip()  # remove spaces\n",
        "    if (6 <= len(pwd) <= 12 and\n",
        "        re.search(\"[a-z]\", pwd) and\n",
        "        re.search(\"[A-Z]\", pwd) and\n",
        "        re.search(\"[0-9]\", pwd) and\n",
        "        re.search(\"[$#@]\", pwd)):\n",
        "        valid.append(pwd)\n",
        "\n",
        "print(\",\".join(valid))\n"
      ],
      "metadata": {
        "id": "u67V4Mdt_7c-",
        "outputId": "e5e34f4c-1964-4614-b757-e2c9ca536dee",
        "colab": {
          "base_uri": "https://localhost:8080/"
        }
      },
      "execution_count": null,
      "outputs": [
        {
          "output_type": "stream",
          "name": "stdout",
          "text": [
            "Enter comma-separated passwords: Abfc12@#,hfgjgh,4365u,#$\n",
            "Abfc12@#\n"
          ]
        }
      ]
    },
    {
      "cell_type": "markdown",
      "source": [
        "Write a program to compute the frequency of the words from the input. The output\n",
        "should output after sorting the key alphanumerically. Suppose the following input is\n",
        "supplied to the program:\n",
        "New to Python or choosing between Python 2 and Python 3? Read Python 2 or\n",
        "Python 3.\n",
        "Then, the output should be:\n",
        "2:2\n",
        "3.:1\n",
        "3?:1\n",
        "New:1\n",
        "Python:5\n",
        "Read:1\n",
        "and:1\n",
        "between:1\n",
        "choosing:1\n",
        "or:2\n",
        "to:1"
      ],
      "metadata": {
        "id": "eV3tQNH-BO7v"
      }
    },
    {
      "cell_type": "code",
      "source": [
        "from collections import Counter\n",
        "text = input(\"Enter text: \").split()\n",
        "freq = Counter(text)\n",
        "for word in sorted(freq.keys()):\n",
        "    print(f\"{word}:{freq[word]}\")\n"
      ],
      "metadata": {
        "id": "7QOk9vdXCO_z",
        "outputId": "e37e3389-659a-4bce-8e02-43555a092be1",
        "colab": {
          "base_uri": "https://localhost:8080/"
        }
      },
      "execution_count": null,
      "outputs": [
        {
          "output_type": "stream",
          "name": "stdout",
          "text": [
            "Enter text: madhuri 1 2 3 4 5 2 3 4 5 madhuri madhuri dhana python\n",
            "1:1\n",
            "2:2\n",
            "3:2\n",
            "4:2\n",
            "5:2\n",
            "dhana:1\n",
            "madhuri:3\n",
            "python:1\n"
          ]
        }
      ]
    },
    {
      "cell_type": "markdown",
      "source": [
        "Please write a program to generate all sentences where subject is in [\"I\", \"You\"] and\n",
        "verb is in [\"Play\", \"Love\"] and the object is in [\"Hockey\",\"Football\"].\n"
      ],
      "metadata": {
        "id": "-zsvIal4DpRR"
      }
    },
    {
      "cell_type": "code",
      "source": [
        "subjects = [\"I\", \"You\"]\n",
        "verbs = [\"Play\", \"Love\"]\n",
        "objects = [\"Hockey\", \"Football\"]\n",
        "sentences = []\n",
        "for sub in subjects:\n",
        " for vrb in verbs:\n",
        "  for obj in objects:\n",
        "    sentence = f\"{sub} {vrb} {obj}.\"\n",
        "    sentences.append(sentence)\n",
        "for sentence in sentences:\n",
        " print(sentence)\n"
      ],
      "metadata": {
        "id": "HPcipFsSDq_0",
        "outputId": "67323c95-cbda-456d-db56-f810485c5de7",
        "colab": {
          "base_uri": "https://localhost:8080/"
        }
      },
      "execution_count": null,
      "outputs": [
        {
          "output_type": "stream",
          "name": "stdout",
          "text": [
            "I Play Hockey.\n",
            "I Play Football.\n",
            "I Love Hockey.\n",
            "I Love Football.\n",
            "You Play Hockey.\n",
            "You Play Football.\n",
            "You Love Hockey.\n",
            "You Love Football.\n"
          ]
        }
      ]
    },
    {
      "cell_type": "markdown",
      "source": [
        "Please write a program to compress and decompress the string \"hello world!hello\n",
        "world!hello world!hello world!\"."
      ],
      "metadata": {
        "id": "MEGc5lWjESY9"
      }
    },
    {
      "cell_type": "code",
      "source": [
        "import zlib\n",
        "string = \"hello world!hello world!hello world!hello world!\"\n",
        "compressed_string = zlib.compress(string.encode())\n",
        "decompressed_string = zlib.decompress(compressed_string).decode()\n",
        "print(\"Original String:\", string)\n",
        "print(\"Compressed String:\", compressed_string)\n",
        "print(\"Decompressed String:\", decompressed_string)"
      ],
      "metadata": {
        "id": "tX5Y6EYIETyE",
        "outputId": "14744a89-cf69-498c-f6ad-d92e797ce82d",
        "colab": {
          "base_uri": "https://localhost:8080/"
        }
      },
      "execution_count": null,
      "outputs": [
        {
          "output_type": "stream",
          "name": "stdout",
          "text": [
            "Original String: hello world!hello world!hello world!hello world!\n",
            "Compressed String: b'x\\x9c\\xcbH\\xcd\\xc9\\xc9W(\\xcf/\\xcaIQ\\xcc \\x82\\r\\x00\\xbd[\\x11\\xf5'\n",
            "Decompressed String: hello world!hello world!hello world!hello world!\n"
          ]
        }
      ]
    },
    {
      "cell_type": "markdown",
      "source": [
        "Write a function that stutters a word as if someone is struggling to read it. The first\n",
        "two letters are repeated twice with an ellipsis ... and space after each, and then the\n",
        "word is pronounced with a question mark ?.\n",
        "Examples\n",
        "stutter(\"incredible\") ➞ \"in... in... incredible?\"\n",
        "stutter(\"enthusiastic\") ➞ \"en... en... enthusiastic?\"\n",
        "stutter(\"outstanding\") ➞ \"ou... ou... outstanding?\"\n",
        "Hint :- Assume all input is in lower case and at least two characters long"
      ],
      "metadata": {
        "id": "fq64YnSTHUPs"
      }
    },
    {
      "cell_type": "code",
      "source": [
        "def stutter(word):\n",
        " if len(word) < 2:\n",
        "  return \"Word must be at least two characters long.\"\n",
        " stuttered_word = f\"{word[:2]}... {word[:2]}... {word}?\"\n",
        " return stuttered_word\n",
        "print(stutter(\"incredible\"))\n",
        "print(stutter(\"enthusiastic\"))\n",
        "print(stutter(\"outstanding\"))"
      ],
      "metadata": {
        "id": "vpKow04uHbW_",
        "outputId": "6c06009f-be37-4351-8599-df7fca9f6fe4",
        "colab": {
          "base_uri": "https://localhost:8080/"
        }
      },
      "execution_count": null,
      "outputs": [
        {
          "output_type": "stream",
          "name": "stdout",
          "text": [
            "in... in... incredible?\n",
            "en... en... enthusiastic?\n",
            "ou... ou... outstanding?\n"
          ]
        }
      ]
    },
    {
      "cell_type": "markdown",
      "source": [
        "Please write a binary search function which searches an item in a sorted list. The\n",
        "function should return the index of element to be searched in the list.\n"
      ],
      "metadata": {
        "id": "WMmgTvepIHHz"
      }
    },
    {
      "cell_type": "code",
      "source": [
        "def binary_search(arr, target):\n",
        "    low = 0\n",
        "    high = len(arr) - 1\n",
        "\n",
        "    while low <= high:\n",
        "        mid = (low + high) // 2\n",
        "        if arr[mid] == target:\n",
        "            return mid\n",
        "        elif arr[mid] < target:\n",
        "            low = mid + 1\n",
        "        else:\n",
        "            high = mid - 1\n",
        "    return -1\n",
        "my_list = [1, 3, 5, 7, 9]\n",
        "item = 5\n",
        "print(binary_search(my_list, item))\n"
      ],
      "metadata": {
        "id": "G55czYmHIICP",
        "outputId": "77ec11c5-9dcb-416c-c8e4-161a4ef12729",
        "colab": {
          "base_uri": "https://localhost:8080/"
        }
      },
      "execution_count": null,
      "outputs": [
        {
          "output_type": "stream",
          "name": "stdout",
          "text": [
            "2\n"
          ]
        }
      ]
    },
    {
      "cell_type": "markdown",
      "source": [
        "Please write a program using generator to print the numbers which can be divisible\n",
        "by 5 and 7 between 0 and n in comma separated form while n is input by console.\n",
        "Example:\n",
        "If the following n is given as input to the program:\n",
        "100\n",
        "Then, the output of the program should be:\n",
        "0,35,70"
      ],
      "metadata": {
        "id": "9vTUlSdlIy3i"
      }
    },
    {
      "cell_type": "code",
      "source": [
        "def divisible_by_5_and_7(n):\n",
        "  for i in range(n+1):\n",
        "    if i%5==0 and i%7==0:\n",
        "      yield i\n",
        "n=int(input(\"Enter a number:\"))\n",
        "print(\",\".join(str(num) for num in divisible_by_5_and_7(n)))"
      ],
      "metadata": {
        "id": "hYKMAaRNJrwe",
        "outputId": "a2c3a6f4-4e73-47c9-fbec-7dc669a7d019",
        "colab": {
          "base_uri": "https://localhost:8080/"
        }
      },
      "execution_count": null,
      "outputs": [
        {
          "output_type": "stream",
          "name": "stdout",
          "text": [
            "Enter a number:100\n",
            "0,35,70\n"
          ]
        }
      ]
    },
    {
      "cell_type": "markdown",
      "source": [
        "Please write a program using generator to print the even numbers between 0 and n in\n",
        "comma separated form while n is input by console.\n",
        "Example:\n",
        "If the following n is given as input to the program:\n",
        "10\n",
        "Then, the output of the program should be:\n",
        "0,2,4,6,8,10"
      ],
      "metadata": {
        "id": "RFjb-TlBK7WQ"
      }
    },
    {
      "cell_type": "code",
      "source": [
        "def even_number(n):\n",
        "  for i in range(n+1):\n",
        "    if i%2==0 :\n",
        "      yield i\n",
        "n=int(input(\"Enter a number:\"))\n",
        "print(\",\".join(str(num) for num in even_number(n)))"
      ],
      "metadata": {
        "id": "YoViV3nNK8h-",
        "outputId": "7a3ff67d-e446-4e57-83ae-0be83fe76766",
        "colab": {
          "base_uri": "https://localhost:8080/"
        }
      },
      "execution_count": null,
      "outputs": [
        {
          "output_type": "stream",
          "name": "stdout",
          "text": [
            "Enter a number:100\n",
            "0,2,4,6,8,10,12,14,16,18,20,22,24,26,28,30,32,34,36,38,40,42,44,46,48,50,52,54,56,58,60,62,64,66,68,70,72,74,76,78,80,82,84,86,88,90,92,94,96,98,100\n"
          ]
        }
      ]
    },
    {
      "cell_type": "markdown",
      "source": [
        "fibonacci series using list comprehension"
      ],
      "metadata": {
        "id": "0ICoDzAILd6T"
      }
    },
    {
      "cell_type": "code",
      "source": [
        "n = int(input(\"Enter n: \"))\n",
        "fib = [0, 1]\n",
        "[fib.append(fib[-1] + fib[-2]) for _ in range(2, n)]\n",
        "print(fib[:n])\n"
      ],
      "metadata": {
        "id": "wV64ZpbXLral",
        "outputId": "fec43938-dd27-4300-da3c-a7e4cacdd9de",
        "colab": {
          "base_uri": "https://localhost:8080/"
        }
      },
      "execution_count": null,
      "outputs": [
        {
          "output_type": "stream",
          "name": "stdout",
          "text": [
            "Enter n: 12\n",
            "[0, 1, 1, 2, 3, 5, 8, 13, 21, 34, 55, 89]\n"
          ]
        }
      ]
    },
    {
      "cell_type": "markdown",
      "source": [
        "Assuming that we have some email addresses in the\n",
        "\"username@companyname.com (mailto:username@companyname.com)\" format,\n",
        "please write program to print the user name of a given email address. Both user\n",
        "names and company names are composed of letters only.\n",
        "Example:\n",
        "If the following email address is given as input to the program:\n",
        "john@google.com (mailto:john@google.com)\n",
        "Then, the output of the program should be:\n",
        "john"
      ],
      "metadata": {
        "id": "fzljeqc1MFva"
      }
    },
    {
      "cell_type": "code",
      "source": [
        "def get_username(email):\n",
        "    return email.split('@')[0]\n",
        "email = input(\"Enter email: \")\n",
        "print(get_username(email))\n",
        "\n"
      ],
      "metadata": {
        "id": "uaIOO9fsMSQ5",
        "outputId": "756f966a-2800-4cd6-e760-72b810386947",
        "colab": {
          "base_uri": "https://localhost:8080/"
        }
      },
      "execution_count": null,
      "outputs": [
        {
          "output_type": "stream",
          "name": "stdout",
          "text": [
            "Enter email: madhuri@gmail.com\n",
            "madhuri\n"
          ]
        }
      ]
    },
    {
      "cell_type": "markdown",
      "source": [
        "Create a function that takes an angle in radians and returns the corresponding angle in degrees rounded to one decimal place. Examples radians_to_degrees(1) ➞ 57.3 radians_to_degrees(20) ➞ 1145.9 radians_to_degrees(50) ➞ 2864.8"
      ],
      "metadata": {
        "id": "2bZlJy6u19GL"
      }
    },
    {
      "cell_type": "code",
      "source": [
        "import math\n",
        "def radians_to_degrees(radians):\n",
        "    degrees = radians * (180 / math.pi)\n",
        "    return round(degrees, 1)\n",
        "print(radians_to_degrees(1))\n",
        "print(radians_to_degrees(20))\n",
        "print(radians_to_degrees(50))\n"
      ],
      "metadata": {
        "colab": {
          "base_uri": "https://localhost:8080/"
        },
        "id": "wGawEc6U1-Pu",
        "outputId": "0d04a405-8bdb-41ec-82c8-4a84a9182582"
      },
      "execution_count": null,
      "outputs": [
        {
          "output_type": "stream",
          "name": "stdout",
          "text": [
            "57.3\n",
            "1145.9\n",
            "2864.8\n"
          ]
        }
      ]
    },
    {
      "cell_type": "markdown",
      "source": [
        "In this challenge, establish if a given integer num is a Curzon number. If 1 plus 2\n",
        "elevated to num is exactly divisible by 1 plus 2 multiplied by num, then num is a\n",
        "Curzon number.\n",
        "Given a non-negative integer num, implement a function that returns True if num is a\n",
        "Curzon number, or False otherwise.\n",
        "Examples\n",
        "is_curzon(5) ➞ True\n",
        "# 2 ** 5 + 1 = 33\n",
        "# 2 * 5 + 1 = 11\n",
        "# 33 is a multiple of 11\n",
        "is_curzon(10) ➞ False\n",
        "# 2 ** 10 + 1 = 1025\n",
        "# 2 * 10 + 1 = 21\n",
        "# 1025 is not a multiple of 21\n",
        "is_curzon(14) ➞ True\n",
        "# 2 ** 14 + 1 = 16385\n",
        "# 2 * 14 + 1 = 29\n",
        "# 16385 is a multiple of 29\n"
      ],
      "metadata": {
        "id": "d2iJ0Zwz3pY7"
      }
    },
    {
      "cell_type": "code",
      "source": [
        "def is_curzon(n):\n",
        "  numerator=2**n+1\n",
        "  denominator=2*n+1\n",
        "  return numerator%denominator==0\n",
        "print(is_curzon(5))\n",
        "print(is_curzon(10))\n",
        "print(is_curzon(14))"
      ],
      "metadata": {
        "colab": {
          "base_uri": "https://localhost:8080/"
        },
        "id": "CV46br6F3whB",
        "outputId": "e04f85c3-2b40-42c7-caf7-e8981c60aaba"
      },
      "execution_count": null,
      "outputs": [
        {
          "output_type": "stream",
          "name": "stdout",
          "text": [
            "True\n",
            "False\n",
            "True\n"
          ]
        }
      ]
    },
    {
      "cell_type": "markdown",
      "source": [
        "Given the side length x find the area of a hexagon.\n",
        "Examples\n",
        "area_of_hexagon(1) ➞ 2.6\n",
        "area_of_hexagon(2) ➞ 10.4\n",
        "area_of_hexagon(3) ➞ 23.4\n"
      ],
      "metadata": {
        "id": "HvmkBy6s6M3f"
      }
    },
    {
      "cell_type": "code",
      "source": [
        "import math\n",
        "def area_of_hexagon(a):\n",
        "  area=(3*math.sqrt(3)*a**2)/2\n",
        "  return round(area,1)\n",
        "print(area_of_hexagon(1))\n",
        "print(area_of_hexagon(2))\n",
        "print(area_of_hexagon(3))\n"
      ],
      "metadata": {
        "colab": {
          "base_uri": "https://localhost:8080/"
        },
        "id": "3FAgDQcy6N9E",
        "outputId": "c246fc2f-78cc-4732-e8fb-ff6f7abc35e7"
      },
      "execution_count": null,
      "outputs": [
        {
          "output_type": "stream",
          "name": "stdout",
          "text": [
            "2.6\n",
            "10.4\n",
            "23.4\n"
          ]
        }
      ]
    },
    {
      "cell_type": "markdown",
      "source": [
        "Create a function that returns a base-2 (binary) representation of a base-10 (decimal)\n",
        "string number. To convert is simple: ((2) means base-2 and (10) means base-10)\n",
        "010101001(2) = 1 + 8 + 32 + 128.\n",
        "Going from right to left, the value of the most right bit is 1, now from that every bit to\n",
        "the left will be x2 the value, value of an 8 bit binary numbers are (256, 128, 64, 32, 16,\n",
        "8, 4, 2, 1).\n",
        "Examples\n",
        "binary(1) ➞ \"1\"\n",
        "# 1*1 = 1\n",
        "binary(5) ➞ \"101\"\n",
        "# 1*1 + 1*4 = 5\n",
        "binary(10) ➞ 1010\n",
        "# 1*2 + 1*8 = 10"
      ],
      "metadata": {
        "id": "E1roraJQ7lyV"
      }
    },
    {
      "cell_type": "code",
      "source": [
        "def binary(n):\n",
        "    return bin(int(n))[2:]\n",
        "print(binary(1))\n",
        "print(binary(5))\n",
        "print(binary(10))"
      ],
      "metadata": {
        "colab": {
          "base_uri": "https://localhost:8080/"
        },
        "id": "1NVYNnYK7sCK",
        "outputId": "18a44c22-221f-4d53-a6a0-b3db8c401708"
      },
      "execution_count": null,
      "outputs": [
        {
          "output_type": "stream",
          "name": "stdout",
          "text": [
            "1\n",
            "101\n",
            "1010\n"
          ]
        }
      ]
    },
    {
      "cell_type": "markdown",
      "source": [
        "Create a function that takes three arguments a, b, c and returns the sum of the\n",
        "numbers that are evenly divided by c from the range a, b inclusive.\n",
        "Examples\n",
        "evenly_divisible(1, 10, 20) ➞ 0\n",
        "# No number between 1 and 10 can be evenly divided by 20.\n",
        "evenly_divisible(1, 10, 2) ➞ 30\n",
        "# 2 + 4 + 6 + 8 + 10 = 30\n",
        "evenly_divisible(1, 10, 3) ➞ 18\n",
        "# 3 + 6 + 9 = 18\n"
      ],
      "metadata": {
        "id": "xMVgsJ1U-n2f"
      }
    },
    {
      "cell_type": "code",
      "source": [
        "def evenly_divisible(a,b,c):\n",
        "  total = 0\n",
        "  for num in range(a, b + 1):\n",
        "    if num % c == 0:\n",
        "      total += num\n",
        "  return total\n",
        "print(evenly_divisible(1,10,20))\n",
        "print(evenly_divisible(1,10,2))\n",
        "print(evenly_divisible(1,10,3))\n"
      ],
      "metadata": {
        "colab": {
          "base_uri": "https://localhost:8080/"
        },
        "id": "SZQS5hjL-rby",
        "outputId": "b56f9253-3d1b-4fbd-f48d-68c47644a605"
      },
      "execution_count": null,
      "outputs": [
        {
          "output_type": "stream",
          "name": "stdout",
          "text": [
            "0\n",
            "30\n",
            "18\n"
          ]
        }
      ]
    },
    {
      "cell_type": "markdown",
      "source": [
        "Create a function that returns True if a given inequality expression is correct and\n",
        "False otherwise.\n"
      ],
      "metadata": {
        "id": "nRgAePb9ACFv"
      }
    },
    {
      "cell_type": "code",
      "source": [
        "def check_inequality(expression):\n",
        "  return eval(expression)\n",
        "print(check_inequality(\"3 < 7 < 11\"))\n",
        "print(check_inequality(\"13 > 44 > 33 > 1\"))\n",
        "print(check_inequality(\"1 < 2 < 6 < 9 > 3\"))"
      ],
      "metadata": {
        "colab": {
          "base_uri": "https://localhost:8080/"
        },
        "id": "7iFqwUF3AsWi",
        "outputId": "c68ad820-8c55-46cd-bb4a-c00589a417c3"
      },
      "execution_count": null,
      "outputs": [
        {
          "output_type": "stream",
          "name": "stdout",
          "text": [
            "True\n",
            "False\n",
            "True\n"
          ]
        }
      ]
    },
    {
      "cell_type": "markdown",
      "source": [
        "Create a function that replaces all the vowels in a string with a specified character.\n",
        "Examples\n",
        "replace_vowels(\"the aardvark\", \"#\") ➞ \"th# ##rdv#rk\"\n",
        "replace_vowels(\"minnie mouse\", \"?\") ➞ \"m?nn?? m??s?\"\n",
        "replace_vowels(\"shakespeare\", \"*\") ➞ \"shkspr*\""
      ],
      "metadata": {
        "id": "WSj4-lwWILoQ"
      }
    },
    {
      "cell_type": "code",
      "source": [
        "def replace_vowels(string,char):\n",
        "  vowels=\"AEIOUaeiou\"\n",
        "  for v in vowels:\n",
        "    string=string.replace(v,char)\n",
        "  return string\n",
        "print(replace_vowels(\"Iam Madhuri\",\"#\"))\n",
        "print(replace_vowels(\"DhanaLakshmi\",\"@\"))"
      ],
      "metadata": {
        "colab": {
          "base_uri": "https://localhost:8080/"
        },
        "id": "DGj_PeBUIMtz",
        "outputId": "d9603dae-1916-417a-cea2-35076176307b"
      },
      "execution_count": null,
      "outputs": [
        {
          "output_type": "stream",
          "name": "stdout",
          "text": [
            "##m M#dh#r#\n",
            "Dh@n@L@kshm@\n"
          ]
        }
      ]
    },
    {
      "cell_type": "markdown",
      "source": [
        "Write a function that calculates the factorial of a number recursively.\n",
        "Examples\n",
        "factorial(5) ➞ 120"
      ],
      "metadata": {
        "id": "M80ZvqheKf_W"
      }
    },
    {
      "cell_type": "code",
      "source": [
        "def fact(n):\n",
        "  if n==0:\n",
        "    return 1\n",
        "  else:\n",
        "    return n*fact(n-1)\n",
        "print(fact(5))\n",
        "print(fact(3))\n",
        "print(fact(100))\n",
        "print(fact(47))"
      ],
      "metadata": {
        "colab": {
          "base_uri": "https://localhost:8080/"
        },
        "id": "acqvaG6LKfmD",
        "outputId": "c0cb6eb6-c3e2-4f9d-eb4d-35de28240a89"
      },
      "execution_count": null,
      "outputs": [
        {
          "output_type": "stream",
          "name": "stdout",
          "text": [
            "120\n",
            "6\n",
            "93326215443944152681699238856266700490715968264381621468592963895217599993229915608941463976156518286253697920827223758251185210916864000000000000000000000000\n",
            "258623241511168180642964355153611979969197632389120000000000\n"
          ]
        }
      ]
    },
    {
      "cell_type": "markdown",
      "source": [
        "Hamming distance is the number of characters that differ between two strings.\n",
        "To illustrate:\n",
        "String1: \"abcbba\"\n",
        "String2: \"abcbda\"\n",
        "Hamming Distance: 1 - \"b\" vs. \"d\" is the only difference.\n",
        "Create a function that computes the hamming distance between two strings.\n",
        "Examples\n",
        "hamming_distance(\"abcde\", \"bcdef\") ➞ 5\n",
        "hamming_distance(\"abcde\", \"abcde\") ➞ 0\n",
        "hamming_distance(\"strong\", \"strung\") ➞ 1"
      ],
      "metadata": {
        "id": "2gIdyUbmLzWn"
      }
    },
    {
      "cell_type": "code",
      "source": [
        "def hamming_distance(str1, str2):\n",
        "    return sum(ch1 != ch2 for ch1, ch2 in zip(str1, str2))\n",
        " print(hamming_distance(\"abcde\", \"bcdef\"))\n",
        "print(hamming_distance(\"abcde\", \"abcde\"))\n",
        "print(hamming_distance(\"strong\", \"strung\"))"
      ],
      "metadata": {
        "colab": {
          "base_uri": "https://localhost:8080/"
        },
        "id": "pPo534B4L2u4",
        "outputId": "4c791d4c-371d-4572-eedc-1613c724b3bc"
      },
      "execution_count": null,
      "outputs": [
        {
          "output_type": "stream",
          "name": "stdout",
          "text": [
            "5\n",
            "0\n",
            "1\n"
          ]
        }
      ]
    },
    {
      "cell_type": "markdown",
      "source": [
        "Create a function that takes a list of non-negative integers and strings and return a\n",
        "new list without the strings.\n",
        "Examples\n",
        "filter_list([1, 2, \"a\", \"b\"]) ➞ [1, 2]\n",
        "filter_list([1, \"a\", \"b\", 0, 15]) ➞ [1, 0, 15]\n",
        "filter_list([1, 2, \"aasf\", \"1\", \"123\", 123]) ➞ [1, 2, 123]"
      ],
      "metadata": {
        "id": "unah-2j7OMWh"
      }
    },
    {
      "cell_type": "code",
      "source": [
        "def filter_list(lst):\n",
        "    result = []\n",
        "    for i in lst:\n",
        "        if type(i) == int:\n",
        "            result.append(i)\n",
        "    return result\n",
        "print(filter_list([1, 2, \"a\", \"b\"]))\n",
        "print(filter_list([1, \"a\", \"b\", 0, 15]))\n",
        "print(filter_list([1, 2, \"aasf\", \"1\", \"123\", 123]))"
      ],
      "metadata": {
        "colab": {
          "base_uri": "https://localhost:8080/"
        },
        "id": "8ezhXGmrOOJE",
        "outputId": "371d94e2-82c7-4160-99a6-db0e29c01f65"
      },
      "execution_count": null,
      "outputs": [
        {
          "output_type": "stream",
          "name": "stdout",
          "text": [
            "[1, 2]\n",
            "[1, 0, 15]\n",
            "[1, 2, 123]\n"
          ]
        }
      ]
    },
    {
      "cell_type": "markdown",
      "source": [
        "The \"Reverser\" takes a string as input and returns that string in reverse order, with\n",
        "the opposite case.\n",
        "Examples\n",
        "reverse(\"Hello World\") ➞ \"DLROw OLLEh\"\n",
        "reverse(\"ReVeRsE\") ➞ \"eSrEvEr\"\n",
        "reverse(\"Radar\") ➞ \"RADAr\""
      ],
      "metadata": {
        "id": "gAxaJQUbP4XX"
      }
    },
    {
      "cell_type": "code",
      "source": [
        "def reverse(string):\n",
        "  rev_string=string[::-1].swapcase()\n",
        "  return rev_string\n",
        "print(reverse(\"Hello World\"))\n",
        "print(reverse(\"ReVeRsE\"))\n",
        "print(reverse(\"Radar\"))"
      ],
      "metadata": {
        "colab": {
          "base_uri": "https://localhost:8080/"
        },
        "id": "gHqAFpIMQB5J",
        "outputId": "17d6bb64-4966-4541-d077-64c8759aa074"
      },
      "execution_count": null,
      "outputs": [
        {
          "output_type": "stream",
          "name": "stdout",
          "text": [
            "DLROw OLLEh\n",
            "eSrEvEr\n",
            "RADAr\n"
          ]
        }
      ]
    },
    {
      "cell_type": "markdown",
      "source": [
        "You can assign variables from lists like this: lst = [1, 2, 3, 4, 5, 6] first = lst[0] middle = lst[1:-1] last = lst[-1] print(first) ➞ outputs 1 print(middle) ➞ outputs [2, 3, 4, 5] print(last) ➞ outputs 6With Python 3, you can assign variables from lists in a much more succinct way. Create variables first, middle and last from the given list using destructuring assignment (check the Resources tab for some examples), where: first ➞ 1 middle ➞ [2, 3, 4, 5] last ➞ 6 Your task is to unpack the list writeyourcodehere into three variables, being"
      ],
      "metadata": {
        "id": "Gu8SeKKFRSj4"
      }
    },
    {
      "cell_type": "code",
      "source": [
        "lst=[1,2,3,4,5,6]\n",
        "first,*middle,last=lst\n",
        "print(first)\n",
        "print(*middle)\n",
        "print(last)"
      ],
      "metadata": {
        "colab": {
          "base_uri": "https://localhost:8080/"
        },
        "id": "Zb1RefQ4R3Wv",
        "outputId": "383dfcdf-1742-400b-f4b1-f2548aaeeb0b"
      },
      "execution_count": null,
      "outputs": [
        {
          "output_type": "stream",
          "name": "stdout",
          "text": [
            "1\n",
            "2 3 4 5\n",
            "6\n"
          ]
        }
      ]
    },
    {
      "cell_type": "markdown",
      "source": [
        "Write a function that moves all elements of one type to the end of the list.\n",
        "Examples\n",
        "move_to_end([1, 3, 2, 4, 4, 1], 1) ➞ [3, 2, 4, 4, 1, 1]\n",
        "Move all the 1s to the end of the array.\n",
        "move_to_end([7, 8, 9, 1, 2, 3, 4], 9) ➞ [7, 8, 1, 2, 3, 4, 9]\n",
        "move_to_end([\"a\", \"a\", \"a\", \"b\"], \"a\") ➞ [\"b\", \"a\", \"a\", \"a\"]"
      ],
      "metadata": {
        "id": "1M2LuKhyVQAM"
      }
    },
    {
      "cell_type": "code",
      "source": [
        "def move_to_end(lst,element):\n",
        "  for _ in range(lst.count(element)):\n",
        "    lst.remove(element)\n",
        "    lst.append(element)\n",
        "  return lst\n",
        "print( move_to_end([7, 8, 9, 1, 2, 3, 4], 9))\n",
        "print(move_to_end([\"a\", \"a\", \"a\", \"b\"], \"a\") )\n",
        "print(move_to_end([1, 3, 2, 4, 4, 1], 1))"
      ],
      "metadata": {
        "colab": {
          "base_uri": "https://localhost:8080/"
        },
        "id": "dE-B_7-cVRg1",
        "outputId": "191594a5-aa56-4ed5-d077-9b1ac6b24e06"
      },
      "execution_count": null,
      "outputs": [
        {
          "output_type": "stream",
          "name": "stdout",
          "text": [
            "[7, 8, 1, 2, 3, 4, 9]\n",
            "['b', 'a', 'a', 'a']\n",
            "[3, 2, 4, 4, 1, 1]\n"
          ]
        }
      ]
    },
    {
      "cell_type": "markdown",
      "source": [
        "Create a function that takes a string and returns a string in which each character is\n",
        "repeated once.\n",
        "Examples\n",
        "double_char(\"String\") ➞ \"SSttrriinngg\"\n",
        "double_char(\"Hello World!\") ➞ \"HHeelllloo WWoorrlldd!!\"\n",
        "double char(\"1234! \") ➞ \"11223344!! \""
      ],
      "metadata": {
        "id": "YVrKz6NPzrzA"
      }
    },
    {
      "cell_type": "code",
      "source": [
        "def double_char(s):\n",
        "    return ''.join(ch * 2 for ch in s)\n",
        "print(double_char(\"String\"))\n",
        "print(double_char(\"Hello World!\"))\n",
        "print(double_char(\"1234! \"))\n"
      ],
      "metadata": {
        "colab": {
          "base_uri": "https://localhost:8080/"
        },
        "id": "hsHZGDpUzl0u",
        "outputId": "d6b64264-3eb5-4ee3-c83d-158de8c28196"
      },
      "execution_count": null,
      "outputs": [
        {
          "output_type": "stream",
          "name": "stdout",
          "text": [
            "SSttrriinngg\n",
            "HHeelllloo  WWoorrlldd!!\n",
            "11223344!!  \n"
          ]
        }
      ]
    },
    {
      "cell_type": "markdown",
      "source": [
        "Create a function that reverses a boolean value and returns the string \"boolean\n",
        "expected\" if another variable type is given.\n",
        "Examples\n",
        "reverse(True) ➞ False\n",
        "reverse(False) ➞ True\n",
        "reverse(0) ➞ \"boolean expected\"\n",
        "reverse(None) ➞ \"boolean expected\"\n"
      ],
      "metadata": {
        "id": "dsGBxRJC3pEJ"
      }
    },
    {
      "cell_type": "code",
      "source": [
        "def reverse(value):\n",
        "    if isinstance(value, bool):\n",
        "        return not value\n",
        "    return \"boolean expected\"\n",
        "print(reverse(True))\n",
        "print(reverse(False))\n",
        "print(reverse(0))\n",
        "print(reverse(None))"
      ],
      "metadata": {
        "id": "I-m57Pnm2jC9"
      },
      "execution_count": null,
      "outputs": []
    },
    {
      "cell_type": "markdown",
      "source": [
        "Create a function that returns the thickness (in meters) of a piece of paper after\n",
        "folding it n number of times. The paper starts off with a thickness of 0.5mm.\n",
        "Examples\n",
        "num_layers(1) ➞ \"0.001m\"\n",
        "- Paper folded once is 1mm (equal to 0.001m)\n",
        "num_layers(4) ➞ \"0.008m\"\n",
        "- Paper folded 4 times is 8mm (equal to 0.008m)\n",
        "num_layers(21) ➞ \"1048.576m\"\n",
        "- Paper folded 21 times is 1048576mm (equal to 1048.576m)"
      ],
      "metadata": {
        "id": "snC-Y1ba5mPX"
      }
    },
    {
      "cell_type": "code",
      "source": [
        "def num_layers(n):\n",
        "    thickness_mm = 0.5 * (2 ** n)\n",
        "    thickness_m = thickness_mm / 1000\n",
        "    return f\"{thickness_m}m\"\n",
        "print(num_layers(1))\n",
        "print(num_layers(4))\n",
        "print(num_layers(21))"
      ],
      "metadata": {
        "colab": {
          "base_uri": "https://localhost:8080/"
        },
        "id": "7u9tc1nN5uzI",
        "outputId": "c5979627-ce32-41f0-c46f-b6d9950a3a21"
      },
      "execution_count": null,
      "outputs": [
        {
          "output_type": "stream",
          "name": "stdout",
          "text": [
            "0.001m\n",
            "0.008m\n",
            "1048.576m\n"
          ]
        }
      ]
    },
    {
      "cell_type": "markdown",
      "source": [
        "Create a function that takes a single string as argument and returns an ordered list\n",
        "containing the indices of all capital letters in the string.\n",
        "Examples\n",
        "#index_of_caps(\"eDaBiT\") ➞ [1, 3, 5]\n",
        "#index_of_caps(\"eQuINoX\") ➞ [1, 3, 4, 6]\n",
        "#index_of_caps(\"determine\") ➞ []\n",
        "#index_of_caps(\"STRIKE\") ➞ [0, 1, 2, 3, 4, 5]\n",
        "#index_of_caps(\"sUn\") ➞ [1]\n"
      ],
      "metadata": {
        "id": "v5xrMjrD_miS"
      }
    },
    {
      "cell_type": "code",
      "source": [
        "def index_of_caps(string):\n",
        "  return [i for i, char in enumerate(string) if char.isupper()]\n",
        "print(index_of_caps(\"eDaBiT\"))\n",
        "print(index_of_caps(\"eQuINoX\"))\n",
        "print(index_of_caps(\"determine\"))"
      ],
      "metadata": {
        "colab": {
          "base_uri": "https://localhost:8080/"
        },
        "id": "5-EPjet_AR6v",
        "outputId": "8aabf7b2-fac6-4d90-c11d-5e1a5b1d2156"
      },
      "execution_count": null,
      "outputs": [
        {
          "output_type": "stream",
          "name": "stdout",
          "text": [
            "[1, 3, 5]\n",
            "[1, 3, 4, 6]\n",
            "[]\n"
          ]
        }
      ]
    },
    {
      "cell_type": "markdown",
      "source": [
        "Create a function that takes a list of strings and integers, and filters out the list so\n",
        "that it returns a list of integers only.\n",
        "Examples\n",
        "filter_list([1, 2, 3, \"a\", \"b\", 4]) ➞ [1, 2, 3, 4]\n",
        "filter_list([\"A\", 0, \"Edabit\", 1729, \"Python\", 1729]) ➞ [0, 1729]\n",
        "filter_list([\"Nothing\", \"here\"]) ➞ []\n"
      ],
      "metadata": {
        "id": "1v38IDO2CWgK"
      }
    },
    {
      "cell_type": "code",
      "source": [
        "def filter_list(lst):\n",
        "    result = []\n",
        "    for i in lst:\n",
        "        if type(i) == int:\n",
        "            result.append(i)\n",
        "    return result\n",
        "print(filter_list([1, 2, \"a\", \"b\"]))\n",
        "print(filter_list([1, \"a\", \"b\", 0, 15]))\n",
        "print(filter_list([1, 2, \"aasf\", \"1\", \"123\", 123]))\n",
        "print(filter_list([\"Nothing\", \"here\"]))"
      ],
      "metadata": {
        "colab": {
          "base_uri": "https://localhost:8080/"
        },
        "id": "0ZqFYajHB7Qk",
        "outputId": "8e4e62ee-e1c6-4c36-a3a6-89e600d4a5d5"
      },
      "execution_count": null,
      "outputs": [
        {
          "output_type": "stream",
          "name": "stdout",
          "text": [
            "[1, 2]\n",
            "[1, 0, 15]\n",
            "[1, 2, 123]\n",
            "[]\n"
          ]
        }
      ]
    },
    {
      "cell_type": "markdown",
      "source": [
        "Given a list of numbers, create a function which returns the list but with each\n",
        "element's index in the list added to itself. This means you add 0 to the number at\n",
        "index 0, add 1 to the number at index 1, etc...\n",
        "add_indexes([0, 0, 0, 0, 0]) ➞ [0, 1, 2, 3, 4]\n",
        "add_indexes([1, 2, 3, 4, 5]) ➞ [1, 3, 5, 7, 9]\n",
        "add_indexes([5, 4, 3, 2, 1]) ➞ [5, 5, 5, 5, 5]"
      ],
      "metadata": {
        "id": "3nxgwKCZE3AI"
      }
    },
    {
      "cell_type": "code",
      "source": [
        "def add_indexes(lst):\n",
        "    return [num + i for i, num in enumerate(lst)]\n",
        "print(add_indexes([0, 0, 0, 0, 0]))\n",
        "print(add_indexes([1, 2, 3, 4, 5]))\n",
        "print(add_indexes([5, 4, 3, 2, 1]))"
      ],
      "metadata": {
        "colab": {
          "base_uri": "https://localhost:8080/"
        },
        "id": "mYbqdWfeE9V_",
        "outputId": "d554a671-2f00-4771-915b-a315ccc3fb17"
      },
      "execution_count": null,
      "outputs": [
        {
          "output_type": "stream",
          "name": "stdout",
          "text": [
            "[0, 1, 2, 3, 4]\n",
            "[1, 3, 5, 7, 9]\n",
            "[5, 5, 5, 5, 5]\n"
          ]
        }
      ]
    },
    {
      "cell_type": "markdown",
      "source": [
        "Create a function that takes the height and radius of a cone as arguments and returns\n",
        "the volume of the cone rounded to the nearest hundredth. See the resources tab for\n",
        "the formula.\n",
        "Examples\n",
        "cone_volume(3, 2) ➞ 12.57\n",
        "cone_volume(15, 6) ➞ 565.49\n",
        "cone_volume(18, 0) ➞ 0"
      ],
      "metadata": {
        "id": "qtHhf7USF5XN"
      }
    },
    {
      "cell_type": "code",
      "source": [
        "import math\n",
        "def cone_volume(height, radius):\n",
        " if radius == 0:\n",
        "  return 0\n",
        " volume = (1/3) * math.pi * (radius**2) * height\n",
        " return round(volume, 2)\n",
        "print(cone_volume(3, 2))\n",
        "print(cone_volume(15, 6))"
      ],
      "metadata": {
        "colab": {
          "base_uri": "https://localhost:8080/"
        },
        "id": "qd1sFrdbF4cG",
        "outputId": "3bb330ef-73ae-424f-879b-215788622155"
      },
      "execution_count": null,
      "outputs": [
        {
          "output_type": "stream",
          "name": "stdout",
          "text": [
            "12.57\n",
            "565.49\n"
          ]
        }
      ]
    },
    {
      "cell_type": "markdown",
      "source": [
        "This Triangular Number Sequence is generated from a pattern of dots that form a\n",
        "triangle. The first 5 numbers of the sequence, or dots, are:\n",
        "1, 3, 6, 10, 15\n",
        "This means that the first triangle has just one dot, the second one has three dots, the\n",
        "third one has 6 dots and so on.\n",
        "Write a function that gives the number of dots with its corresponding triangle number\n",
        "of the sequence.\n",
        "Examples\n",
        "triangle(1) ➞ 1\n",
        "triangle(6) ➞ 21\n",
        "triangle(215) ➞ 23220"
      ],
      "metadata": {
        "id": "rECaY9DeHOei"
      }
    },
    {
      "cell_type": "code",
      "source": [
        "def triangle(n):\n",
        "  if n<1:\n",
        "    return 0\n",
        "  else:\n",
        "    return n*(n+1)//2\n",
        "print(triangle(1))\n",
        "print(triangle(5))\n",
        "print(triangle(6))\n",
        "print(triangle(215))"
      ],
      "metadata": {
        "colab": {
          "base_uri": "https://localhost:8080/"
        },
        "id": "Ib67GHirHQXQ",
        "outputId": "7a8f319c-3ffd-4eda-bfdb-b0e46b0e5e31"
      },
      "execution_count": null,
      "outputs": [
        {
          "output_type": "stream",
          "name": "stdout",
          "text": [
            "1\n",
            "15\n",
            "21\n",
            "23220\n"
          ]
        }
      ]
    },
    {
      "cell_type": "markdown",
      "source": [
        "Create a function that takes a list of numbers between 1 and 10 (excluding one\n",
        "number) and returns the missing number.\n",
        "Examples\n",
        "missing_num([1, 2, 3, 4, 6, 7, 8, 9, 10]) ➞ 5\n",
        "missing_num([7, 2, 3, 6, 5, 9, 1, 4, 8]) ➞ 10\n",
        "missing_num([10, 5, 1, 2, 4, 6, 8, 3, 9]) ➞ 7"
      ],
      "metadata": {
        "id": "Zltei4ZMIBmS"
      }
    },
    {
      "cell_type": "code",
      "source": [
        "def missing_num(lst):\n",
        "  total_sum=sum(range(1,11))\n",
        "  given_sum=sum(lst)\n",
        "  missing=total_sum-given_sum\n",
        "  return missing\n",
        "print(missing_num([1,2,3,4,5,6,8,9,10]))\n",
        "print(missing_num([7, 2, 3, 6, 5, 9, 1, 4, 8]))"
      ],
      "metadata": {
        "colab": {
          "base_uri": "https://localhost:8080/"
        },
        "id": "8M8Fc7C5IDdX",
        "outputId": "94550e52-f1e7-47b2-8c7e-02fbadd4613f"
      },
      "execution_count": null,
      "outputs": [
        {
          "output_type": "stream",
          "name": "stdout",
          "text": [
            "7\n",
            "10\n"
          ]
        }
      ]
    },
    {
      "cell_type": "markdown",
      "source": [
        "Write a function that takes a list and a number as arguments. Add the number to the\n",
        "end of the list, then remove the first element of the list. The function should then\n",
        "return the updated list.\n",
        "Examples\n",
        "next_in_line([5, 6, 7, 8, 9], 1) ➞ [6, 7, 8, 9, 1]\n",
        "next_in_line([7, 6, 3, 23, 17], 10) ➞ [6, 3, 23, 17, 10]\n",
        "next_in_line([1, 10, 20, 42 ], 6) ➞ [10, 20, 42, 6]\n",
        "next_in_line([], 6) ➞ \"No list has been selected\""
      ],
      "metadata": {
        "id": "x4U-PNSeKF4t"
      }
    },
    {
      "cell_type": "code",
      "source": [
        "def next_in_line(lst, num):\n",
        " if lst:\n",
        "  lst.pop(0)\n",
        "  lst.append(num)\n",
        "  return lst\n",
        " else:\n",
        "  return \"No list has been selecte\"\n",
        "print(next_in_line([5, 6, 7, 8, 9], 1))\n",
        "print(next_in_line([7, 6, 3, 23, 17], 10))"
      ],
      "metadata": {
        "colab": {
          "base_uri": "https://localhost:8080/"
        },
        "id": "-WPLCzRuKXmb",
        "outputId": "3d405aa6-5c45-4e81-fdb4-74d8b8fcf142"
      },
      "execution_count": null,
      "outputs": [
        {
          "output_type": "stream",
          "name": "stdout",
          "text": [
            "[6, 7, 8, 9, 1]\n",
            "[6, 3, 23, 17, 10]\n"
          ]
        }
      ]
    },
    {
      "cell_type": "markdown",
      "source": [
        "Create the function that takes a list of dictionaries and returns the sum of people's\n",
        "budgets.\n",
        "Examples\n",
        "get_budgets([\n",
        "{ 'name': 'John', 'age': 21, 'budget': 23000 },\n",
        "{ 'name': 'Steve', 'age': 32, 'budget': 40000 },\n",
        "{ 'name': 'Martin', 'age': 16, 'budget': 2700 }\n",
        "]) ➞ 65700\n",
        "get_budgets([\n",
        "{ 'name': 'John', 'age': 21, 'budget': 29000 },\n",
        "{ 'name': 'Steve', 'age': 32, 'budget': 32000 },\n",
        "{ 'name': 'Martin', 'age': 16, 'budget': 1600 }\n",
        "]) ➞ 62600"
      ],
      "metadata": {
        "id": "y40Zg9TQK_JT"
      }
    },
    {
      "cell_type": "code",
      "source": [
        "def get_budgets(lst):\n",
        " total_budget = sum(person['budget'] for person in lst)\n",
        " return total_budget\n",
        "budgets1 = [\n",
        " {'name': 'John', 'age': 21, 'budget': 23000},\n",
        " {'name': 'Steve', 'age': 32, 'budget': 40000},\n",
        " {'name': 'Martin', 'age': 16, 'budget': 2700}\n",
        "]\n",
        "budgets2 = [\n",
        " {'name': 'John', 'age': 21, 'budget': 29000},\n",
        " {'name': 'Steve', 'age': 32, 'budget': 32000},\n",
        " {'name': 'Martin', 'age': 16, 'budget': 1600}\n",
        "]\n",
        "print(get_budgets(budgets1))\n",
        "print(get_budgets(budgets2))\n"
      ],
      "metadata": {
        "colab": {
          "base_uri": "https://localhost:8080/"
        },
        "id": "rrlH9HzROmer",
        "outputId": "d2c456f7-a199-4e3d-a8e1-5e694b156bfe"
      },
      "execution_count": null,
      "outputs": [
        {
          "output_type": "stream",
          "name": "stdout",
          "text": [
            "65700\n",
            "62600\n"
          ]
        }
      ]
    },
    {
      "cell_type": "markdown",
      "source": [
        "Create a function that takes a string and returns a string with its letters in\n",
        "alphabetical order.\n",
        "Examples\n",
        "alphabet_soup(\"hello\") ➞ \"ehllo\"\n",
        "alphabet_soup(\"edabit\") ➞ \"abdeit\"\n",
        "alphabet_soup(\"hacker\") ➞ \"acehkr\"\n",
        "alphabet_soup(\"geek\") ➞ \"eegk\"\n",
        "alphabet_soup(\"javascript\") ➞ \"aacijprstv\""
      ],
      "metadata": {
        "id": "SL4forrSQAII"
      }
    },
    {
      "cell_type": "code",
      "source": [
        "def sorted_string(string):\n",
        "  return ''.join(sorted(string))\n",
        "print(sorted_string('hello'))\n",
        "print(sorted_string('madhuri'))\n",
        "print(sorted_string('dhana-lakshmi'))"
      ],
      "metadata": {
        "colab": {
          "base_uri": "https://localhost:8080/"
        },
        "id": "GIuo3NWbQCbS",
        "outputId": "8f95a546-1c29-4156-e63c-d02d0b4771dd"
      },
      "execution_count": null,
      "outputs": [
        {
          "output_type": "stream",
          "name": "stdout",
          "text": [
            "ehllo\n",
            "adhimru\n",
            "-aaadhhiklmns\n"
          ]
        }
      ]
    },
    {
      "cell_type": "markdown",
      "source": [
        "Suppose that you invest $10,000 for 10 years at an interest rate of 6% compounded\n",
        "monthly. What will be the value of your investment at the end of the 10 year period?\n",
        "Create a function that accepts the principal p, the term in years t, the interest rate r,\n",
        "and the number of compounding periods per year n. The function returns the value at\n",
        "the end of term rounded to the nearest cent.\n",
        "For the example:\n",
        "compound_interest(10000, 10, 0.06, 12) ➞ 18193.97\n",
        "Note that the interest rate is given as a decimal and n=12 because with monthly\n",
        "compounding there are 12 periods per year. Compounding can also be done\n",
        "annually, quarterly, weekly, or daily.\n",
        "Examples\n",
        "compound_interest(100, 1, 0.05, 1) ➞ 105.0\n",
        "compound_interest(3500, 15, 0.1, 4) ➞ 15399.26\n",
        "compound_interest(100000, 20, 0.15, 365) ➞ 2007316.26"
      ],
      "metadata": {
        "id": "DGXG065oRUtW"
      }
    },
    {
      "cell_type": "code",
      "source": [
        "def compound_interest(p,t,r,n):\n",
        "  a = p * (1 + (r / n)) ** (n * t)\n",
        "  return round(a,2)\n",
        "print(compound_interest(10000, 10, 0.06, 12))\n",
        "print(compound_interest(100, 1, 0.05, 1))\n",
        "print(compound_interest(3500, 15, 0.1, 4))\n",
        "print(compound_interest(100000, 20, 0.15, 365))\n"
      ],
      "metadata": {
        "colab": {
          "base_uri": "https://localhost:8080/"
        },
        "id": "qmp12UQNRW8M",
        "outputId": "4faf7a42-cf3e-41ab-d9d5-bb792bc79617"
      },
      "execution_count": null,
      "outputs": [
        {
          "output_type": "stream",
          "name": "stdout",
          "text": [
            "18193.97\n",
            "105.0\n",
            "15399.26\n",
            "2007316.26\n"
          ]
        }
      ]
    },
    {
      "cell_type": "markdown",
      "source": [
        "Write a function that takes a list of elements and returns only the integers.\n",
        "Examples\n",
        "return_only_integer([9, 2, \"space\", \"car\", \"lion\", 16]) ➞ [9, 2, 16]\n",
        "return_only_integer([\"hello\", 81, \"basketball\", 123, \"fox\"]) ➞ [81, 123]\n",
        "return_only_integer([10, \"121\", 56, 20, \"car\", 3, \"lion\"]) ➞ [10, 56, 20,3]\n",
        "return_only_integer([\"String\", True, 3.3, 1]) ➞ [1]"
      ],
      "metadata": {
        "id": "69pPiwxBSh1_"
      }
    },
    {
      "cell_type": "code",
      "source": [
        "def returns_only_integers(lst):\n",
        "  result=[]\n",
        "  for i in lst:\n",
        "    if type(i)==int:\n",
        "      result.append(i)\n",
        "  return result\n",
        "print(returns_only_integers([9, 2, \"space\", \"car\", \"lion\", 16]))\n",
        "print(returns_only_integers([\"hello\", 81, \"basketball\", 123, \"fox\"]))"
      ],
      "metadata": {
        "colab": {
          "base_uri": "https://localhost:8080/"
        },
        "id": "WGcSIGIWSi5Q",
        "outputId": "3fb28cde-4a24-4fad-efcc-6d635bdd4500"
      },
      "execution_count": null,
      "outputs": [
        {
          "output_type": "stream",
          "name": "stdout",
          "text": [
            "[9, 2, 16]\n",
            "[81, 123]\n"
          ]
        }
      ]
    },
    {
      "cell_type": "markdown",
      "source": [
        "Create a function that takes three parameters where:\n",
        "- x is the start of the range (inclusive).\n",
        "- y is the end of the range (inclusive).\n",
        "- n is the divisor to be checked against.\n",
        "Return an ordered list with numbers in the range that are divisible by the third\n",
        "parameter n.\n",
        "list_operation(1, 10, 3) ➞ [3, 6, 9]\n",
        "list_operation(7, 9, 2) ➞ [8]\n",
        "list_operation(15, 20, 7) ➞ []\n"
      ],
      "metadata": {
        "id": "2TWAUHAYTJ6H"
      }
    },
    {
      "cell_type": "code",
      "source": [
        "def list_operation(x,y,n):\n",
        "  return [num for num in range(x,y+1) if num%n==0]\n",
        "print(list_operation(1,10,3))\n",
        "print(list_operation(7,9,2))\n",
        "print(list_operation(15,20,7))"
      ],
      "metadata": {
        "colab": {
          "base_uri": "https://localhost:8080/"
        },
        "id": "yVy-lcBXTNwh",
        "outputId": "ac083ff4-c46a-4104-c01a-9d740232b403"
      },
      "execution_count": null,
      "outputs": [
        {
          "output_type": "stream",
          "name": "stdout",
          "text": [
            "[3, 6, 9]\n",
            "[8]\n",
            "[]\n"
          ]
        }
      ]
    },
    {
      "cell_type": "markdown",
      "source": [
        "Create a function that takes in two lists and returns True if the second list follows the\n",
        "first list by one element, and False otherwise. In other words, determine if the second\n",
        "list is the first list shifted to the right by 1.\n",
        "Examples\n",
        "simon_says([1, 2], [5, 1]) ➞ True\n",
        "simon_says([1, 2], [5, 5]) ➞ False\n",
        "simon_says([1, 2, 3, 4, 5], [0, 1, 2, 3, 4]) ➞ True\n",
        "simon_says([1, 2, 3, 4, 5], [5, 5, 1, 2, 3]) ➞ False\n",
        "Notes:\n",
        "- Both input lists will be of the same length, and will have a minimum length of 2.\n",
        "- The values of the 0-indexed element in the second list and the n-1th indexed\n",
        "element in the first list do not matter.\n"
      ],
      "metadata": {
        "id": "SDzBoi-EXOcN"
      }
    },
    {
      "cell_type": "code",
      "source": [
        "def simon_says(lst1, lst2):\n",
        "    if len(lst1) == len(lst2) and len(lst1) >= 2:\n",
        "        return lst1[:-1] == lst2[1:]\n",
        "    return False\n",
        "print(simon_says([1, 2], [5, 1]))\n",
        "print(simon_says([1, 2], [5, 5]))\n",
        "print(simon_says([1, 2, 3, 4, 5], [0, 1, 2, 3, 4]))\n",
        "print(simon_says([1, 2, 3, 4, 5], [5, 5, 1, 2, 3]))\n"
      ],
      "metadata": {
        "colab": {
          "base_uri": "https://localhost:8080/"
        },
        "id": "DpRdrSILXEjz",
        "outputId": "9e23f7b2-4e67-43f8-a76f-78f2377d4fcd"
      },
      "execution_count": null,
      "outputs": [
        {
          "output_type": "stream",
          "name": "stdout",
          "text": [
            "True\n",
            "False\n",
            "True\n",
            "False\n"
          ]
        }
      ]
    },
    {
      "cell_type": "markdown",
      "source": [
        "A group of friends have decided to start a secret society. The name will be the first\n",
        "letter of each of their names, sorted in alphabetical order. Create a function that takes\n",
        "in a list of names and returns the name of the secret society.\n",
        "Examples\n",
        "society_name([\"Adam\", \"Sarah\", \"Malcolm\"]) ➞ \"AMS\"\n",
        "society_name([\"Harry\", \"Newt\", \"Luna\", \"Cho\"]) ➞ \"CHLN\"\n",
        "society_name([\"Phoebe\", \"Chandler\", \"Rachel\", \"Ross\", \"Monica\", \"Joey\"])\n"
      ],
      "metadata": {
        "id": "6wY0fSOEX4KL"
      }
    },
    {
      "cell_type": "code",
      "source": [
        "def society_name(names):\n",
        "    return ''.join(sorted(name[0] for name in names))\n",
        "print(society_name([\"Adam\", \"Sarah\", \"Malcolm\"]))\n",
        "print(society_name([\"Harry\", \"Newt\", \"Luna\", \"Cho\"]))\n",
        "print(society_name([\"Phoebe\", \"Chandler\", \"Rachel\", \"Ross\", \"Monica\", \"Joey\"]))\n"
      ],
      "metadata": {
        "colab": {
          "base_uri": "https://localhost:8080/"
        },
        "id": "tI1ltx61YLWd",
        "outputId": "7d21f764-b064-4a9f-cf72-eb6aeeccc33a"
      },
      "execution_count": null,
      "outputs": [
        {
          "output_type": "stream",
          "name": "stdout",
          "text": [
            "AMS\n",
            "CHLN\n",
            "CJMPRR\n"
          ]
        }
      ]
    },
    {
      "cell_type": "markdown",
      "source": [
        "An isogram is a word that has no duplicate letters. Create a function that takes a\n",
        "string and returns either True or False depending on whether or not it's an \"isogram\".\n",
        "Examples\n",
        "is_isogram(\"Algorism\") ➞ True\n",
        "is_isogram(\"PasSword\") ➞ False\n",
        "- Not case sensitive.\n",
        "is_isogram(\"Consecutive\") ➞ False\n",
        "Notes\n",
        "Ignore letter case (should not be case sensitive).\n",
        "All test cases contain valid one word strings.\n"
      ],
      "metadata": {
        "id": "OQOPREvoYt4w"
      }
    },
    {
      "cell_type": "code",
      "source": [
        "def is_isogram(word):\n",
        "    word = word.lower()\n",
        "    return len(word) == len(set(word))\n",
        "print(is_isogram(\"Algorism\"))\n",
        "print(is_isogram(\"PasSword\"))\n",
        "print(is_isogram(\"Consecutive\"))\n"
      ],
      "metadata": {
        "colab": {
          "base_uri": "https://localhost:8080/"
        },
        "id": "SqJnZvvfZBxQ",
        "outputId": "57d861a7-e80f-4093-c46b-afe2b42f1225"
      },
      "execution_count": null,
      "outputs": [
        {
          "output_type": "stream",
          "name": "stdout",
          "text": [
            "True\n",
            "False\n",
            "False\n"
          ]
        }
      ]
    },
    {
      "cell_type": "markdown",
      "source": [
        "Create a function that takes a string and returns True or False, depending on whether\n",
        "the characters are in order or not.\n",
        "Examples\n",
        "is_in_order(\"abc\") ➞ True\n",
        "is_in_order(\"edabit\") ➞ False\n",
        "is_in_order(\"123\") ➞ True\n",
        "is_in_order(\"xyzz\") ➞ True\n"
      ],
      "metadata": {
        "id": "GJ7kFce2baE0"
      }
    },
    {
      "cell_type": "code",
      "source": [
        "def is_in_order(string):\n",
        "  return string==''.join(sorted(string))\n",
        "print(is_in_order(\"abc\"))\n",
        "print(is_in_order(\"edabit\"))\n",
        "print(is_in_order(\"123\"))\n",
        "print(is_in_order(\"xyzz\"))"
      ],
      "metadata": {
        "colab": {
          "base_uri": "https://localhost:8080/"
        },
        "id": "sYBqTSo2bcVd",
        "outputId": "683208cf-9ecd-4398-faa7-35f65ec33fff"
      },
      "execution_count": null,
      "outputs": [
        {
          "output_type": "stream",
          "name": "stdout",
          "text": [
            "True\n",
            "False\n",
            "True\n",
            "True\n"
          ]
        }
      ]
    },
    {
      "cell_type": "markdown",
      "source": [
        "Create a function that takes a number as an argument and returns True or False\n",
        "depending on whether the number is symmetrical or not. A number is symmetrical\n",
        "when it is the same as its reverse.\n",
        "Examples\n",
        "is_symmetrical(7227) ➞ True\n",
        "is_symmetrical(12567) ➞ False\n",
        "is_symmetrical(44444444) ➞ True\n",
        "is_symmetrical(9939) ➞ False\n",
        "is_symmetrical(1112111) ➞ True\n"
      ],
      "metadata": {
        "id": "8uU6lYl0cABh"
      }
    },
    {
      "cell_type": "code",
      "source": [
        "def is_symmetrical(num):\n",
        "  num=str(num)\n",
        "  return num==num[::-1]\n",
        "print(is_symmetrical(7227))\n",
        "print(is_symmetrical(12567))\n",
        "print(is_symmetrical(44444444))\n",
        "print(is_symmetrical(9939))\n",
        "print(is_symmetrical(1112111))"
      ],
      "metadata": {
        "colab": {
          "base_uri": "https://localhost:8080/"
        },
        "id": "wVQhFrmucBdq",
        "outputId": "f4445212-847e-4001-fb5f-6edc256610f4"
      },
      "execution_count": null,
      "outputs": [
        {
          "output_type": "stream",
          "name": "stdout",
          "text": [
            "True\n",
            "False\n",
            "True\n",
            "False\n",
            "True\n"
          ]
        }
      ]
    },
    {
      "cell_type": "markdown",
      "source": [
        "Given a string of numbers separated by a comma and space, return the product of\n",
        "the numbers.\n",
        "Examples\n",
        "multiply_nums(\"2, 3\") ➞ 6\n",
        "multiply_nums(\"1, 2, 3, 4\") ➞ 24\n",
        "multiply_nums(\"54, 75, 453, 0\") ➞ 0\n",
        "multiply_nums(\"10, -2\") ➞ -20"
      ],
      "metadata": {
        "id": "IqYa6zOzjnSt"
      }
    },
    {
      "cell_type": "code",
      "source": [
        "def multiply_nums(s):\n",
        "    nums = map(int, s.split(\", \"))\n",
        "    product = 1\n",
        "    for n in nums:\n",
        "        product *= n\n",
        "    return product\n",
        "print(multiply_nums(\"2, 3\"))\n",
        "print(multiply_nums(\"1, 2, 3, 4\"))\n",
        "print(multiply_nums(\"54, 75, 453, 0\"))\n",
        "print(multiply_nums(\"10, -2\"))\n"
      ],
      "metadata": {
        "colab": {
          "base_uri": "https://localhost:8080/"
        },
        "id": "SNDRmYDIki5E",
        "outputId": "53827173-d989-4802-ed04-f87f8a18ea1f"
      },
      "execution_count": null,
      "outputs": [
        {
          "output_type": "stream",
          "name": "stdout",
          "text": [
            "6\n",
            "24\n",
            "0\n",
            "-20\n"
          ]
        }
      ]
    },
    {
      "cell_type": "markdown",
      "source": [
        "Create a function that squares every digit of a number.\n",
        "Examples\n",
        "square_digits(9119) ➞ 811181\n",
        "square_digits(2483) ➞ 416649\n",
        "square_digits(3212) ➞ 9414\n",
        "Notes\n",
        "The function receives an integer and must return an integer"
      ],
      "metadata": {
        "id": "kyVBQEf1lcrS"
      }
    },
    {
      "cell_type": "code",
      "source": [
        "def square_digits(num):\n",
        "    return int(''.join(str(int(d)**2) for d in str(num)))\n",
        "print(square_digits(9119))\n",
        "print(square_digits(2483))\n",
        "print(square_digits(3212))\n"
      ],
      "metadata": {
        "colab": {
          "base_uri": "https://localhost:8080/"
        },
        "id": "u3CLSjtclueO",
        "outputId": "0f7fa90d-0f2f-4cef-b2a9-db9e4b6e8b6c"
      },
      "execution_count": null,
      "outputs": [
        {
          "output_type": "stream",
          "name": "stdout",
          "text": [
            "811181\n",
            "416649\n",
            "9414\n"
          ]
        }
      ]
    },
    {
      "cell_type": "markdown",
      "source": [
        "Create a function that sorts a list and removes all duplicate items from it.\n",
        "Examples\n",
        "setify([1, 3, 3, 5, 5]) ➞ [1, 3, 5]\n",
        "setify([4, 4, 4, 4]) ➞ [4]\n",
        "setify([5, 7, 8, 9, 10, 15]) ➞ [5, 7, 8, 9, 10, 15]\n",
        "setify([3, 3, 3, 2, 1]) ➞ [1, 2, 3]\n"
      ],
      "metadata": {
        "id": "CEEWXQRMmklp"
      }
    },
    {
      "cell_type": "code",
      "source": [
        "def remove_duplicates(lst):\n",
        "  new_list=sorted(set(lst))\n",
        "  return new_list\n",
        "print(remove_duplicates([5,8,7,9,10,15]))\n",
        "print(remove_duplicates([3,3,3,2,1]))\n",
        "print(remove_duplicates([4,4,4,4,4,4]))\n"
      ],
      "metadata": {
        "colab": {
          "base_uri": "https://localhost:8080/"
        },
        "id": "Ok5g8_wzmmha",
        "outputId": "5300707f-5ace-451d-9f5c-863b56949f74"
      },
      "execution_count": null,
      "outputs": [
        {
          "output_type": "stream",
          "name": "stdout",
          "text": [
            "[5, 7, 8, 9, 10, 15]\n",
            "[1, 2, 3]\n",
            "[4]\n"
          ]
        }
      ]
    },
    {
      "cell_type": "markdown",
      "source": [
        "Create a function that returns the mean of all digits.\n",
        "Examples\n",
        "mean(42) ➞ 3\n",
        "mean(12345) ➞ 3\n",
        "mean(666) ➞ 6\n",
        "Notes\n",
        "The mean of all digits is the sum of digits / how many digits there are (e.g. mean\n",
        "of digits in 512 is (5+1+2)/3(number of digits) = 8/3=2).\n",
        "The mean will always be an integer.\n"
      ],
      "metadata": {
        "id": "oQldXlfuoN5P"
      }
    },
    {
      "cell_type": "code",
      "source": [
        "def mean(num):\n",
        "    digits = [int(d) for d in str(num)]\n",
        "    return sum(digits) // len(digits)\n",
        "print(mean(42))\n",
        "print(mean(12345))\n",
        "print(mean(666))\n"
      ],
      "metadata": {
        "colab": {
          "base_uri": "https://localhost:8080/"
        },
        "id": "dCjY5rZ8oEjV",
        "outputId": "fa32eea9-ad8e-4088-d066-8c872cd0b4bd"
      },
      "execution_count": null,
      "outputs": [
        {
          "output_type": "stream",
          "name": "stdout",
          "text": [
            "3\n",
            "3\n",
            "6\n"
          ]
        }
      ]
    },
    {
      "cell_type": "markdown",
      "source": [
        "Create a function that takes an integer and returns a list from 1 to the given number,\n",
        "where:\n",
        "1. If the number can be divided evenly by 4, amplify it by 10 (i.e. return 10 times the\n",
        "number).\n",
        "2. If the number cannot be divided evenly by 4, simply return the number.\n"
      ],
      "metadata": {
        "id": "j5ontYswo54v"
      }
    },
    {
      "cell_type": "code",
      "source": [
        "def amplify(num):\n",
        "  return [n*10 if n%4==0 else n for n in range(1,num+1)]\n",
        "print(amplify(4))\n",
        "print(amplify(3))\n",
        "print(amplify(40))\n"
      ],
      "metadata": {
        "colab": {
          "base_uri": "https://localhost:8080/"
        },
        "id": "vexl030ioEdT",
        "outputId": "fbc8b3ef-c16a-447d-9bbe-89193160864c"
      },
      "execution_count": null,
      "outputs": [
        {
          "output_type": "stream",
          "name": "stdout",
          "text": [
            "[1, 2, 3, 40]\n",
            "[1, 2, 3]\n",
            "[1, 2, 3, 40, 5, 6, 7, 80, 9, 10, 11, 120, 13, 14, 15, 160, 17, 18, 19, 200, 21, 22, 23, 240, 25, 26, 27, 280, 29, 30, 31, 320, 33, 34, 35, 360, 37, 38, 39, 400]\n"
          ]
        }
      ]
    },
    {
      "cell_type": "markdown",
      "source": [
        "Create a function that takes a list of numbers and return the number that's unique"
      ],
      "metadata": {
        "id": "CpVmbMu5prSY"
      }
    },
    {
      "cell_type": "code",
      "source": [
        "def unique(lst):\n",
        "    return [i for i in lst if lst.count(i) == 1]\n",
        "\n",
        "print(unique([1,2,3,3,2]))\n",
        "print(unique([1,2,3,3,4,4]))"
      ],
      "metadata": {
        "id": "nFT22Q6up2wO",
        "outputId": "4fd5d845-7e76-4034-c7fb-76974f2985d1",
        "colab": {
          "base_uri": "https://localhost:8080/"
        }
      },
      "execution_count": null,
      "outputs": [
        {
          "output_type": "stream",
          "name": "stdout",
          "text": [
            "[1]\n",
            "[1, 2]\n"
          ]
        }
      ]
    },
    {
      "cell_type": "markdown",
      "source": [
        "Create a function that takes a list of strings and return a list, sorted from shortest to\n",
        "longest.\n",
        "Examples\n",
        "sort_by_length([\"Google\", \"Apple\", \"Microsoft\"]) ➞ [\"Apple\", \"Google\", \"Microsoft\"]\n",
        "sort_by_length([\"Leonardo\", \"Michelangelo\", \"Raphael\", \"Donatello\"]) ➞ [\"Raphael\",\n",
        "\"Leonardo\", \"Donatello\", \"Michelangelo\"]\n",
        "sort_by_length([\"Turing\", \"Einstein\", \"Jung\"]) ➞ [\"Jung\", \"Turing\", \"Einstein\"]"
      ],
      "metadata": {
        "id": "-jzkjR0Q-SOO"
      }
    },
    {
      "cell_type": "code",
      "source": [
        "def sort_by_length(lst):\n",
        "  return sorted(lst,key=len)\n",
        "print(sort_by_length([\"Apple\",\"Google\",\"Butterfly\"]))\n",
        "print(sort_by_length([\"Leonardo\", \"Michelangelo\", \"Raphael\", \"Donatello\"]))\n",
        "print(sort_by_length([\"Turing\", \"Einstein\", \"Jung\"]))"
      ],
      "metadata": {
        "id": "Yt1y7I-WoEXt",
        "colab": {
          "base_uri": "https://localhost:8080/"
        },
        "outputId": "a5369e67-7a4d-43c8-cde0-fedc7ac1cde8"
      },
      "execution_count": null,
      "outputs": [
        {
          "output_type": "stream",
          "name": "stdout",
          "text": [
            "['Apple', 'Google', 'Butterfly']\n",
            "['Raphael', 'Leonardo', 'Donatello', 'Michelangelo']\n",
            "['Jung', 'Turing', 'Einstein']\n"
          ]
        }
      ]
    },
    {
      "cell_type": "markdown",
      "source": [
        "Create a function that validates whether three given integers form a Pythagorean\n",
        "triplet. The sum of the squares of the two smallest integers must equal the square of\n",
        "the largest number to be validated.\n",
        "Examples\n",
        "is_triplet(3, 4, 5) ➞ True\n",
        "3² + 4² = 25\n",
        "5² = 25\n",
        "is_triplet(13, 5, 12) ➞ True\n",
        "5² + 12² = 169\n",
        "13² = 169\n",
        "is_triplet(1, 2, 3) ➞ False\n",
        "1² + 2² = 5\n",
        "3² = 9\n",
        "Notes\n",
        "Numbers may not be given in a sorted order.\n"
      ],
      "metadata": {
        "id": "n6xdBs-J_SpJ"
      }
    },
    {
      "cell_type": "code",
      "source": [
        "def is_triplet(a,b,c):\n",
        "  a,b,c=sorted([a,b,c])\n",
        "  d=(a*a)+(b*b)\n",
        "  if d==(c*c):\n",
        "    return True\n",
        "  else:\n",
        "    return False\n",
        "print(is_triplet(3,4,5))\n",
        "print(is_triplet(13,5,12))\n",
        "print(is_triplet(1,2,3))"
      ],
      "metadata": {
        "id": "k3DekBMdoEAI",
        "colab": {
          "base_uri": "https://localhost:8080/"
        },
        "outputId": "1b3100ca-4adf-4114-d9c5-b94dd95779d5"
      },
      "execution_count": null,
      "outputs": [
        {
          "output_type": "stream",
          "name": "stdout",
          "text": [
            "True\n",
            "True\n",
            "False\n"
          ]
        }
      ]
    },
    {
      "cell_type": "markdown",
      "source": [
        "Create a function that takes three integer arguments (a, b, c) and returns the amount\n",
        "of integers which are of equal value.\n",
        "Examples\n",
        "equal(3, 4, 3) ➞ 2\n",
        "equal(1, 1, 1) ➞ 3\n",
        "equal(3, 4, 1) ➞ 0\n",
        "Notes\n",
        "Your function must return 0, 2 or 3."
      ],
      "metadata": {
        "id": "QcAFIvrIAt8U"
      }
    },
    {
      "cell_type": "code",
      "source": [
        "def equal(a,b,c):\n",
        "  if a==b==c:\n",
        "    return 3\n",
        "  elif a==b or b==c or c==a:\n",
        "    return 2\n",
        "  else:\n",
        "    return 0\n",
        "print(equal(3,4,3))\n",
        "print(equal(1,1,1))\n",
        "print(equal(3,4,1))"
      ],
      "metadata": {
        "colab": {
          "base_uri": "https://localhost:8080/"
        },
        "id": "yvYxgH_mAxmS",
        "outputId": "9d7c35eb-00c0-4aac-b286-fc31b223e914"
      },
      "execution_count": null,
      "outputs": [
        {
          "output_type": "stream",
          "name": "stdout",
          "text": [
            "2\n",
            "3\n",
            "0\n"
          ]
        }
      ]
    },
    {
      "cell_type": "markdown",
      "source": [
        "Write a function that converts a dictionary into a list of keys-values tuples.\n",
        "Examples\n",
        "dict_to_list({\n",
        "\"D\": 1,\n",
        "\"B\": 2\n",
        "\"C\": 3\n",
        "}) ➞ [(\"B\", 2), (\"C\", 3), (\"D\", 1)]\n",
        "dict_to_list({\n",
        "\"likes\": 2,\n",
        "\"dislikes\": 3,\n",
        "\"followers\": 10\n",
        "}) ➞ [(\"dislikes\", 3), (\"followers\", 10), (\"likes\", 2)]\n",
        "Notes\n",
        "Return the elements in the list in alphabetical order."
      ],
      "metadata": {
        "id": "BcJB6NgaBasw"
      }
    },
    {
      "cell_type": "code",
      "source": [
        "def dict_to_list(d):\n",
        "  return sorted(d.items())\n",
        "print(dict_to_list({\"D\": 1, \"B\": 2, \"C\": 3}))\n",
        "print(dict_to_list({\"likes\": 2, \"dislikes\": 3, \"followers\": 10}))"
      ],
      "metadata": {
        "colab": {
          "base_uri": "https://localhost:8080/"
        },
        "id": "IegG8_4UBnFi",
        "outputId": "cde49e9d-e886-4ea8-a694-0585ef9ad285"
      },
      "execution_count": null,
      "outputs": [
        {
          "output_type": "stream",
          "name": "stdout",
          "text": [
            "[('B', 2), ('C', 3), ('D', 1)]\n"
          ]
        }
      ]
    },
    {
      "cell_type": "markdown",
      "source": [
        "Write a function that creates a dictionary with each (key, value) pair being the (lower\n",
        "case, upper case) versions of a letter, respectively.\n",
        "Examples\n",
        "mapping([\"p\", \"s\"]) ➞ { \"p\": \"P\", \"s\": \"S\" }\n",
        "mapping([\"a\", \"b\", \"c\"]) ➞ { \"a\": \"A\", \"b\": \"B\", \"c\": \"C\" }\n",
        "mapping([\"a\", \"v\", \"y\", \"z\"]) ➞ { \"a\": \"A\", \"v\": \"V\", \"y\": \"Y\", \"z\": \"Z\" }\n",
        "Notes\n",
        "All of the letters in the input list will always be lowercase."
      ],
      "metadata": {
        "id": "XzNqQKd0EOiu"
      }
    },
    {
      "cell_type": "code",
      "source": [
        "def mapping(d):\n",
        "  return {ch:ch.upper() for ch in d}\n",
        "print(mapping([\"p\", \"s\"]))\n",
        "print(mapping([\"a\", \"b\", \"c\"]))\n",
        "print(mapping([\"a\", \"v\", \"y\", \"z\"]))\n"
      ],
      "metadata": {
        "colab": {
          "base_uri": "https://localhost:8080/"
        },
        "id": "iMbj1JxQEZt3",
        "outputId": "600e23a9-26ce-4a8e-b5ea-1b8cf9cf1a14"
      },
      "execution_count": null,
      "outputs": [
        {
          "output_type": "stream",
          "name": "stdout",
          "text": [
            "{'p': 'P', 's': 'S'}\n",
            "{'a': 'A', 'b': 'B', 'c': 'C'}\n",
            "{'a': 'A', 'v': 'V', 'y': 'Y', 'z': 'Z'}\n"
          ]
        }
      ]
    },
    {
      "cell_type": "markdown",
      "source": [
        "Write a function, that replaces all vowels in a string with a specified vowel.\n",
        "Examples\n",
        "vow_replace(\"apples and bananas\", \"u\") ➞ \"upplus und bununus\"\n",
        "vow_replace(\"cheese casserole\", \"o\") ➞ \"chooso cossorolo\"\n",
        "vow_replace(\"stuffed jalapeno poppers\", \"e\") ➞ \"steffed jelepene peppers\"\n",
        "Notes\n",
        "All words will be lowercase. Y is not considered a vowel.\n"
      ],
      "metadata": {
        "id": "9olWLDbjFia_"
      }
    },
    {
      "cell_type": "code",
      "source": [
        "def vow_replace(string,vowel):\n",
        "  vowels='aeiou'\n",
        "  new_string=''\n",
        "  for ch in string:\n",
        "    if ch in vowels:\n",
        "      new_string+=vowel\n",
        "    else:\n",
        "      new_string+=ch\n",
        "  return new_string\n",
        "print(vow_replace(\"apples and bananas\", \"u\"))\n",
        "print(vow_replace(\"cheese casserole\", \"o\"))\n",
        "print(vow_replace(\"stuffed jalapeno poppers\", \"e\"))"
      ],
      "metadata": {
        "colab": {
          "base_uri": "https://localhost:8080/"
        },
        "id": "KSVqMiu-GHN7",
        "outputId": "fa43510c-8fca-4b15-afbe-6de2432146fd"
      },
      "execution_count": null,
      "outputs": [
        {
          "output_type": "stream",
          "name": "stdout",
          "text": [
            "upplus und bununus\n",
            "chooso cossorolo\n",
            "steffed jelepene peppers\n"
          ]
        }
      ]
    },
    {
      "cell_type": "markdown",
      "source": [
        "Create a function that takes a string as input and capitalizes a letter if its ASCII code\n",
        "is even and returns its lower case version if its ASCII code is odd.\n",
        "Examples\n",
        "ascii_capitalize(\"to be or not to be!\") ➞ \"To Be oR NoT To Be!\"\n",
        "ascii_capitalize(\"THE LITTLE MERMAID\") ➞ \"THe LiTTLe meRmaiD\"\n",
        "ascii_capitalize(\"Oh what a beautiful morning.\") ➞ \"oH wHaT a BeauTiFuL\n",
        "moRNiNg.\""
      ],
      "metadata": {
        "id": "dfA9VxRnG-4J"
      }
    },
    {
      "cell_type": "code",
      "source": [
        "def ascii_capitalize(input_str):\n",
        " result = \"\"\n",
        "\n",
        " for char in input_str:\n",
        "  if ord(char) % 2 == 0:\n",
        "    result += char.upper()\n",
        "  else:\n",
        "    result += char.lower()\n",
        " return result\n",
        "print(ascii_capitalize(\"to be or not to be!\"))\n",
        "print(ascii_capitalize(\"THE LITTLE MERMAID\"))\n",
        "print(ascii_capitalize(\"Oh what a beautiful morning.\"))"
      ],
      "metadata": {
        "colab": {
          "base_uri": "https://localhost:8080/"
        },
        "id": "z2YSsz-FHF9f",
        "outputId": "30d93c2e-72cc-4e95-a501-bfdac260cd25"
      },
      "execution_count": null,
      "outputs": [
        {
          "output_type": "stream",
          "name": "stdout",
          "text": [
            "To Be oR NoT To Be!\n",
            "THe LiTTLe meRmaiD\n",
            "oH wHaT a BeauTiFuL moRNiNg.\n"
          ]
        }
      ]
    },
    {
      "cell_type": "markdown",
      "source": [
        "Addition using Lambda Function"
      ],
      "metadata": {
        "id": "uT-uOTytLwSt"
      }
    },
    {
      "cell_type": "code",
      "source": [
        "f=lambda a,b:a+b\n",
        "print(f(3,7))"
      ],
      "metadata": {
        "colab": {
          "base_uri": "https://localhost:8080/"
        },
        "id": "m8ED2h21L7XR",
        "outputId": "79a0e473-e524-4dd5-b9f2-f2b08b0bb968"
      },
      "execution_count": null,
      "outputs": [
        {
          "output_type": "stream",
          "name": "stdout",
          "text": [
            "10\n"
          ]
        }
      ]
    },
    {
      "cell_type": "markdown",
      "source": [
        "Factorial using Lambda Function"
      ],
      "metadata": {
        "id": "kN9temTSQqQz"
      }
    },
    {
      "cell_type": "code",
      "source": [
        "f=lambda n: 1 if n==0 else n*f(n-1)\n",
        "print(f(5))"
      ],
      "metadata": {
        "colab": {
          "base_uri": "https://localhost:8080/"
        },
        "id": "AFdxGu81Qud3",
        "outputId": "e93468b8-281a-4b79-b4df-64b13fd9e214"
      },
      "execution_count": null,
      "outputs": [
        {
          "output_type": "stream",
          "name": "stdout",
          "text": [
            "120\n"
          ]
        }
      ]
    },
    {
      "cell_type": "markdown",
      "source": [
        "DEfault Arguements"
      ],
      "metadata": {
        "id": "8npd9gemSezP"
      }
    },
    {
      "cell_type": "code",
      "source": [
        "def add(a,b,c=5):\n",
        "  return a+b+c\n",
        "add(2,3)"
      ],
      "metadata": {
        "colab": {
          "base_uri": "https://localhost:8080/"
        },
        "id": "3tqc_PUaQu43",
        "outputId": "ddce423f-78fc-4fb3-c540-234f8831eb01"
      },
      "execution_count": null,
      "outputs": [
        {
          "output_type": "execute_result",
          "data": {
            "text/plain": [
              "10"
            ]
          },
          "metadata": {},
          "execution_count": 25
        }
      ]
    },
    {
      "cell_type": "markdown",
      "source": [
        "check the number prime or not"
      ],
      "metadata": {
        "id": "1rm6rTDiVEGe"
      }
    },
    {
      "cell_type": "code",
      "source": [
        "num=int(input(\"Enter a number:\"))\n",
        "for i in range(2,num):\n",
        "  if num%i==0:\n",
        "    print(\"not a prime\")\n",
        "    break\n",
        "else:\n",
        "  print(f\"{num} is a prime\")"
      ],
      "metadata": {
        "colab": {
          "base_uri": "https://localhost:8080/"
        },
        "id": "dHNEWIRaVHCD",
        "outputId": "f878f6f4-bd04-4705-b707-b791a6d8dd60"
      },
      "execution_count": null,
      "outputs": [
        {
          "output_type": "stream",
          "name": "stdout",
          "text": [
            "Enter a number:47\n",
            "47 is a prime\n"
          ]
        }
      ]
    },
    {
      "cell_type": "markdown",
      "source": [
        "print the given number is odd or even"
      ],
      "metadata": {
        "id": "4on9sPIbV3U2"
      }
    },
    {
      "cell_type": "code",
      "source": [
        "num=int(input(\"Enter a number:\"))\n",
        "if num%2==0:\n",
        "  print(f\"{num} is a even number\")\n",
        "else:\n",
        "  print(f\"{num} is a odd number\")"
      ],
      "metadata": {
        "colab": {
          "base_uri": "https://localhost:8080/"
        },
        "id": "XnKm2gTcV-wF",
        "outputId": "49ada522-ef62-4052-d5cc-c0e334a96615"
      },
      "execution_count": null,
      "outputs": [
        {
          "output_type": "stream",
          "name": "stdout",
          "text": [
            "Enter a number:5\n",
            "5 is a odd number\n"
          ]
        }
      ]
    },
    {
      "cell_type": "markdown",
      "source": [
        "check the number is positive or negative"
      ],
      "metadata": {
        "id": "S7ikTR0SXC78"
      }
    },
    {
      "cell_type": "code",
      "source": [
        "num=float(input(\"Enter a number:\"))\n",
        "if num<0:\n",
        "  print(f\"{num} is a negative number\")\n",
        "elif num==0:\n",
        "  print(f\"{num} is zero\")\n",
        "else:\n",
        "  print(f\"{num} is a positive number\")"
      ],
      "metadata": {
        "colab": {
          "base_uri": "https://localhost:8080/"
        },
        "id": "uGk-GGT9XF1Y",
        "outputId": "41e0a75d-02c6-4029-9b72-79c467ff038f"
      },
      "execution_count": null,
      "outputs": [
        {
          "output_type": "stream",
          "name": "stdout",
          "text": [
            "Enter a number:-1.2\n",
            "-1.2 is a negative number\n"
          ]
        }
      ]
    },
    {
      "cell_type": "code",
      "source": [
        "s=int(input(\"enter a number:\"))\n",
        "for i in range(1,s+1):\n",
        "  print(\"* \"*i)\n",
        "  i+=1"
      ],
      "metadata": {
        "colab": {
          "base_uri": "https://localhost:8080/"
        },
        "id": "zYQB4QjCX3KZ",
        "outputId": "978c2093-46f5-49c6-cf57-3326e49df235"
      },
      "execution_count": null,
      "outputs": [
        {
          "output_type": "stream",
          "name": "stdout",
          "text": [
            "enter a number:5\n",
            "* \n",
            "* * \n",
            "* * * \n",
            "* * * * \n",
            "* * * * * \n"
          ]
        }
      ]
    },
    {
      "cell_type": "code",
      "source": [
        "s=int(input(\"Enter a number:\"))\n",
        "for i in range(1,s+1):\n",
        "  for j in range(1,i+1):\n",
        "    print(j,end=\" \")\n",
        "  print()\n",
        "  i+=1"
      ],
      "metadata": {
        "colab": {
          "base_uri": "https://localhost:8080/"
        },
        "id": "_sIUnBIxYrar",
        "outputId": "01b6e68a-428a-4515-9dc8-2d927d523fd7"
      },
      "execution_count": null,
      "outputs": [
        {
          "output_type": "stream",
          "name": "stdout",
          "text": [
            "Enter a number:5\n",
            "1 \n",
            "1 2 \n",
            "1 2 3 \n",
            "1 2 3 4 \n",
            "1 2 3 4 5 \n"
          ]
        }
      ]
    },
    {
      "cell_type": "code",
      "source": [
        "def tri(n):\n",
        "  num=1\n",
        "  for i in range(0,n):\n",
        "    for j in range(0,i+1):\n",
        "      print(num,end=\" \")\n",
        "      num+=1\n",
        "    print()\n",
        "tri(5)"
      ],
      "metadata": {
        "colab": {
          "base_uri": "https://localhost:8080/"
        },
        "id": "JNb2bR57ZrWM",
        "outputId": "6a0ca919-6c26-4313-ce80-dce8919b1824"
      },
      "execution_count": null,
      "outputs": [
        {
          "output_type": "stream",
          "name": "stdout",
          "text": [
            "1 \n",
            "2 3 \n",
            "4 5 6 \n",
            "7 8 9 10 \n",
            "11 12 13 14 15 \n"
          ]
        }
      ]
    },
    {
      "cell_type": "code",
      "source": [
        "def character(n):\n",
        "  p=65\n",
        "  for i in range(n):\n",
        "    for j in range(i+1):\n",
        "      ch=chr(p)\n",
        "      print(ch,end=\" \")\n",
        "    p+=1\n",
        "    print()\n",
        "character(5)"
      ],
      "metadata": {
        "colab": {
          "base_uri": "https://localhost:8080/"
        },
        "id": "ApJwHiKpbjlj",
        "outputId": "11de534d-22bf-480f-e289-6e545064260b"
      },
      "execution_count": null,
      "outputs": [
        {
          "output_type": "stream",
          "name": "stdout",
          "text": [
            "A \n",
            "B B \n",
            "C C C \n",
            "D D D D \n",
            "E E E E E \n"
          ]
        }
      ]
    },
    {
      "cell_type": "code",
      "source": [
        "def character(n):\n",
        "  p=65\n",
        "  for i in range(n):\n",
        "    for j in range(i,n):\n",
        "      ch=chr(p)\n",
        "      print(ch,end=\" \")\n",
        "    p+=1\n",
        "    print()\n",
        "character(5)"
      ],
      "metadata": {
        "colab": {
          "base_uri": "https://localhost:8080/"
        },
        "id": "p7QspAbTcy8S",
        "outputId": "da1934ea-6c30-4a59-d96f-6150fd2ce26e"
      },
      "execution_count": null,
      "outputs": [
        {
          "output_type": "stream",
          "name": "stdout",
          "text": [
            "A A A A A \n",
            "B B B B \n",
            "C C C \n",
            "D D \n",
            "E \n"
          ]
        }
      ]
    },
    {
      "cell_type": "code",
      "source": [
        "def character(n):\n",
        "  p=65\n",
        "  for i in range(n):\n",
        "    for j in range(i,n):\n",
        "      print(\" \",end=\" \")\n",
        "    for j in range(i+1):\n",
        "      print(chr(p),end=\" \")\n",
        "    for j in range(i):\n",
        "      print(chr(p),end=\" \")\n",
        "    p+=1\n",
        "    print()\n",
        "character(5)"
      ],
      "metadata": {
        "colab": {
          "base_uri": "https://localhost:8080/"
        },
        "id": "aVIa09IEdbU3",
        "outputId": "8744b363-64e8-403b-ab1f-24484e815120"
      },
      "execution_count": null,
      "outputs": [
        {
          "output_type": "stream",
          "name": "stdout",
          "text": [
            "          A \n",
            "        B B B \n",
            "      C C C C C \n",
            "    D D D D D D D \n",
            "  E E E E E E E E E \n"
          ]
        }
      ]
    },
    {
      "cell_type": "code",
      "source": [
        "def alphabet(n):\n",
        "  p=65\n",
        "  for i in range(n):\n",
        "    for j in range(i+1):\n",
        "      ch=chr(p)\n",
        "\n",
        "      print(ch,end=\" \")\n",
        "      p+=1\n",
        "    print()\n",
        "alphabet(5)"
      ],
      "metadata": {
        "colab": {
          "base_uri": "https://localhost:8080/"
        },
        "id": "otOyFsw7ekHD",
        "outputId": "0ec64a0d-f35d-402d-da9b-3750f198f703"
      },
      "execution_count": null,
      "outputs": [
        {
          "output_type": "stream",
          "name": "stdout",
          "text": [
            "A \n",
            "B C \n",
            "D E F \n",
            "G H I J \n",
            "K L M N O \n"
          ]
        }
      ]
    },
    {
      "cell_type": "code",
      "source": [
        "def alphabet(n):\n",
        "  p=65\n",
        "  for i in range(n):\n",
        "    for j in range(i+1):\n",
        "      print(\" \",end=\" \")\n",
        "    for j in range(i,n):\n",
        "      print(chr(p),end=\" \")\n",
        "      p+=1\n",
        "    print()\n",
        "alphabet(5)"
      ],
      "metadata": {
        "colab": {
          "base_uri": "https://localhost:8080/"
        },
        "id": "_lamLM1Jffuu",
        "outputId": "5f65863b-5685-4f39-81bc-e0362e67a270"
      },
      "execution_count": null,
      "outputs": [
        {
          "output_type": "stream",
          "name": "stdout",
          "text": [
            "  A B C D E \n",
            "    F G H I \n",
            "      J K L \n",
            "        M N \n",
            "          O \n"
          ]
        }
      ]
    },
    {
      "cell_type": "code",
      "source": [
        "def alphabet(n):\n",
        "  p=65\n",
        "  for i in range(n):\n",
        "    for j in range(i,n):\n",
        "      print(\" \",end=\" \")\n",
        "    for j in range(i+1):\n",
        "      print(chr(p),end=\" \")\n",
        "      p+=1\n",
        "    print()\n",
        "alphabet(5)"
      ],
      "metadata": {
        "colab": {
          "base_uri": "https://localhost:8080/"
        },
        "id": "tmWTEkwlhEb4",
        "outputId": "8a666f03-b5e7-42e3-bfbe-e099ccd6d7bd"
      },
      "execution_count": null,
      "outputs": [
        {
          "output_type": "stream",
          "name": "stdout",
          "text": [
            "          A \n",
            "        B C \n",
            "      D E F \n",
            "    G H I J \n",
            "  K L M N O \n"
          ]
        }
      ]
    },
    {
      "cell_type": "code",
      "source": [
        "def alphabet(n):\n",
        "  p=65\n",
        "  for i in range(n):\n",
        "    for j in range(i,n):\n",
        "      print(\" \",end=\"\")\n",
        "    for j in range(i+1):\n",
        "      print(chr(p),end=\" \")\n",
        "      p+=1\n",
        "    p=65\n",
        "    print()\n",
        "alphabet(5)"
      ],
      "metadata": {
        "colab": {
          "base_uri": "https://localhost:8080/"
        },
        "id": "6QV215KWhyjm",
        "outputId": "837da3fe-bd9b-4974-a430-09e02338e68f"
      },
      "execution_count": null,
      "outputs": [
        {
          "output_type": "stream",
          "name": "stdout",
          "text": [
            "     A \n",
            "    A B \n",
            "   A B C \n",
            "  A B C D \n",
            " A B C D E \n"
          ]
        }
      ]
    },
    {
      "cell_type": "code",
      "source": [
        "def alphabet(n):\n",
        "  p=65\n",
        "  for i in range(n):\n",
        "    for j in range(i,n):\n",
        "      print(\" \",end=\"\")\n",
        "    for j in range(i+1):\n",
        "      print(chr(p),end=\" \")\n",
        "      p+=1\n",
        "    print()\n",
        "alphabet(5)"
      ],
      "metadata": {
        "colab": {
          "base_uri": "https://localhost:8080/"
        },
        "id": "c2HAUF5DibPA",
        "outputId": "e3668d3b-2f75-428d-f364-e433e1083f54"
      },
      "execution_count": null,
      "outputs": [
        {
          "output_type": "stream",
          "name": "stdout",
          "text": [
            "     A \n",
            "    B C \n",
            "   D E F \n",
            "  G H I J \n",
            " K L M N O \n"
          ]
        }
      ]
    },
    {
      "cell_type": "code",
      "source": [
        "def pyramid(n):\n",
        "  for i in range(n):\n",
        "    for j in range(i,n):\n",
        "      print(\" \",end=\" \")\n",
        "    for j in range(i+1):\n",
        "      print(\"*\",end=\" \")\n",
        "    for j in range(i):\n",
        "      print(\"*\",end=\" \")\n",
        "      i+=1\n",
        "    print()\n",
        "pyramid(5)\n"
      ],
      "metadata": {
        "colab": {
          "base_uri": "https://localhost:8080/"
        },
        "id": "D_AkHcwP4Nkq",
        "outputId": "2e31f654-9822-466e-de66-997af68d4c20"
      },
      "execution_count": null,
      "outputs": [
        {
          "output_type": "stream",
          "name": "stdout",
          "text": [
            "          * \n",
            "        * * * \n",
            "      * * * * * \n",
            "    * * * * * * * \n",
            "  * * * * * * * * * \n"
          ]
        }
      ]
    },
    {
      "cell_type": "code",
      "source": [
        "def pyramid(n):\n",
        "  for i in range(n):\n",
        "    for j in range(i,n):\n",
        "      print(\" \",end=\"\")\n",
        "    for j in range(i+1):\n",
        "      print(\"*\",end=\" \")\n",
        "\n",
        "    print()\n",
        "pyramid(5)\n"
      ],
      "metadata": {
        "colab": {
          "base_uri": "https://localhost:8080/"
        },
        "id": "v6_qnQ9v5iZP",
        "outputId": "1dc98959-dd5a-412c-aeb7-e57ce0103400"
      },
      "execution_count": null,
      "outputs": [
        {
          "output_type": "stream",
          "name": "stdout",
          "text": [
            "     * \n",
            "    * * \n",
            "   * * * \n",
            "  * * * * \n",
            " * * * * * \n"
          ]
        }
      ]
    },
    {
      "cell_type": "code",
      "source": [
        "def sandglass(n):\n",
        "  for i in range(n):\n",
        "    for j in range(i+1):\n",
        "      print(\" \",end=\"\")\n",
        "    for j in range(i,n):\n",
        "      print(\"*\",end=\" \")\n",
        "    print()\n",
        "  for i in range(n):\n",
        "    for j in range(i,n):\n",
        "      print(\" \",end=\"\")\n",
        "    for j in range(i+1):\n",
        "      print(\"*\",end=\" \")\n",
        "    print()\n",
        "sandglass(5)\n",
        "\n"
      ],
      "metadata": {
        "colab": {
          "base_uri": "https://localhost:8080/"
        },
        "id": "7A5JlUkL6DGu",
        "outputId": "43da7234-a5f1-4178-8b8d-cec64290ac6e"
      },
      "execution_count": null,
      "outputs": [
        {
          "output_type": "stream",
          "name": "stdout",
          "text": [
            " * * * * * \n",
            "  * * * * \n",
            "   * * * \n",
            "    * * \n",
            "     * \n",
            "     * \n",
            "    * * \n",
            "   * * * \n",
            "  * * * * \n",
            " * * * * * \n"
          ]
        }
      ]
    },
    {
      "cell_type": "code",
      "source": [
        "def butterfly(n):\n",
        "  for i in range(n):\n",
        "    for j in range(i+1):\n",
        "      print(\"*\",end=\" \")\n",
        "    for j in range(i,n-1):\n",
        "      print(\" \",end=\" \")\n",
        "    for j in range(i,n-1):\n",
        "      print(\" \",end=\" \")\n",
        "    for j in range(i+1):\n",
        "      print(\"*\",end=\" \")\n",
        "    print()\n",
        "  for i in range(n):\n",
        "    for j in range(i,n-1):\n",
        "      print(\"*\",end=\" \")\n",
        "    for j in range(i+1):\n",
        "      print(\" \",end=\" \")\n",
        "    for j in range(i+1):\n",
        "      print(\" \",end=\" \")\n",
        "    for j in range(i,n-1):\n",
        "      print(\"*\",end=\" \")\n",
        "    print()\n",
        "butterfly(5)"
      ],
      "metadata": {
        "colab": {
          "base_uri": "https://localhost:8080/"
        },
        "id": "bxj5HoXd8dvO",
        "outputId": "1b801af8-62be-4a92-a604-f3c910d97092"
      },
      "execution_count": null,
      "outputs": [
        {
          "output_type": "stream",
          "name": "stdout",
          "text": [
            "*                 * \n",
            "* *             * * \n",
            "* * *         * * * \n",
            "* * * *     * * * * \n",
            "* * * * * * * * * * \n",
            "* * * *     * * * * \n",
            "* * *         * * * \n",
            "* *             * * \n",
            "*                 * \n",
            "                    \n"
          ]
        }
      ]
    },
    {
      "cell_type": "code",
      "source": [
        "def pyramid(n):\n",
        "  for i in range(n):\n",
        "    for j in range(i+1):\n",
        "      print(\" \",end=\"\")\n",
        "    for j in range(i,n):\n",
        "      print(\"*\",end=\" \")\n",
        "\n",
        "    print()\n",
        "pyramid(5)"
      ],
      "metadata": {
        "colab": {
          "base_uri": "https://localhost:8080/"
        },
        "id": "OAy0Y_889l7c",
        "outputId": "fc6ca383-7ae0-411b-b9ea-4b3c0ba49900"
      },
      "execution_count": null,
      "outputs": [
        {
          "output_type": "stream",
          "name": "stdout",
          "text": [
            " * * * * * \n",
            "  * * * * \n",
            "   * * * \n",
            "    * * \n",
            "     * \n"
          ]
        }
      ]
    },
    {
      "cell_type": "code",
      "source": [
        "def hill_triangle(n):\n",
        "\n",
        "  for i in range(n):\n",
        "    num=1\n",
        "    for j in range(i,n):\n",
        "      print(\" \",end=\" \")\n",
        "    for j in range(i):\n",
        "      print(num,end=\" \")\n",
        "      num+=1\n",
        "    for j in range(i+1):\n",
        "      print(num,end=\" \")\n",
        "      num+=1\n",
        "    print()\n",
        "hill_triangle(5)"
      ],
      "metadata": {
        "colab": {
          "base_uri": "https://localhost:8080/"
        },
        "id": "Xt0b4twe_AZ4",
        "outputId": "921e2518-1e69-4485-9d3d-c46b7ac80ca3"
      },
      "execution_count": null,
      "outputs": [
        {
          "output_type": "stream",
          "name": "stdout",
          "text": [
            "          1 \n",
            "        1 2 3 \n",
            "      1 2 3 4 5 \n",
            "    1 2 3 4 5 6 7 \n",
            "  1 2 3 4 5 6 7 8 9 \n"
          ]
        }
      ]
    },
    {
      "cell_type": "code",
      "source": [
        "n = 5\n",
        "for i in range(1, n + 1):\n",
        "    print(\"  \" * (i - 1), end=\"\")\n",
        "    for j in range(n - i + 1, 0, -1):\n",
        "        print(j, end=\" \")\n",
        "    print()"
      ],
      "metadata": {
        "colab": {
          "base_uri": "https://localhost:8080/"
        },
        "id": "LMxrW9-PARMk",
        "outputId": "3a17863d-1af3-47f3-86fd-a970351fbfbf"
      },
      "execution_count": null,
      "outputs": [
        {
          "output_type": "stream",
          "name": "stdout",
          "text": [
            "5 4 3 2 1 \n",
            "  4 3 2 1 \n",
            "    3 2 1 \n",
            "      2 1 \n",
            "        1 \n"
          ]
        }
      ]
    },
    {
      "cell_type": "code",
      "source": [
        "def diamond(n):\n",
        "  p=1\n",
        "  for i in range(n-1):\n",
        "    for j in range(i,n):\n",
        "      print(\" \",end=\" \")\n",
        "    for j in range(i+1):\n",
        "      print(p,end=\" \")\n",
        "    for j in range(i):\n",
        "      print(p,end=\" \")\n",
        "    p+=1\n",
        "    print()\n",
        "  for i in range(n):\n",
        "    for j in range(i+1):\n",
        "      print(\" \",end=\" \")\n",
        "    for j in range(i,n):\n",
        "      print(p,end=\" \")\n",
        "    for j in range(i+1,n):\n",
        "      print(p,end=\" \")\n",
        "    p+=1\n",
        "    print()\n",
        "diamond(5)"
      ],
      "metadata": {
        "colab": {
          "base_uri": "https://localhost:8080/"
        },
        "id": "YwcGNH3sA9ip",
        "outputId": "ecc94148-3615-4f54-dea4-bb80e27b85b3"
      },
      "execution_count": null,
      "outputs": [
        {
          "output_type": "stream",
          "name": "stdout",
          "text": [
            "          1 \n",
            "        2 2 2 \n",
            "      3 3 3 3 3 \n",
            "    4 4 4 4 4 4 4 \n",
            "  5 5 5 5 5 5 5 5 5 \n",
            "    6 6 6 6 6 6 6 \n",
            "      7 7 7 7 7 \n",
            "        8 8 8 \n",
            "          9 \n"
          ]
        }
      ]
    },
    {
      "cell_type": "code",
      "source": [
        "def diamond(n):\n",
        "  p=1\n",
        "  for i in range(n-1):\n",
        "    for j in range(i,n):\n",
        "      print(\" \",end=\" \")\n",
        "    for j in range(i+1):\n",
        "      print(p,end=\" \")\n",
        "    for j in range(i):\n",
        "      print(p,end=\" \")\n",
        "    p+=1\n",
        "    print()\n",
        "  for i in range(n):\n",
        "    for j in range(i+1):\n",
        "      print(\" \",end=\" \")\n",
        "    for j in range(i,n):\n",
        "      print(p,end=\" \")\n",
        "    for j in range(i+1,n):\n",
        "      print(p,end=\" \")\n",
        "    p-=1\n",
        "    print()\n",
        "diamond(5)"
      ],
      "metadata": {
        "colab": {
          "base_uri": "https://localhost:8080/"
        },
        "id": "l8wAQMiDFDMl",
        "outputId": "9e5cb999-5075-49a7-9604-053ff0a61cc6"
      },
      "execution_count": null,
      "outputs": [
        {
          "output_type": "stream",
          "name": "stdout",
          "text": [
            "          1 \n",
            "        2 2 2 \n",
            "      3 3 3 3 3 \n",
            "    4 4 4 4 4 4 4 \n",
            "  5 5 5 5 5 5 5 5 5 \n",
            "    4 4 4 4 4 4 4 \n",
            "      3 3 3 3 3 \n",
            "        2 2 2 \n",
            "          1 \n"
          ]
        }
      ]
    },
    {
      "cell_type": "code",
      "source": [
        "def character(n):\n",
        "  p=65\n",
        "  for i in range(n):\n",
        "    for j in range(i+1):\n",
        "      ch=chr(p)\n",
        "      print(ch,end=\" \")\n",
        "    p+=2\n",
        "    print()\n",
        "character(5)"
      ],
      "metadata": {
        "colab": {
          "base_uri": "https://localhost:8080/"
        },
        "id": "mQg2e6atFeHc",
        "outputId": "32f5ca04-c7f8-4602-ab3b-bce68e18421a"
      },
      "execution_count": null,
      "outputs": [
        {
          "output_type": "stream",
          "name": "stdout",
          "text": [
            "A \n",
            "C C \n",
            "E E E \n",
            "G G G G \n",
            "I I I I I \n"
          ]
        }
      ]
    },
    {
      "cell_type": "code",
      "source": [
        "def z_o(n):\n",
        "  for i in range(n):\n",
        "    for j in range(i+1):\n",
        "      print(\" \",end=\" \")\n",
        "    for j in range(i,n):\n",
        "      if i%2==0:\n",
        "        print(\"z\",end=' ')\n",
        "      else:\n",
        "        print(\"o\",end=\" \")\n",
        "    for j in range(i,n-1):\n",
        "      if i%2==0:\n",
        "        print(\"z\",end=' ')\n",
        "      else:\n",
        "        print(\"o\",end=\" \")\n",
        "    print()\n",
        "z_o(5)\n"
      ],
      "metadata": {
        "colab": {
          "base_uri": "https://localhost:8080/"
        },
        "id": "oxcZ2fbRGNoe",
        "outputId": "9a37ddb2-f590-4a71-a300-d6d3118e5213"
      },
      "execution_count": null,
      "outputs": [
        {
          "output_type": "stream",
          "name": "stdout",
          "text": [
            "  z z z z z z z z z \n",
            "    o o o o o o o \n",
            "      z z z z z \n",
            "        o o o \n",
            "          z \n"
          ]
        }
      ]
    },
    {
      "cell_type": "code",
      "source": [
        "def hill_triangle(n):\n",
        "\n",
        "  for i in range(n):\n",
        "    num=65\n",
        "    for j in range(i,n):\n",
        "      print(\" \",end=\" \")\n",
        "    for j in range(i):\n",
        "      print(chr(num),end=\" \")\n",
        "      num+=1\n",
        "    for j in range(i+1):\n",
        "      print(chr(num),end=\" \")\n",
        "      num+=1\n",
        "    print()\n",
        "hill_triangle(5)"
      ],
      "metadata": {
        "colab": {
          "base_uri": "https://localhost:8080/"
        },
        "id": "O7fQcwfIJ3Vc",
        "outputId": "9832affa-17f5-4d05-970f-bf7b740f8078"
      },
      "execution_count": null,
      "outputs": [
        {
          "output_type": "stream",
          "name": "stdout",
          "text": [
            "          A \n",
            "        A B C \n",
            "      A B C D E \n",
            "    A B C D E F G \n",
            "  A B C D E F G H I \n"
          ]
        }
      ]
    },
    {
      "cell_type": "code",
      "source": [
        "def hill_triangle(n):\n",
        "  num=65\n",
        "  for i in range(n):\n",
        "    for j in range(i,n):\n",
        "      print(\" \",end=\" \")\n",
        "    for j in range(i):\n",
        "      print(chr(num),end=\" \")\n",
        "      num+=1\n",
        "    for j in range(i+1):\n",
        "      print(chr(num),end=\" \")\n",
        "      num+=1\n",
        "    print()\n",
        "hill_triangle(5)"
      ],
      "metadata": {
        "colab": {
          "base_uri": "https://localhost:8080/"
        },
        "id": "de3iB9O3KlCq",
        "outputId": "dcacbea7-d91e-44a3-8dfb-3ad3a13e2fdd"
      },
      "execution_count": null,
      "outputs": [
        {
          "output_type": "stream",
          "name": "stdout",
          "text": [
            "          A \n",
            "        B C D \n",
            "      E F G H I \n",
            "    J K L M N O P \n",
            "  Q R S T U V W X Y \n"
          ]
        }
      ]
    },
    {
      "cell_type": "code",
      "source": [
        "def alphabet(n):\n",
        "\n",
        "  for i in range(n):\n",
        "    p=69\n",
        "    for j in range(i+1):\n",
        "      print(\" \",end=\" \")\n",
        "    for j in range(i,n):\n",
        "      print(chr(p),end=\" \")\n",
        "      p+=1\n",
        "    print()\n",
        "alphabet(5)"
      ],
      "metadata": {
        "id": "aN9PyIV1Lm_-",
        "outputId": "963e27f5-ebf3-4431-e26a-58b9f7383f40",
        "colab": {
          "base_uri": "https://localhost:8080/"
        }
      },
      "execution_count": null,
      "outputs": [
        {
          "output_type": "stream",
          "name": "stdout",
          "text": [
            "  E F G H I \n",
            "    E F G H \n",
            "      E F G \n",
            "        E F \n",
            "          E \n"
          ]
        }
      ]
    },
    {
      "cell_type": "code",
      "source": [
        "n = 5\n",
        "for i in range(1, n + 1):\n",
        "    print(\"  \" * (i - 1), end=\"\")\n",
        "    for j in range(n - i, -1, -1):\n",
        "        print(chr(65 + j), end=\" \")\n",
        "    print()\n"
      ],
      "metadata": {
        "colab": {
          "base_uri": "https://localhost:8080/"
        },
        "id": "UAc69qjtNGDR",
        "outputId": "9222b738-96f6-45fa-ea2b-0da57b7f1abf"
      },
      "execution_count": null,
      "outputs": [
        {
          "output_type": "stream",
          "name": "stdout",
          "text": [
            "E D C B A \n",
            "  D C B A \n",
            "    C B A \n",
            "      B A \n",
            "        A \n"
          ]
        }
      ]
    },
    {
      "cell_type": "code",
      "source": [
        "def pattern(n):\n",
        "  k=69\n",
        "  for i in range(n):\n",
        "    p=k\n",
        "    for j in range(i,n):\n",
        "      print(\" \",end=\" \")\n",
        "    for j in range(i):\n",
        "      print(chr(p),end=\" \")\n",
        "      p+=1\n",
        "    for j in range(i+1):\n",
        "      print(chr(p),end=\" \")\n",
        "      p+=1\n",
        "    k-=1\n",
        "    print()\n",
        "pattern(5)"
      ],
      "metadata": {
        "colab": {
          "base_uri": "https://localhost:8080/"
        },
        "id": "bcjdAVdCRzQS",
        "outputId": "49b18c38-798d-4275-93fa-8dd3418f62a5"
      },
      "execution_count": null,
      "outputs": [
        {
          "output_type": "stream",
          "name": "stdout",
          "text": [
            "          E \n",
            "        D E F \n",
            "      C D E F G \n",
            "    B C D E F G H \n",
            "  A B C D E F G H I \n"
          ]
        }
      ]
    },
    {
      "cell_type": "code",
      "source": [
        "def pattern(n):\n",
        "  k=65\n",
        "  for i in range(n):\n",
        "    p=k\n",
        "    for j in range(i,n):\n",
        "      print(\" \",end=\" \")\n",
        "    for j in range(i):\n",
        "      print(chr(p),end=\" \")\n",
        "      p+=1\n",
        "    for j in range(i+1):\n",
        "      print(chr(p),end=\" \")\n",
        "      p-=1\n",
        "    print()\n",
        "pattern(5)"
      ],
      "metadata": {
        "colab": {
          "base_uri": "https://localhost:8080/"
        },
        "id": "kj7tZEHrSt4L",
        "outputId": "9576d54b-d861-4084-b274-c7e444dbf7c8"
      },
      "execution_count": null,
      "outputs": [
        {
          "output_type": "stream",
          "name": "stdout",
          "text": [
            "          A \n",
            "        A B A \n",
            "      A B C B A \n",
            "    A B C D C B A \n",
            "  A B C D E D C B A \n"
          ]
        }
      ]
    },
    {
      "cell_type": "code",
      "source": [
        "def string(st):\n",
        "  n=len(st)\n",
        "  p=0\n",
        "  for i in range(n):\n",
        "    for j in range(i+1):\n",
        "      print(st[p],end=\" \")\n",
        "    p+=1\n",
        "    print()\n",
        "string(\"CODER\")"
      ],
      "metadata": {
        "colab": {
          "base_uri": "https://localhost:8080/"
        },
        "id": "NHFuajnhUMKT",
        "outputId": "eee0dcf6-00f9-41b5-aa3f-9a82a867b1f1"
      },
      "execution_count": null,
      "outputs": [
        {
          "output_type": "stream",
          "name": "stdout",
          "text": [
            "C \n",
            "O O \n",
            "D D D \n",
            "E E E E \n",
            "R R R R R \n"
          ]
        }
      ]
    },
    {
      "cell_type": "code",
      "source": [
        "def string(st):\n",
        "  n=len(st)\n",
        "  p=n-1\n",
        "  for i in range(n):\n",
        "    for j in range(i+1):\n",
        "      print(st[p],end=\" \")\n",
        "    p-=1\n",
        "    print()\n",
        "string(\"CODER\")"
      ],
      "metadata": {
        "colab": {
          "base_uri": "https://localhost:8080/"
        },
        "id": "MOMzwb21VXS_",
        "outputId": "c599d714-b768-468c-ea91-670bd8e73508"
      },
      "execution_count": null,
      "outputs": [
        {
          "output_type": "stream",
          "name": "stdout",
          "text": [
            "R \n",
            "E E \n",
            "D D D \n",
            "O O O O \n",
            "C C C C C \n"
          ]
        }
      ]
    },
    {
      "cell_type": "code",
      "source": [
        "def string(st):\n",
        "  n=len(st)\n",
        "  for i in range(n):\n",
        "    p=0\n",
        "    for j in range(i+1):\n",
        "      print(st[p],end=\" \")\n",
        "      p+=1\n",
        "    print()\n",
        "string(\"CODER\")"
      ],
      "metadata": {
        "colab": {
          "base_uri": "https://localhost:8080/"
        },
        "id": "p43Dt3SzXiNO",
        "outputId": "4dcb79f6-26dc-4409-eee3-30027873e7cb"
      },
      "execution_count": null,
      "outputs": [
        {
          "output_type": "stream",
          "name": "stdout",
          "text": [
            "C \n",
            "C O \n",
            "C O D \n",
            "C O D E \n",
            "C O D E R \n"
          ]
        }
      ]
    },
    {
      "cell_type": "code",
      "source": [
        "def string(st):\n",
        "  n=len(st)\n",
        "  k=n-1\n",
        "  for i in range(n):\n",
        "    p=k\n",
        "    for j in range(i+1):\n",
        "      print(\" \",end=\" \")\n",
        "    for j in range(i,n):\n",
        "      print(st[p],end=\" \")\n",
        "      p-=1\n",
        "\n",
        "    print()\n",
        "    k-=1\n",
        "string(\"CODER\")"
      ],
      "metadata": {
        "colab": {
          "base_uri": "https://localhost:8080/"
        },
        "id": "LhP2zZLMYTNM",
        "outputId": "b069c7bb-d101-4a22-daec-984aecddb92f"
      },
      "execution_count": null,
      "outputs": [
        {
          "output_type": "stream",
          "name": "stdout",
          "text": [
            "  R E D O C \n",
            "    E D O C \n",
            "      D O C \n",
            "        O C \n",
            "          C \n"
          ]
        }
      ]
    },
    {
      "cell_type": "code",
      "source": [
        "def square(n):\n",
        "  for i in range(n):\n",
        "    for j in range(n):\n",
        "      print(\"*\",end=\" \")\n",
        "    print()\n",
        "square(5)"
      ],
      "metadata": {
        "colab": {
          "base_uri": "https://localhost:8080/"
        },
        "id": "E8Nd99eda-XO",
        "outputId": "297080f5-b68b-4dd2-d2fc-a7eebc67c35d"
      },
      "execution_count": null,
      "outputs": [
        {
          "output_type": "stream",
          "name": "stdout",
          "text": [
            "* * * * * \n",
            "* * * * * \n",
            "* * * * * \n",
            "* * * * * \n",
            "* * * * * \n"
          ]
        }
      ]
    },
    {
      "cell_type": "code",
      "source": [
        "def square(n):\n",
        "  for i in range(n):\n",
        "    for j in range(n):\n",
        "      if j==0 or j==n-1:\n",
        "        print(\"*\",end=\" \")\n",
        "      else:\n",
        "        print(\" \",end=\" \")\n",
        "    print()\n",
        "square(5)"
      ],
      "metadata": {
        "id": "R0Nw4rr2dDu5",
        "outputId": "a2226e8f-b87e-4466-daf1-bd61095473ae",
        "colab": {
          "base_uri": "https://localhost:8080/"
        }
      },
      "execution_count": null,
      "outputs": [
        {
          "output_type": "stream",
          "name": "stdout",
          "text": [
            "*       * \n",
            "*       * \n",
            "*       * \n",
            "*       * \n",
            "*       * \n"
          ]
        }
      ]
    },
    {
      "cell_type": "code",
      "source": [
        "def plus(n):\n",
        "  for i in range(n):\n",
        "    for j in range(n):\n",
        "      if i==n//2 or j==n//2:\n",
        "        print(\"*\",end=\" \")\n",
        "      else:\n",
        "        print(\" \",end=\" \")\n",
        "    print()\n",
        "plus(5)"
      ],
      "metadata": {
        "id": "NiRWmZqMi35F",
        "outputId": "fe40af8f-739e-4173-9378-c4a5d5dd9a4d",
        "colab": {
          "base_uri": "https://localhost:8080/"
        }
      },
      "execution_count": null,
      "outputs": [
        {
          "output_type": "stream",
          "name": "stdout",
          "text": [
            "    *     \n",
            "    *     \n",
            "* * * * * \n",
            "    *     \n",
            "    *     \n"
          ]
        }
      ]
    },
    {
      "cell_type": "code",
      "source": [
        "def square(n):\n",
        "  for i in range(n):\n",
        "    for j in range(n):\n",
        "      if i==j or i+j==n-1:\n",
        "        print(\"*\",end=\" \")\n",
        "      else:\n",
        "        print(\" \",end=\" \")\n",
        "    print()\n",
        "square(5)"
      ],
      "metadata": {
        "id": "4j1AO78_jWpR",
        "outputId": "f97c7863-11d2-4ce1-c972-c42e7aed7475",
        "colab": {
          "base_uri": "https://localhost:8080/"
        }
      },
      "execution_count": null,
      "outputs": [
        {
          "output_type": "stream",
          "name": "stdout",
          "text": [
            "*       * \n",
            "  *   *   \n",
            "    *     \n",
            "  *   *   \n",
            "*       * \n"
          ]
        }
      ]
    },
    {
      "cell_type": "code",
      "source": [
        "def square(n):\n",
        "  for i in range(n):\n",
        "    for j in range(n):\n",
        "      if i==0 or i==n-1 or j==0 or j==n-1:\n",
        "        print(\"*\",end=\" \")\n",
        "      else:\n",
        "        print(\" \",end=\" \")\n",
        "    print()\n",
        "square(5)"
      ],
      "metadata": {
        "id": "79GhDMGPjnUm",
        "outputId": "44018fa8-3ccf-468d-87a2-0e48b1f87925",
        "colab": {
          "base_uri": "https://localhost:8080/"
        }
      },
      "execution_count": null,
      "outputs": [
        {
          "output_type": "stream",
          "name": "stdout",
          "text": [
            "* * * * * \n",
            "*       * \n",
            "*       * \n",
            "*       * \n",
            "* * * * * \n"
          ]
        }
      ]
    },
    {
      "cell_type": "code",
      "source": [
        "def square(n):\n",
        "  for i in range(n):\n",
        "    for j in range(n):\n",
        "      if j==0 or i==n-1 or i==j:\n",
        "        print(\"*\",end=\" \")\n",
        "      else:\n",
        "        print(\" \",end=\" \")\n",
        "    print()\n",
        "square(5)"
      ],
      "metadata": {
        "id": "xo_ir64UkL5e",
        "outputId": "ee6c755a-1612-4c9f-b29c-6586d82e2157",
        "colab": {
          "base_uri": "https://localhost:8080/"
        }
      },
      "execution_count": null,
      "outputs": [
        {
          "output_type": "stream",
          "name": "stdout",
          "text": [
            "*         \n",
            "* *       \n",
            "*   *     \n",
            "*     *   \n",
            "* * * * * \n"
          ]
        }
      ]
    },
    {
      "cell_type": "code",
      "source": [
        "def square(n):\n",
        "  for i in range(n):\n",
        "    for j in range(n):\n",
        "      if i==0 or j==0 or i+j==n-1:\n",
        "        print(\"*\",end=\" \")\n",
        "      else:\n",
        "        print(\" \",end=\" \")\n",
        "    print()\n",
        "square(5)"
      ],
      "metadata": {
        "id": "j7xwjYIHks2D",
        "outputId": "827f91b6-80e3-4cf0-97c4-898ced6fbc73",
        "colab": {
          "base_uri": "https://localhost:8080/"
        }
      },
      "execution_count": null,
      "outputs": [
        {
          "output_type": "stream",
          "name": "stdout",
          "text": [
            "* * * * * \n",
            "*     *   \n",
            "*   *     \n",
            "* *       \n",
            "*         \n"
          ]
        }
      ]
    },
    {
      "cell_type": "code",
      "source": [
        "def triangle(n):\n",
        "  for i in range(n):\n",
        "    for j in range(i,n):\n",
        "      print(\" \",end=\" \")\n",
        "    for j in range(i):\n",
        "      if j==0 or i==n-1:\n",
        "        print(\"*\",end=\" \")\n",
        "      else:\n",
        "        print(\" \",end=\" \")\n",
        "    for j in range(i+1):\n",
        "      if i==j or i==n-1:\n",
        "        print(\"*\",end=\" \")\n",
        "      else:\n",
        "        print(\" \",end=\" \")\n",
        "    print()\n",
        "triangle(5)"
      ],
      "metadata": {
        "id": "uP_f5U2unLQg",
        "outputId": "9ee3af9f-ee56-4724-c912-11cf0dd54bd4",
        "colab": {
          "base_uri": "https://localhost:8080/"
        }
      },
      "execution_count": null,
      "outputs": [
        {
          "output_type": "stream",
          "name": "stdout",
          "text": [
            "          * \n",
            "        *   * \n",
            "      *       * \n",
            "    *           * \n",
            "  * * * * * * * * * \n"
          ]
        }
      ]
    },
    {
      "cell_type": "code",
      "source": [
        "def diamond(n):\n",
        "  for i in range(n-1):\n",
        "    for j in range(i,n-1):\n",
        "      print(\" \",end=\" \")\n",
        "    for j in range(i):\n",
        "      if j==0:\n",
        "        print(\"*\",end=\" \")\n",
        "      else:\n",
        "        print(\" \",end=\" \")\n",
        "    for j in range(i+1):\n",
        "      if i==j:\n",
        "        print(\"*\",end=\" \")\n",
        "      else:\n",
        "        print(\" \",end=\" \")\n",
        "    print()\n",
        "  for i in range(n):\n",
        "    for j in range(i):\n",
        "      print(\" \",end=\" \")\n",
        "    for j in range(i,n):\n",
        "      if j==i:\n",
        "        print(\"*\",end=\" \")\n",
        "      else:\n",
        "        print(\" \",end=\" \")\n",
        "    for j in range(i,n-1):\n",
        "      if j==n-2:\n",
        "        print(\"*\",end=\" \")\n",
        "      else:\n",
        "        print(\" \",end=\" \")\n",
        "    print()\n",
        "diamond(6)\n"
      ],
      "metadata": {
        "colab": {
          "base_uri": "https://localhost:8080/"
        },
        "id": "q4PAnyJmE0II",
        "outputId": "6699af44-71ce-4c75-f3ca-097eef00b3a8"
      },
      "execution_count": null,
      "outputs": [
        {
          "output_type": "stream",
          "name": "stdout",
          "text": [
            "          * \n",
            "        *   * \n",
            "      *       * \n",
            "    *           * \n",
            "  *               * \n",
            "*                   * \n",
            "  *               * \n",
            "    *           * \n",
            "      *       * \n",
            "        *   * \n",
            "          * \n"
          ]
        }
      ]
    },
    {
      "cell_type": "code",
      "source": [
        "num=int(input(\"Enter a number:\"))\n",
        "str1=str(num)\n",
        "if str1==str1[::-1]:\n",
        "  print(\"palindrome\")\n",
        "else:\n",
        "  print(\"not a palindrome\")"
      ],
      "metadata": {
        "colab": {
          "base_uri": "https://localhost:8080/"
        },
        "id": "ItmC1BK9Kope",
        "outputId": "8db125fd-45b3-45d1-9266-218d05797fc4"
      },
      "execution_count": null,
      "outputs": [
        {
          "output_type": "stream",
          "name": "stdout",
          "text": [
            "Enter a number:123\n",
            "not a palindrome\n"
          ]
        }
      ]
    },
    {
      "cell_type": "markdown",
      "source": [
        "spy number"
      ],
      "metadata": {
        "id": "vHv0flC2OiAq"
      }
    },
    {
      "cell_type": "code",
      "source": [
        "num = int(input(\"Enter a number: \"))\n",
        "sum_digits = 0\n",
        "prod_digits = 1\n",
        "\n",
        "for digit in str(num):\n",
        "    sum_digits += int(digit)\n",
        "    prod_digits *= int(digit)\n",
        "\n",
        "if sum_digits == prod_digits:\n",
        "    print(num, \"is a Spy Number\")\n",
        "else:\n",
        "    print(num, \"is not a Spy Number\")"
      ],
      "metadata": {
        "colab": {
          "base_uri": "https://localhost:8080/"
        },
        "id": "NzSf-2JhOVMu",
        "outputId": "12847d84-4c25-4590-c05c-d5bc1586aced"
      },
      "execution_count": null,
      "outputs": [
        {
          "output_type": "stream",
          "name": "stdout",
          "text": [
            "Enter a number: 123\n",
            "123 is a Spy Number\n"
          ]
        }
      ]
    },
    {
      "cell_type": "markdown",
      "source": [
        "special number"
      ],
      "metadata": {
        "id": "rGCdwFmZOji0"
      }
    },
    {
      "cell_type": "code",
      "source": [
        "num = int(input(\"Enter a number: \"))\n",
        "sum_digits = 0\n",
        "prod_digits = 1\n",
        "\n",
        "for digit in str(num):\n",
        "    sum_digits += int(digit)\n",
        "    prod_digits *= int(digit)\n",
        "\n",
        "if (sum_digits+prod_digits)==num:\n",
        "    print(num, \"is a Special Number\")\n",
        "else:\n",
        "    print(num, \"is not a Special Number\")"
      ],
      "metadata": {
        "colab": {
          "base_uri": "https://localhost:8080/"
        },
        "id": "y38TrkP7Olvo",
        "outputId": "6f4d9f11-b898-40bd-c86b-49e4d89e3ffc"
      },
      "execution_count": null,
      "outputs": [
        {
          "output_type": "stream",
          "name": "stdout",
          "text": [
            "Enter a number: 59\n",
            "59 is a Special Number\n"
          ]
        }
      ]
    },
    {
      "cell_type": "code",
      "source": [
        "harshhad number"
      ],
      "metadata": {
        "id": "zSOwIjBCPxgB"
      },
      "execution_count": null,
      "outputs": []
    },
    {
      "cell_type": "code",
      "source": [
        "num=int(input(\"enter a number\"))\n",
        "sum_of=0\n",
        "for i in  str(num):\n",
        "  sum_of+=int(i)\n",
        "if (num%sum_of)==0:\n",
        "  print(num,\"is a harshad number\")\n",
        "else:\n",
        "  print(num,\"is not a harshad number\")"
      ],
      "metadata": {
        "colab": {
          "base_uri": "https://localhost:8080/"
        },
        "id": "atIa3OC-P0Bg",
        "outputId": "acd56e48-3544-4842-9636-7f6dc1823cc8"
      },
      "execution_count": null,
      "outputs": [
        {
          "output_type": "stream",
          "name": "stdout",
          "text": [
            "enter a number18\n",
            "18 is a harshad number\n"
          ]
        }
      ]
    },
    {
      "cell_type": "markdown",
      "source": [
        "duck number"
      ],
      "metadata": {
        "id": "1C_XwlMLRa7X"
      }
    },
    {
      "cell_type": "code",
      "source": [
        "num = input(\"Enter a number: \")\n",
        "if num[0] == '0':\n",
        "    print(num, \"is not a Duck number\")\n",
        "else:\n",
        "    count_zeros = num.count('0')\n",
        "    if count_zeros > 0:\n",
        "        print(num, \"is a Duck number with\", count_zeros, \"zero(s)\")\n",
        "    else:\n",
        "        print(num, \"is not a Duck number\")\n"
      ],
      "metadata": {
        "colab": {
          "base_uri": "https://localhost:8080/"
        },
        "id": "uKB7zYv9Rct2",
        "outputId": "da235f2a-d818-42d5-d453-88e451b87025"
      },
      "execution_count": null,
      "outputs": [
        {
          "output_type": "stream",
          "name": "stdout",
          "text": [
            "Enter a number: 1230000\n",
            "1230000 is a Duck number with 4 zero(s)\n"
          ]
        }
      ]
    },
    {
      "cell_type": "markdown",
      "source": [
        "Neon Number"
      ],
      "metadata": {
        "id": "XdZ5yEAPSvm9"
      }
    },
    {
      "cell_type": "code",
      "source": [
        "num = int(input(\"Enter a number: \"))\n",
        "square = num * num\n",
        "sum_digits = sum(int(digit) for digit in str(square))\n",
        "\n",
        "if sum_digits == num:\n",
        "    print(num, \"is a Neon Number\")\n",
        "else:\n",
        "    print(num, \"is not a Neon Number\")"
      ],
      "metadata": {
        "colab": {
          "base_uri": "https://localhost:8080/"
        },
        "id": "b_ZCRQbHSvNy",
        "outputId": "32f99fa1-fe72-482f-b96c-ecc6526c0acf"
      },
      "execution_count": null,
      "outputs": [
        {
          "output_type": "stream",
          "name": "stdout",
          "text": [
            "Enter a number: 9\n",
            "9 is a Neon Number\n"
          ]
        }
      ]
    },
    {
      "cell_type": "code",
      "source": [
        "Automorphic number"
      ],
      "metadata": {
        "id": "u7NfVvcnTtyx"
      },
      "execution_count": null,
      "outputs": []
    },
    {
      "cell_type": "code",
      "source": [
        "num = int(input(\"Enter a number: \"))\n",
        "square = num * num\n",
        "if str(square).endswith(str(num)):\n",
        "    print(num, \"is an Automorphic Number\")\n",
        "else:\n",
        "    print(num, \"is not an Automorphic Number\")"
      ],
      "metadata": {
        "colab": {
          "base_uri": "https://localhost:8080/"
        },
        "id": "TxG-FEHjTwTx",
        "outputId": "e5f4288a-401f-4e83-97cc-a97ce7eef0d0"
      },
      "execution_count": null,
      "outputs": [
        {
          "output_type": "stream",
          "name": "stdout",
          "text": [
            "Enter a number: 25\n",
            "25 is an Automorphic Number\n"
          ]
        }
      ]
    },
    {
      "cell_type": "markdown",
      "source": [
        "krishna murthy special number or strong number"
      ],
      "metadata": {
        "id": "ytqICslAZl2_"
      }
    },
    {
      "cell_type": "code",
      "source": [
        "import math\n",
        "num = int(input(\"Enter a number: \"))\n",
        "temp = num\n",
        "sum_fact = 0\n",
        "while temp > 0:\n",
        "    digit = temp % 10\n",
        "    sum_fact += math.factorial(digit)\n",
        "    temp //= 10\n",
        "\n",
        "if sum_fact == num:\n",
        "    print(num, \"is a Krishnamurthy Number\")\n",
        "else:\n",
        "    print(num, \"is not a Krishnamurthy Number\")\n"
      ],
      "metadata": {
        "colab": {
          "base_uri": "https://localhost:8080/"
        },
        "id": "_fCH8trxZWGo",
        "outputId": "b5c526b0-7315-4fc8-f7a2-04868c2114f2"
      },
      "execution_count": null,
      "outputs": [
        {
          "output_type": "stream",
          "name": "stdout",
          "text": [
            "Enter a number: 145\n",
            "145 is a Krishnamurthy Number\n"
          ]
        }
      ]
    },
    {
      "cell_type": "code",
      "source": [
        "Factors of a number"
      ],
      "metadata": {
        "id": "bPpAl3wyaJaJ"
      },
      "execution_count": null,
      "outputs": []
    },
    {
      "cell_type": "code",
      "source": [
        "n=int(input(\"Enter a number:\"))\n",
        "for i in range(1,n+1):\n",
        "  if n%i==0:\n",
        "    print(i,end=\" \")"
      ],
      "metadata": {
        "colab": {
          "base_uri": "https://localhost:8080/"
        },
        "id": "D48b7l48aMM_",
        "outputId": "dd0fc29b-3d7c-41bd-bd48-a2fd553e449d"
      },
      "execution_count": null,
      "outputs": [
        {
          "output_type": "stream",
          "name": "stdout",
          "text": [
            "Enter a number:22\n",
            "1 2 11 22 "
          ]
        }
      ]
    },
    {
      "cell_type": "markdown",
      "source": [
        "perfect number"
      ],
      "metadata": {
        "id": "dOi9DRrrdMkZ"
      }
    },
    {
      "cell_type": "code",
      "source": [
        "num = int(input(\"Enter a number: \"))\n",
        "sum_div = 0\n",
        "for i in range(1, num):\n",
        "    if num % i == 0:\n",
        "        sum_div += i\n",
        "if sum_div == num:\n",
        "    print(num, \"is a Perfect Number\")\n",
        "else:\n",
        "    print(num, \"is not a Perfect Number\")"
      ],
      "metadata": {
        "id": "tt1LZKsDdOcZ"
      },
      "execution_count": null,
      "outputs": []
    },
    {
      "cell_type": "markdown",
      "source": [
        "abundant or deficient"
      ],
      "metadata": {
        "id": "jlKQjg_HeU-L"
      }
    },
    {
      "cell_type": "code",
      "source": [
        "num = int(input(\"Enter a number: \"))\n",
        "sum_div = 0\n",
        "for i in range(1, num):\n",
        "    if num % i == 0:\n",
        "        sum_div += i\n",
        "if sum_div > num:\n",
        "    print(num, \"is an Abundant Number\")\n",
        "if sum_div < num:\n",
        "    print(num, \"is a Deficient Number\")\n",
        "num = int(input(\"Enter a number: \"))\n",
        "sum_div = 0\n",
        "for i in range(1, num):\n",
        "    if num % i == 0:\n",
        "        sum_div += i\n",
        "if sum_div > num:\n",
        "    print(num, \"is an Abundant Number\")\n",
        "if sum_div < num:\n",
        "    print(num, \"is a Deficient Number\")\n",
        "\n"
      ],
      "metadata": {
        "colab": {
          "base_uri": "https://localhost:8080/"
        },
        "id": "SUSsxQBQeUbU",
        "outputId": "8dc3845c-6d38-4d00-8ee0-84d0802a5541"
      },
      "execution_count": null,
      "outputs": [
        {
          "output_type": "stream",
          "name": "stdout",
          "text": [
            "Enter a number: 12\n",
            "12 is an Abundant Number\n",
            "Enter a number: 8\n",
            "8 is a Deficient Number\n"
          ]
        }
      ]
    },
    {
      "cell_type": "markdown",
      "source": [
        "pronic number"
      ],
      "metadata": {
        "id": "J02mUxBBho8f"
      }
    },
    {
      "cell_type": "code",
      "source": [
        "num=int(input(\"Enter a number:\"))\n",
        "x=int((num)**0.5)\n",
        "if x*(x+1)==num:\n",
        "  print(\"it si a pronic number\")\n",
        "else:\n",
        "  print(\"not a pronic number\")"
      ],
      "metadata": {
        "colab": {
          "base_uri": "https://localhost:8080/"
        },
        "id": "M7hCe0oThqeZ",
        "outputId": "90aba9be-6a78-4d9b-fa2c-cbbae1faf62c"
      },
      "execution_count": null,
      "outputs": [
        {
          "output_type": "stream",
          "name": "stdout",
          "text": [
            "Enter a number:56\n",
            "it si a pronic number\n"
          ]
        }
      ]
    },
    {
      "cell_type": "markdown",
      "source": [
        "sum of numbers"
      ],
      "metadata": {
        "id": "_nFa40IDimKn"
      }
    },
    {
      "cell_type": "code",
      "source": [
        "num=int(input(\"Enter a number:\"))\n",
        "sum_of=0\n",
        "for i in range(1,num+1):\n",
        "  sum_of+=i\n",
        "print(sum_of)"
      ],
      "metadata": {
        "colab": {
          "base_uri": "https://localhost:8080/"
        },
        "id": "eOgvyQapilf5",
        "outputId": "7fec4f86-ff12-48be-eb7f-097d02f365cb"
      },
      "execution_count": null,
      "outputs": [
        {
          "output_type": "stream",
          "name": "stdout",
          "text": [
            "Enter a number:20\n",
            "210\n"
          ]
        }
      ]
    },
    {
      "cell_type": "markdown",
      "source": [
        "9+13+17+........n"
      ],
      "metadata": {
        "id": "sfrjdRolj51f"
      }
    },
    {
      "cell_type": "code",
      "source": [
        "num=int(input(\"Enter a number:\"))\n",
        "sum_of=0\n",
        "a=9\n",
        "for i in range(1,num+1):\n",
        "  sum_of+=a\n",
        "  a+=4\n",
        "print(sum_of)"
      ],
      "metadata": {
        "colab": {
          "base_uri": "https://localhost:8080/"
        },
        "id": "fKUGTslKmYFp",
        "outputId": "a4d73f70-4d37-44a1-c6af-965556f0ae0e"
      },
      "execution_count": null,
      "outputs": [
        {
          "output_type": "stream",
          "name": "stdout",
          "text": [
            "Enter a number:20\n",
            "940\n"
          ]
        }
      ]
    },
    {
      "cell_type": "markdown",
      "source": [
        "2+4+6+8+...n"
      ],
      "metadata": {
        "id": "e5sYUQfPoBvP"
      }
    },
    {
      "cell_type": "code",
      "source": [
        "num=int(input(\"Enter a number:\"))\n",
        "sum_of=0\n",
        "a=2\n",
        "for i in range(1,num+1):\n",
        "  sum_of+=a\n",
        "  a+=2\n",
        "print(sum_of)"
      ],
      "metadata": {
        "colab": {
          "base_uri": "https://localhost:8080/"
        },
        "id": "6IilWySPoIYf",
        "outputId": "eb4b43cc-1473-4e73-dd01-80abe7574879"
      },
      "execution_count": null,
      "outputs": [
        {
          "output_type": "stream",
          "name": "stdout",
          "text": [
            "Enter a number:20\n",
            "420\n"
          ]
        }
      ]
    },
    {
      "cell_type": "code",
      "source": [
        "1+3+5+....."
      ],
      "metadata": {
        "id": "2PiEzpJFoT14"
      },
      "execution_count": null,
      "outputs": []
    },
    {
      "cell_type": "code",
      "source": [
        "num=int(input(\"Enter a number:\"))\n",
        "sum_of=0\n",
        "a=1\n",
        "for i in range(1,num+1):\n",
        "  sum_of+=a\n",
        "  a+=2\n",
        "print(sum_of)"
      ],
      "metadata": {
        "colab": {
          "base_uri": "https://localhost:8080/"
        },
        "id": "__OZoF7coWaT",
        "outputId": "80e87f9f-4c0e-40be-b6a3-1a4de2e27cfc"
      },
      "execution_count": null,
      "outputs": [
        {
          "output_type": "stream",
          "name": "stdout",
          "text": [
            "Enter a number:20\n",
            "400\n"
          ]
        }
      ]
    },
    {
      "cell_type": "markdown",
      "source": [
        "10+9+8..."
      ],
      "metadata": {
        "id": "oXmjwsQaofl0"
      }
    },
    {
      "cell_type": "code",
      "source": [
        "num=int(input(\"Enter a number:\"))\n",
        "sum_of=0\n",
        "a=10\n",
        "for i in range(1,num+1):\n",
        "  sum_of+=a\n",
        "  a+=-1\n",
        "print(sum_of)"
      ],
      "metadata": {
        "colab": {
          "base_uri": "https://localhost:8080/"
        },
        "id": "VFYcS3HhoiJb",
        "outputId": "b2021703-2ca7-4f5c-feea-9c1f35f2bfee"
      },
      "execution_count": null,
      "outputs": [
        {
          "output_type": "stream",
          "name": "stdout",
          "text": [
            "Enter a number:10\n",
            "55\n"
          ]
        }
      ]
    },
    {
      "cell_type": "code",
      "source": [
        "x^1+x^2+...n"
      ],
      "metadata": {
        "id": "tXnhN9nbpC4V"
      },
      "execution_count": null,
      "outputs": []
    },
    {
      "cell_type": "code",
      "source": [
        "x = int(input(\"Enter x: \"))\n",
        "n = int(input(\"Enter n: \"))\n",
        "total = 0\n",
        "for i in range(1, n+1):\n",
        "    total += x**i\n",
        "print(\"Sum =\", total)\n"
      ],
      "metadata": {
        "colab": {
          "base_uri": "https://localhost:8080/"
        },
        "id": "csP1EgfVpGZk",
        "outputId": "9d329fb3-326c-4fb8-e900-4d138b71aded"
      },
      "execution_count": null,
      "outputs": [
        {
          "output_type": "stream",
          "name": "stdout",
          "text": [
            "Enter x: 10\n",
            "Enter n: 3\n",
            "Sum = 1110\n"
          ]
        }
      ]
    },
    {
      "cell_type": "markdown",
      "source": [
        "9!/x + 13!/x + 17!/x + ... N"
      ],
      "metadata": {
        "id": "PGFdVYbGrHgp"
      }
    },
    {
      "cell_type": "code",
      "source": [
        "from math import factorial\n",
        "\n",
        "N = int(input(\"Enter N: \"))\n",
        "X = int(input(\"Enter X: \"))\n",
        "\n",
        "sum_series = 0\n",
        "a = 9\n",
        "\n",
        "for i in range(1, N + 1):\n",
        "    sum_series += factorial(a) / X\n",
        "    a += 4\n",
        "\n",
        "print(\"Sum of series:\", sum_series)\n"
      ],
      "metadata": {
        "colab": {
          "base_uri": "https://localhost:8080/"
        },
        "id": "Nc2qdRoDrKKJ",
        "outputId": "cc66718e-2bb0-44e8-b83d-256c2bdeb538"
      },
      "execution_count": null,
      "outputs": [
        {
          "output_type": "stream",
          "name": "stdout",
          "text": [
            "Enter N: 10\n",
            "Enter X: 2\n",
            "Sum of series: 5.981112715901029e+55\n"
          ]
        }
      ]
    },
    {
      "cell_type": "markdown",
      "source": [
        "1³/x + 3³/x + 5³/x + 7³/x + ... N"
      ],
      "metadata": {
        "id": "1JinnXBwrYKu"
      }
    },
    {
      "cell_type": "code",
      "source": [
        "N = int(input(\"Enter N: \"))\n",
        "X = int(input(\"Enter X: \"))\n",
        "\n",
        "sum_series = 0\n",
        "a = 1\n",
        "\n",
        "for i in range(1, N + 1):\n",
        "    sum_series += (a ** 3) / X\n",
        "    a += 2\n",
        "\n",
        "print(\"Sum of series:\", sum_series)\n"
      ],
      "metadata": {
        "colab": {
          "base_uri": "https://localhost:8080/"
        },
        "id": "uZB41AvJrYyu",
        "outputId": "f6c50ecb-cb29-4281-88ec-050d977bca70"
      },
      "execution_count": null,
      "outputs": [
        {
          "output_type": "stream",
          "name": "stdout",
          "text": [
            "Enter N: 20\n",
            "Enter X: 2\n",
            "Sum of series: 159800.0\n"
          ]
        }
      ]
    },
    {
      "cell_type": "markdown",
      "source": [
        "Series: 2 + 6 + 18 + 54 + ... N"
      ],
      "metadata": {
        "id": "LitbS43KrvcH"
      }
    },
    {
      "cell_type": "code",
      "source": [
        "N = int(input(\"Enter N: \"))\n",
        "\n",
        "sum_series = 0\n",
        "a = 2\n",
        "\n",
        "for i in range(1, N + 1):\n",
        "    sum_series += a\n",
        "    a = a * 3\n",
        "\n",
        "print(\"Sum of series:\", sum_series)\n"
      ],
      "metadata": {
        "colab": {
          "base_uri": "https://localhost:8080/"
        },
        "id": "yZ_pHfeNrwOP",
        "outputId": "ff325741-f80a-400a-cb6b-27dde9df8992"
      },
      "execution_count": null,
      "outputs": [
        {
          "output_type": "stream",
          "name": "stdout",
          "text": [
            "Enter N: 20\n",
            "Sum of series: 3486784400\n"
          ]
        }
      ]
    },
    {
      "cell_type": "markdown",
      "source": [
        "2 + 4 + 8 + 16 + ... N"
      ],
      "metadata": {
        "id": "plfwVtfgsAs3"
      }
    },
    {
      "cell_type": "code",
      "source": [
        "N = int(input(\"Enter N: \"))\n",
        "\n",
        "sum_series = 0\n",
        "a = 2\n",
        "\n",
        "for i in range(1, N + 1):\n",
        "    sum_series += a*2\n",
        "    a = a * 2\n",
        "\n",
        "print(\"Sum of series:\", sum_series)\n"
      ],
      "metadata": {
        "colab": {
          "base_uri": "https://localhost:8080/"
        },
        "id": "H8XHZejnsE8r",
        "outputId": "ece70045-9bd4-48a2-f1af-256953399f27"
      },
      "execution_count": null,
      "outputs": [
        {
          "output_type": "stream",
          "name": "stdout",
          "text": [
            "Enter N: 20\n",
            "Sum of series: 4194300\n"
          ]
        }
      ]
    },
    {
      "cell_type": "markdown",
      "source": [
        "2^x+4^x+8^x"
      ],
      "metadata": {
        "id": "ERlSWOyHsntY"
      }
    },
    {
      "cell_type": "markdown",
      "source": [],
      "metadata": {
        "id": "voXldbaItMcy"
      }
    },
    {
      "cell_type": "code",
      "source": [
        "x = int(input(\"Enter x: \"))\n",
        "n = int(input(\"Enter n: \"))\n",
        "sum = 0\n",
        "a=2\n",
        "for i in range(1, n+1):\n",
        "    sum =sum+ a**x\n",
        "    a+=2\n",
        "print(\"Sum =\", sum)"
      ],
      "metadata": {
        "colab": {
          "base_uri": "https://localhost:8080/"
        },
        "id": "8iNUuvFwsz-Q",
        "outputId": "7198ee3e-8858-4bd5-bfdb-72b03b91ab76"
      },
      "execution_count": null,
      "outputs": [
        {
          "output_type": "stream",
          "name": "stdout",
          "text": [
            "Enter x: 2\n",
            "Enter n: 20\n",
            "Sum = 11480\n"
          ]
        }
      ]
    },
    {
      "cell_type": "markdown",
      "source": [
        "oops concepts"
      ],
      "metadata": {
        "id": "brThhw9See09"
      }
    },
    {
      "cell_type": "code",
      "source": [
        "class MyClass:\n",
        "  x = 5\n",
        "p1 = MyClass()\n",
        "print(p1.x)"
      ],
      "metadata": {
        "colab": {
          "base_uri": "https://localhost:8080/"
        },
        "id": "FRg3p8cbegkA",
        "outputId": "888c0cc0-f9d7-4382-9780-c42fd4e22d9d"
      },
      "execution_count": 2,
      "outputs": [
        {
          "output_type": "stream",
          "name": "stdout",
          "text": [
            "5\n"
          ]
        }
      ]
    },
    {
      "cell_type": "markdown",
      "source": [
        "The __init__() Method"
      ],
      "metadata": {
        "id": "WQ1mwVTBez7a"
      }
    },
    {
      "cell_type": "code",
      "source": [
        "class Person:\n",
        "  def __init__(self, name, age):\n",
        "    self.name = name\n",
        "    self.age = age\n",
        "p1 = Person(\"John\", 36)\n",
        "print(p1.name)\n",
        "print(p1.age)"
      ],
      "metadata": {
        "colab": {
          "base_uri": "https://localhost:8080/"
        },
        "id": "9xwS2TwXe09z",
        "outputId": "d0348664-3796-457e-d2db-688acea8772f"
      },
      "execution_count": 3,
      "outputs": [
        {
          "output_type": "stream",
          "name": "stdout",
          "text": [
            "John\n",
            "36\n"
          ]
        }
      ]
    },
    {
      "cell_type": "markdown",
      "source": [
        "The __str__() Method"
      ],
      "metadata": {
        "id": "CTnoQ9VEpLC5"
      }
    },
    {
      "cell_type": "code",
      "source": [
        "class Person:\n",
        "  def __init__(self, name, age):\n",
        "    self.name = name\n",
        "    self.age = age\n",
        "\n",
        "  def __str__(self):\n",
        "    return f\"{self.name}({self.age})\"\n",
        "\n",
        "p1 = Person(\"John\", 36)\n",
        "\n",
        "print(p1)"
      ],
      "metadata": {
        "colab": {
          "base_uri": "https://localhost:8080/"
        },
        "id": "nNHl5gKHq-z2",
        "outputId": "68de7f66-4ac7-40c5-c79d-ddeb073c959e"
      },
      "execution_count": 4,
      "outputs": [
        {
          "output_type": "stream",
          "name": "stdout",
          "text": [
            "John(36)\n"
          ]
        }
      ]
    },
    {
      "cell_type": "markdown",
      "source": [
        "The self Parameter"
      ],
      "metadata": {
        "id": "oq86SIOntvVy"
      }
    },
    {
      "cell_type": "code",
      "source": [
        "class Person:\n",
        "  def __init__(mysillyobject, name, age):\n",
        "    mysillyobject.name = name\n",
        "    mysillyobject.age = age\n",
        "  def myfunc(abc):\n",
        "    print(\"Hello my name is \" + abc.name)\n",
        "p1 = Person(\"John\", 36)\n",
        "p1.myfunc()"
      ],
      "metadata": {
        "colab": {
          "base_uri": "https://localhost:8080/"
        },
        "id": "eRRTn8I7uDnv",
        "outputId": "42e07e2a-6bdc-40a8-fbc0-d92d11523617"
      },
      "execution_count": 8,
      "outputs": [
        {
          "output_type": "stream",
          "name": "stdout",
          "text": [
            "Hello my name is John\n"
          ]
        }
      ]
    },
    {
      "cell_type": "code",
      "source": [
        "#Modify Object Properties\n",
        "p1.age = 40\n",
        "#Delete Object Properties\n",
        "del p1.age\n",
        "#Delete Objects\n",
        "del p1"
      ],
      "metadata": {
        "id": "UbRMABpvuzmn"
      },
      "execution_count": 13,
      "outputs": []
    },
    {
      "cell_type": "code",
      "source": [
        "#The pass Statement\n",
        "class Person:\n",
        "  pass"
      ],
      "metadata": {
        "id": "i2dotQglvbq6"
      },
      "execution_count": 14,
      "outputs": []
    },
    {
      "cell_type": "code",
      "source": [
        "#Abstraction\n",
        "from abc import ABC, abstractmethod\n",
        "\n",
        "# Abstract class\n",
        "class Payment(ABC):\n",
        "    @abstractmethod\n",
        "    def pay(self, amount):\n",
        "        pass\n",
        "class CreditCardPayment(Payment):\n",
        "    def pay(self, amount):\n",
        "        print(f\"Paid ₹{amount} using Credit Card.\")\n",
        "class UpiPayment(Payment):\n",
        "    def pay(self, amount):\n",
        "        print(f\"Paid ₹{amount} using UPI.\")\n",
        "class CashPayment(Payment):\n",
        "    def pay(self, amount):\n",
        "        print(f\"Paid ₹{amount} in Cash.\")\n",
        "p1 = CreditCardPayment()\n",
        "p2 = UpiPayment()\n",
        "p3 = CashPayment()\n",
        "\n",
        "p1.pay(1000)\n",
        "p2.pay(500)\n",
        "p3.pay(200)\n"
      ],
      "metadata": {
        "colab": {
          "base_uri": "https://localhost:8080/"
        },
        "id": "QSBO6IW8vg6K",
        "outputId": "10d6694d-74d8-416c-ea4d-e725793af37f"
      },
      "execution_count": 15,
      "outputs": [
        {
          "output_type": "stream",
          "name": "stdout",
          "text": [
            "Paid ₹1000 using Credit Card.\n",
            "Paid ₹500 using UPI.\n",
            "Paid ₹200 in Cash.\n"
          ]
        }
      ]
    },
    {
      "cell_type": "markdown",
      "source": [
        "Class variable"
      ],
      "metadata": {
        "id": "FwomI6vCyYQS"
      }
    },
    {
      "cell_type": "code",
      "source": [
        "class Student:\n",
        "    college_name = \"Narayana Engineering College\"\n",
        "    def __init__(self, name, roll_no):\n",
        "        self.name = name\n",
        "        self.roll_no = roll_no\n",
        "s1 = Student(\"Madhuri\", 101)\n",
        "s2 = Student(\"Anjali\", 102)\n",
        "\n",
        "print(s1.college_name)\n",
        "print(s2.college_name)\n",
        "Student.college_name = \"NEC Gudur\"\n",
        "\n",
        "print(s1.college_name)\n",
        "print(s2.college_name)\n"
      ],
      "metadata": {
        "id": "8eqFhW7nybkY",
        "outputId": "6c5b608f-bd35-4047-f86b-05682a0b7637",
        "colab": {
          "base_uri": "https://localhost:8080/"
        }
      },
      "execution_count": 16,
      "outputs": [
        {
          "output_type": "stream",
          "name": "stdout",
          "text": [
            "Narayana Engineering College\n",
            "Narayana Engineering College\n",
            "NEC Gudur\n",
            "NEC Gudur\n"
          ]
        }
      ]
    },
    {
      "cell_type": "code",
      "source": [
        "class Student:\n",
        "    # Class variable\n",
        "    college_name = \"Narayana Engineering College\"\n",
        "\n",
        "    def __init__(self, name, marks):\n",
        "        # Instance variables\n",
        "        self.name = name\n",
        "        self.marks = marks\n",
        "\n",
        "    # 1Instance Method\n",
        "    def display_info(self):\n",
        "        print(f\"Name: {self.name}, Marks: {self.marks}\")\n",
        "\n",
        "    # Class Method\n",
        "    @classmethod\n",
        "    def change_college(cls, new_name):\n",
        "        cls.college_name = new_name\n",
        "        print(f\"College name changed to {cls.college_name}\")\n",
        "\n",
        "    # Static Method\n",
        "    @staticmethod\n",
        "    def is_passed(marks):\n",
        "        return marks >= 40\n",
        "\n",
        "\n",
        "# Create objects\n",
        "s1 = Student(\"Madhuri\", 85)\n",
        "s2 = Student(\"Anjali\", 35)\n",
        "\n",
        "# Call instance method\n",
        "s1.display_info()\n",
        "\n",
        "# Call class method\n",
        "Student.change_college(\"NEC Gudur\")\n",
        "\n",
        "# Call static method\n",
        "print(Student.is_passed(85))\n",
        "print(Student.is_passed(35))\n"
      ],
      "metadata": {
        "id": "z7rT_4rYy4Do",
        "outputId": "8b7e228c-7a36-4a57-ce06-a787862c62f9",
        "colab": {
          "base_uri": "https://localhost:8080/"
        }
      },
      "execution_count": 17,
      "outputs": [
        {
          "output_type": "stream",
          "name": "stdout",
          "text": [
            "Name: Madhuri, Marks: 85\n",
            "College name changed to NEC Gudur\n",
            "True\n",
            "False\n"
          ]
        }
      ]
    }
  ]
}