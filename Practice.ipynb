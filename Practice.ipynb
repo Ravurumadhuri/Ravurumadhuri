{
  "nbformat": 4,
  "nbformat_minor": 0,
  "metadata": {
    "colab": {
      "provenance": [],
      "authorship_tag": "ABX9TyMJ/iSMuT67Y0PFzSwunquX",
      "include_colab_link": true
    },
    "kernelspec": {
      "name": "python3",
      "display_name": "Python 3"
    },
    "language_info": {
      "name": "python"
    }
  },
  "cells": [
    {
      "cell_type": "markdown",
      "metadata": {
        "id": "view-in-github",
        "colab_type": "text"
      },
      "source": [
        "<a href=\"https://colab.research.google.com/github/Ravurumadhuri/Ravurumadhuri/blob/main/Practice.ipynb\" target=\"_parent\"><img src=\"https://colab.research.google.com/assets/colab-badge.svg\" alt=\"Open In Colab\"/></a>"
      ]
    },
    {
      "cell_type": "code",
      "execution_count": null,
      "metadata": {
        "id": "WVFYFbDuFxOc",
        "colab": {
          "base_uri": "https://localhost:8080/"
        },
        "outputId": "86867eeb-5761-45bf-84fe-9e9f74e899c1"
      },
      "outputs": [
        {
          "output_type": "execute_result",
          "data": {
            "text/plain": [
              "float"
            ]
          },
          "metadata": {},
          "execution_count": 2
        }
      ],
      "source": [
        "#data types\n",
        "num=1\n",
        "type(num)\n",
        "num=2.5\n",
        "type(num)"
      ]
    },
    {
      "cell_type": "code",
      "source": [],
      "metadata": {
        "id": "xpOsLKU_H4xe"
      },
      "execution_count": null,
      "outputs": []
    }
  ]
}