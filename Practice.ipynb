{
  "nbformat": 4,
  "nbformat_minor": 0,
  "metadata": {
    "colab": {
      "provenance": [],
      "authorship_tag": "ABX9TyPcIyvxL6IjHCEAJcWvilRO",
      "include_colab_link": true
    },
    "kernelspec": {
      "name": "python3",
      "display_name": "Python 3"
    },
    "language_info": {
      "name": "python"
    }
  },
  "cells": [
    {
      "cell_type": "markdown",
      "metadata": {
        "id": "view-in-github",
        "colab_type": "text"
      },
      "source": [
        "<a href=\"https://colab.research.google.com/github/Ravurumadhuri/Ravurumadhuri/blob/main/Practice.ipynb\" target=\"_parent\"><img src=\"https://colab.research.google.com/assets/colab-badge.svg\" alt=\"Open In Colab\"/></a>"
      ]
    },
    {
      "cell_type": "code",
      "source": [
        "#Data Types"
      ],
      "metadata": {
        "id": "i0yyqxcgLG97"
      },
      "execution_count": null,
      "outputs": []
    },
    {
      "cell_type": "code",
      "source": [
        "#int\n",
        "num=5\n",
        "print(type(num))\n",
        "#float\n",
        "num=0.5\n",
        "print(type(num))\n",
        "#string\n",
        "num=\" \"\n",
        "print(type(num))\n",
        "num=True\n",
        "print(type(num))\n",
        "num=\"String\"\n",
        "print(type(num))\n",
        "#list\n",
        "num=[1,2,3]\n",
        "print(type(num))\n",
        "#tuple\n",
        "num=(1,2,3)\n",
        "print(type(num))\n",
        "#set\n",
        "num={1,2,3}\n",
        "print(type(num))\n",
        "a=5.6\n",
        "b=int(a)\n",
        "print(type(b))\n",
        "b=5\n",
        "c=float(b)\n",
        "print(c)\n",
        "#complex\n",
        "k=6\n",
        "c=complex(b,k)\n",
        "print(c)\n",
        "print(type(c))\n",
        "#bool\n",
        "a=6>1\n",
        "print(a)\n",
        "print(type(a))\n",
        "a=7<1\n",
        "print(a)\n",
        "print(int(a))\n",
        "#range\n",
        "a=range(10)\n",
        "print(type(a))\n",
        "#dictionary"
      ],
      "metadata": {
        "colab": {
          "base_uri": "https://localhost:8080/"
        },
        "id": "WVXKA1MlLKya",
        "outputId": "b8ed2cf7-e009-432f-af32-74e98a1b0b59"
      },
      "execution_count": null,
      "outputs": [
        {
          "output_type": "stream",
          "name": "stdout",
          "text": [
            "<class 'int'>\n",
            "<class 'float'>\n",
            "<class 'str'>\n",
            "<class 'bool'>\n",
            "<class 'str'>\n",
            "<class 'list'>\n",
            "<class 'tuple'>\n",
            "<class 'set'>\n",
            "<class 'int'>\n",
            "5.0\n",
            "(5+6j)\n",
            "<class 'complex'>\n",
            "True\n",
            "<class 'bool'>\n",
            "False\n",
            "0\n",
            "<class 'range'>\n"
          ]
        }
      ]
    },
    {
      "cell_type": "code",
      "source": [
        "x = 1    # int\n",
        "y = 2.8  # float\n",
        "z = 1j   # complex\n",
        "\n",
        "#convert from int to float:\n",
        "a = float(x)\n",
        "\n",
        "#convert from float to int:\n",
        "b = int(y)\n",
        "\n",
        "#convert from int to complex:\n",
        "c = complex(x)\n",
        "\n",
        "print(a)\n",
        "print(b)\n",
        "print(c)\n",
        "\n",
        "print(type(a))\n",
        "print(type(b))\n",
        "print(type(c))\n",
        "import random\n",
        "\n",
        "print(random.randrange(1, 10))"
      ],
      "metadata": {
        "colab": {
          "base_uri": "https://localhost:8080/"
        },
        "id": "SrNJ-mBORr2z",
        "outputId": "c2bb69d2-6e39-4203-9b95-d7c688b4ead8"
      },
      "execution_count": null,
      "outputs": [
        {
          "output_type": "stream",
          "name": "stdout",
          "text": [
            "1.0\n",
            "2\n",
            "(1+0j)\n",
            "<class 'float'>\n",
            "<class 'int'>\n",
            "<class 'complex'>\n",
            "3\n"
          ]
        }
      ]
    },
    {
      "cell_type": "code",
      "source": [
        "#dictionary\n",
        "d={1:'apple',2:'banana',3:'mango'}\n",
        "print(type(d))\n",
        "print(d[1])\n",
        "print(d.values())\n",
        "print(d.keys())\n",
        "d.get(2)"
      ],
      "metadata": {
        "colab": {
          "base_uri": "https://localhost:8080/",
          "height": 109
        },
        "id": "d7LX-r1uLQtF",
        "outputId": "ce1b3ce8-b812-48d7-9bdc-3b6f3fee3894"
      },
      "execution_count": null,
      "outputs": [
        {
          "output_type": "stream",
          "name": "stdout",
          "text": [
            "<class 'dict'>\n",
            "apple\n",
            "dict_values(['apple', 'banana', 'mango'])\n",
            "dict_keys([1, 2, 3])\n"
          ]
        },
        {
          "output_type": "execute_result",
          "data": {
            "text/plain": [
              "'banana'"
            ],
            "application/vnd.google.colaboratory.intrinsic+json": {
              "type": "string"
            }
          },
          "metadata": {},
          "execution_count": 133
        }
      ]
    },
    {
      "cell_type": "code",
      "source": [
        "#TypeCasting"
      ],
      "metadata": {
        "id": "iOmfNFntSEpX"
      },
      "execution_count": null,
      "outputs": []
    },
    {
      "cell_type": "code",
      "source": [
        "#int\n",
        "x = print(int(1))\n",
        "y = print(int(5.6))\n",
        "z = print(int(\"3\"))"
      ],
      "metadata": {
        "colab": {
          "base_uri": "https://localhost:8080/"
        },
        "id": "PwvyGSQaSKkK",
        "outputId": "e4caed04-fd04-4c54-b4a9-fd5d76ee5b8e"
      },
      "execution_count": null,
      "outputs": [
        {
          "output_type": "stream",
          "name": "stdout",
          "text": [
            "1\n",
            "5\n",
            "3\n"
          ]
        }
      ]
    },
    {
      "cell_type": "code",
      "source": [
        "#float\n",
        "a=print(float(3))\n",
        "a=print(float(\"5\"))\n",
        "#string\n",
        "a=print(str(3.0))\n",
        "a=print(str(6))"
      ],
      "metadata": {
        "colab": {
          "base_uri": "https://localhost:8080/"
        },
        "id": "BbOM8ObnSjCk",
        "outputId": "f7d9fb64-89a4-47c0-9907-0096a21ce97c"
      },
      "execution_count": null,
      "outputs": [
        {
          "output_type": "stream",
          "name": "stdout",
          "text": [
            "3.0\n",
            "5.0\n",
            "3.0\n",
            "6\n"
          ]
        }
      ]
    },
    {
      "cell_type": "code",
      "source": [
        "#operators of Python"
      ],
      "metadata": {
        "id": "7Zy0XwfiTOIM"
      },
      "execution_count": null,
      "outputs": []
    },
    {
      "cell_type": "code",
      "source": [
        "#Arithemtic Operators(+,-,*,%,/,**,//)\n",
        "x=8\n",
        "y=4\n",
        "print(x+y)\n",
        "print(x-y)\n",
        "print(x*y)\n",
        "print(x%y)\n",
        "print(x/y)\n",
        "print(x**y)\n",
        "print(x//y)\n"
      ],
      "metadata": {
        "colab": {
          "base_uri": "https://localhost:8080/"
        },
        "id": "BTXkjBXUTTO5",
        "outputId": "6c8c169c-9671-4ef0-d3e0-026f9689ad4f"
      },
      "execution_count": null,
      "outputs": [
        {
          "output_type": "stream",
          "name": "stdout",
          "text": [
            "12\n",
            "4\n",
            "32\n",
            "0\n",
            "2.0\n",
            "4096\n",
            "2\n"
          ]
        }
      ]
    },
    {
      "cell_type": "code",
      "source": [
        "#Assignment Operators(=,+=,-=,*=,%=,/=,//=,**==,&=,|=,^=,>>=,<<==,:=)\n",
        "x=7\n",
        "print(x)\n",
        "x+=3\n",
        "print(x)\n",
        "x-=3\n",
        "print(x)\n",
        "x*=3\n",
        "print(x)\n",
        "x%=3\n",
        "print(x)\n",
        "x=7\n",
        "x/=3\n",
        "print(x)\n",
        "x=7\n",
        "x//=3\n",
        "print(x)\n",
        "x=7\n",
        "x**=3\n",
        "print(x)\n",
        "x=3\n",
        "x&=3\n",
        "print(x)\n",
        "x|=3\n",
        "print(x)\n",
        "x^=3\n",
        "print(x)\n",
        "x>>=3\n",
        "print(x)\n",
        "x<<=3\n",
        "print(x)\n",
        "\n"
      ],
      "metadata": {
        "colab": {
          "base_uri": "https://localhost:8080/"
        },
        "id": "IqiPRVQqUDo1",
        "outputId": "efb08080-df82-4d01-b618-038fa01792f3"
      },
      "execution_count": null,
      "outputs": [
        {
          "output_type": "stream",
          "name": "stdout",
          "text": [
            "7\n",
            "10\n",
            "7\n",
            "21\n",
            "0\n",
            "2.3333333333333335\n",
            "2\n",
            "343\n",
            "3\n",
            "3\n",
            "0\n",
            "0\n",
            "0\n"
          ]
        }
      ]
    },
    {
      "cell_type": "code",
      "source": [
        "#comparison operators(==,!=,>,>=,<,<=)\n",
        "x=6\n",
        "y=7\n",
        "print(x==y)\n",
        "print(x!=y)\n",
        "print(x<y)\n",
        "print(x<=y)\n",
        "print(x>y)\n",
        "print(x>=y)\n",
        "\n"
      ],
      "metadata": {
        "colab": {
          "base_uri": "https://localhost:8080/"
        },
        "id": "ZVJVtWpxenKp",
        "outputId": "1c3fdc21-2806-42eb-8dcc-408a8c8b3995"
      },
      "execution_count": null,
      "outputs": [
        {
          "output_type": "stream",
          "name": "stdout",
          "text": [
            "False\n",
            "True\n",
            "True\n",
            "True\n",
            "False\n",
            "False\n"
          ]
        }
      ]
    },
    {
      "cell_type": "code",
      "source": [
        "#lgical operators(and,or,not)\n",
        "x=10\n",
        "print(x<5 and x<11)\n",
        "print(x<5 or x<11)\n",
        "print(not(x<5 and x<11))#It reverse the result"
      ],
      "metadata": {
        "colab": {
          "base_uri": "https://localhost:8080/"
        },
        "id": "IqhkyzZqexcr",
        "outputId": "d5c390d8-6ab2-4016-b846-d11971bf2caa"
      },
      "execution_count": null,
      "outputs": [
        {
          "output_type": "stream",
          "name": "stdout",
          "text": [
            "False\n",
            "True\n",
            "True\n"
          ]
        }
      ]
    },
    {
      "cell_type": "code",
      "source": [
        "#identity operators(is,is not)\n",
        "x=7\n",
        "x=8\n",
        "print(x is y)\n",
        "print(x is not y)"
      ],
      "metadata": {
        "colab": {
          "base_uri": "https://localhost:8080/"
        },
        "id": "wj6n52CJg46j",
        "outputId": "4848b88f-06d8-401b-dd6a-ecc3c19e00e2"
      },
      "execution_count": null,
      "outputs": [
        {
          "output_type": "stream",
          "name": "stdout",
          "text": [
            "False\n",
            "True\n"
          ]
        }
      ]
    },
    {
      "cell_type": "code",
      "source": [
        "#membership operators(in,not in)\n",
        "x=[1,2,3]\n",
        "print(1 in x)\n",
        "print(2 not in x)"
      ],
      "metadata": {
        "colab": {
          "base_uri": "https://localhost:8080/"
        },
        "id": "5qba0B_ihHZq",
        "outputId": "d6398f6e-7b90-4378-c07d-256ba1c47927"
      },
      "execution_count": null,
      "outputs": [
        {
          "output_type": "stream",
          "name": "stdout",
          "text": [
            "True\n",
            "False\n"
          ]
        }
      ]
    },
    {
      "cell_type": "code",
      "source": [
        "#bitwise operators(&,|,^,~,<<,>>)\n",
        "x=3\n",
        "y=2\n",
        "print(x&y)\n",
        "print(x|y)\n",
        "print(x^y)\n",
        "print(~x)\n",
        "print(x<<2)\n",
        "print(x>>2)\n",
        "\n",
        "\n",
        "\n"
      ],
      "metadata": {
        "colab": {
          "base_uri": "https://localhost:8080/"
        },
        "id": "BuDdcNXXhowq",
        "outputId": "750bcf9e-175b-4fea-cb0a-ddf38946e742"
      },
      "execution_count": null,
      "outputs": [
        {
          "output_type": "stream",
          "name": "stdout",
          "text": [
            "2\n",
            "3\n",
            "1\n",
            "-4\n",
            "12\n",
            "0\n"
          ]
        }
      ]
    },
    {
      "cell_type": "markdown",
      "source": [
        "Strings in python\n"
      ],
      "metadata": {
        "id": "1ZjJ5MRa2ZgJ"
      }
    },
    {
      "cell_type": "code",
      "source": [
        "print(\"Hello\")\n",
        "print('Hello')\n",
        "#Quotes Inside Quotes\n",
        "print(\"Hii I'm Madhuri\")\n",
        "print(\"She is called 'Madhuri'\")\n",
        "print('she is called \"Madhuri\"')\n",
        "#Assign string to a variable\n",
        "a = \"Hello\"\n",
        "print(a)\n",
        "#Multiline Strings\n",
        "a=\"\"\"Iam Madhuri,\n",
        "Iam 21 Years Old,\n",
        "I have completed my Graduation.\"\"\"\n",
        "print(a)\n",
        "#Strings are Arrays\n",
        "a = \"Iam Madhuri\"\n",
        "print(a[3])\n",
        "print(a[5])\n",
        "#Looping Through a String\n",
        "for i in \"Madhuri\":\n",
        "  print(i)\n",
        "#String Length\n",
        "a=\"Iam Madhuri\"\n",
        "print(len(a))\n",
        "#Check string\n",
        "txt=\"Iam Madhuri Ravuru\"\n",
        "print(\"Madhuri\" in txt)\n",
        "#using if\n",
        "if \"Iam\" in txt:\n",
        "  print(\"Iam in text\")\n",
        "  #using not in\n",
        "print(\"Madhuri\" not in txt)\n",
        "#slicing\n",
        "a=\"Iam Madhuri \"\n",
        "print(a[2:5])\n",
        "#Slice From the Start\n",
        "print(a[:5])\n",
        "#Slice To the End\n",
        "print(a[2:])\n",
        "#negative slicing\n",
        "print(a[-6:-1])\n",
        "#Upper Case\n",
        "print(a.upper())\n",
        "print(a.lower())\n",
        "#Remove space\n",
        "print(a.strip())\n",
        "#Replace String\n",
        "print(a.replace(\"M\",\"H\"))\n",
        "#Split String\n",
        "print(a.split(\" \"))\n",
        "#String Concatenation\n",
        "a = \"Hello\"\n",
        "b = \"World\"\n",
        "c = a + b\n",
        "print(c)\n",
        "#Python - Format - Strings\n",
        "#F-Strings\n",
        "age = 21\n",
        "txt = f\"My name is Madhuri, I am {age}\"\n",
        "print(txt)\n",
        "price = 59\n",
        "txt = f\"The price is {price} dollars\"\n",
        "print(txt)\n",
        "price = 59\n",
        "txt = f\"The price is {price:.2f} dollars\"\n",
        "print(txt)\n",
        "txt = f\"The price is {20 * 59} dollars\"\n",
        "print(txt)\n",
        "#Escape Character\n",
        "txt = \"We are the so-called \\\"Vikings\\\" from the north.\"\n",
        "print(txt)\n"
      ],
      "metadata": {
        "colab": {
          "base_uri": "https://localhost:8080/"
        },
        "id": "vFpqnVJXmSWT",
        "outputId": "17dd4c2a-3b04-4781-89c4-a599738f3954"
      },
      "execution_count": null,
      "outputs": [
        {
          "output_type": "stream",
          "name": "stdout",
          "text": [
            "Hello\n",
            "Hello\n",
            "Hii I'm Madhuri\n",
            "She is called 'Madhuri'\n",
            "she is called \"Madhuri\"\n",
            "Hello\n",
            "Iam Madhuri,\n",
            "Iam 21 Years Old,\n",
            "I have completed my Graduation.\n",
            " \n",
            "a\n",
            "M\n",
            "a\n",
            "d\n",
            "h\n",
            "u\n",
            "r\n",
            "i\n",
            "11\n",
            "True\n",
            "Iam in text\n",
            "False\n",
            "m M\n",
            "Iam M\n",
            "m Madhuri \n",
            "dhuri\n",
            "IAM MADHURI \n",
            "iam madhuri \n",
            "Iam Madhuri\n",
            "Iam Hadhuri \n",
            "['Iam', 'Madhuri', '']\n",
            "HelloWorld\n",
            "My name is Madhuri, I am 21\n",
            "The price is 59 dollars\n",
            "The price is 59.00 dollars\n",
            "The price is 1180 dollars\n",
            "We are the so-called \"Vikings\" from the north.\n"
          ]
        }
      ]
    },
    {
      "cell_type": "markdown",
      "source": [
        "#list"
      ],
      "metadata": {
        "id": "qEZMk8lg2M8-"
      }
    },
    {
      "cell_type": "code",
      "source": [
        "thislist = [\"apple\", \"banana\", \"cherry\"]\n",
        "print(thislist)\n",
        "#List Length\n",
        "thislist = [\"apple\", \"banana\", \"cherry\"]\n",
        "print(len(thislist))\n",
        "#List Items - Data Types\n",
        "list1 = [\"apple\", \"banana\", \"cherry\"]\n",
        "list2 = [1, 5, 7, 9, 3]\n",
        "list3 = [True, False, False]\n",
        "#Access Items\n",
        "thislist = [\"apple\", \"banana\", \"cherry\"]\n",
        "print(thislist[1])\n",
        "#Negative Indexing\n",
        "list5 = [\"apple\", \"banana\", \"cherry\"]\n",
        "print(list5[-1])\n",
        "#Range of Indexes\n",
        "list6 = [\"apple\", \"banana\", \"cherry\", \"orange\", \"kiwi\", \"melon\", \"mango\"]\n",
        "print(list6[2:5])\n",
        "thislist = [\"apple\", \"banana\", \"cherry\", \"orange\", \"kiwi\", \"melon\", \"mango\"]\n",
        "print(thislist[:4])\n",
        "thislist = [\"apple\", \"banana\", \"cherry\", \"orange\", \"kiwi\", \"melon\", \"mango\"]\n",
        "print(thislist[2:])\n",
        "#Range of Negative Indexes\n",
        "thislist = [\"apple\", \"banana\", \"cherry\", \"orange\", \"kiwi\", \"melon\", \"mango\"]\n",
        "print(thislist[-4:-1])\n",
        "#Check if Item Exists\n",
        "thislist = [\"apple\", \"banana\", \"cherry\"]\n",
        "if \"apple\" in thislist:\n",
        "  print(\"Yes, 'apple' is in the fruits list\")\n",
        "#Change Item Value\n",
        "thislist = [\"apple\", \"banana\"]\n",
        "thislist[1] = \"blackcurrant\"\n",
        "print(thislist)\n",
        "#Change a Range of Item Values\n",
        "thislist = [\"apple\", \"banana\", \"cherry\", \"orange\", \"kiwi\", \"mango\"]\n",
        "thislist[1:3] = [\"blackcurrant\", \"watermelon\"]\n",
        "print(thislist)\n",
        "thislist = [\"apple\", \"banana\"]\n",
        "thislist[1:2] = [\"blackcurrant\", \"watermelon\"]\n",
        "print(thislist)\n",
        "thislist = [\"apple\", \"banana\", \"cherry\"]\n",
        "thislist[1:3] = [\"watermelon\"]\n",
        "print(thislist)\n",
        "#Insert Items\n",
        "thislist = [\"apple\", \"banana\", \"cherry\"]\n",
        "thislist.insert(2,\"watermelon\")\n",
        "print(thislist)\n",
        "#Append Items\n",
        "thislist = [\"apple\", \"banana\", \"cherry\"]\n",
        "thislist.append(\"orange\")\n",
        "print(thislist)\n",
        "#insert of items\n",
        "thislist = [\"apple\", \"banana\", \"cherry\"]\n",
        "thislist.insert(1, \"orange\")\n",
        "print(thislist)\n",
        "#Extend List\n",
        "thislist = [\"apple\", \"banana\", \"cherry\"]\n",
        "tropical = [\"mango\", \"pineapple\", \"papaya\"]\n",
        "thislist.extend(tropical)\n",
        "print(thislist)\n"
      ],
      "metadata": {
        "colab": {
          "base_uri": "https://localhost:8080/"
        },
        "id": "GW3BhxKzxtNv",
        "outputId": "b898bd77-f13a-4d8e-c40e-ef6aba8c405f"
      },
      "execution_count": null,
      "outputs": [
        {
          "output_type": "stream",
          "name": "stdout",
          "text": [
            "['apple', 'banana', 'cherry']\n",
            "3\n",
            "banana\n",
            "cherry\n",
            "['cherry', 'orange', 'kiwi']\n",
            "['apple', 'banana', 'cherry', 'orange']\n",
            "['cherry', 'orange', 'kiwi', 'melon', 'mango']\n",
            "['orange', 'kiwi', 'melon']\n",
            "Yes, 'apple' is in the fruits list\n",
            "['apple', 'blackcurrant']\n",
            "['apple', 'blackcurrant', 'watermelon', 'orange', 'kiwi', 'mango']\n",
            "['apple', 'blackcurrant', 'watermelon']\n",
            "['apple', 'watermelon']\n",
            "['apple', 'banana', 'watermelon', 'cherry']\n",
            "['apple', 'banana', 'cherry', 'orange']\n",
            "['apple', 'orange', 'banana', 'cherry']\n",
            "['apple', 'banana', 'cherry', 'mango', 'pineapple', 'papaya']\n"
          ]
        }
      ]
    },
    {
      "cell_type": "code",
      "source": [
        "#Add Any Iterable\n",
        "thislist = [\"apple\", \"banana\", \"cherry\"]\n",
        "thistuple = (\"kiwi\", \"orange\")\n",
        "thislist.extend(thistuple)\n",
        "print(thislist)\n",
        "#Remove Specified Item\n",
        "thislist = [\"apple\", \"banana\", \"cherry\"]\n",
        "thislist.remove(\"banana\")\n",
        "print(thislist)\n",
        "#Remove Specified Index\n",
        "thislist = [\"apple\", \"banana\", \"cherry\"]\n",
        "thislist.pop(1)\n",
        "print(thislist)\n",
        "thislist = [\"apple\", \"banana\", \"cherry\"]\n",
        "thislist.pop()\n",
        "print(thislist)#removes last item\n",
        "thislist = [\"apple\", \"banana\", \"cherry\"]\n",
        "del thislist[0]\n",
        "print(thislist)\n",
        "#Clear the List\n",
        "thislist = [\"apple\", \"banana\", \"cherry\"]\n",
        "thislist.clear()\n",
        "print(thislist)\n",
        "#Loop Through a List\n",
        "thislist = [\"apple\", \"banana\", \"cherry\"]\n",
        "for x in thislist:\n",
        "  print(x)\n",
        "#Loop Through the Index Numbers\n",
        "thislist = [\"apple\", \"banana\", \"cherry\"]\n",
        "for i in range(len(thislist)):\n",
        "  print(thislist[i])"
      ],
      "metadata": {
        "colab": {
          "base_uri": "https://localhost:8080/"
        },
        "id": "a7Fuj3gSzDSp",
        "outputId": "5b22977a-da69-46c2-c0f4-1e2c5db56f01"
      },
      "execution_count": null,
      "outputs": [
        {
          "output_type": "stream",
          "name": "stdout",
          "text": [
            "['apple', 'banana', 'cherry', 'kiwi', 'orange']\n",
            "['apple', 'cherry']\n",
            "['apple', 'cherry']\n",
            "['apple', 'banana']\n",
            "['banana', 'cherry']\n",
            "[]\n",
            "apple\n",
            "banana\n",
            "cherry\n",
            "apple\n",
            "banana\n",
            "cherry\n"
          ]
        }
      ]
    },
    {
      "cell_type": "code",
      "source": [
        "#Using a While Loop\n",
        "thislist = [\"apple\", \"banana\", \"cherry\"]\n",
        "i = 0\n",
        "while i < len(thislist):\n",
        "  print(thislist[i])\n",
        "  i = i + 1\n",
        "#Looping Using List Comprehension\n",
        "thislist = [\"apple\", \"banana\", \"cherry\"]\n",
        "[print(x) for x in thislist]\n",
        "#List Comprehension\n",
        "fruits = [\"apple\", \"banana\", \"cherry\", \"kiwi\", \"mango\"]\n",
        "newlist = []\n",
        "\n",
        "for x in fruits:\n",
        "  if \"a\" in x:\n",
        "    newlist.append(x)\n",
        "\n",
        "print(newlist)\n",
        "#or\n",
        "fruits = [\"apple\", \"banana\", \"cherry\", \"kiwi\", \"mango\"]\n",
        "\n",
        "newlist = [x for x in fruits if \"a\" in x]\n",
        "\n",
        "print(newlist)\n",
        "newlist = [x for x in fruits if x != \"apple\"]\n",
        "print(newlist)\n",
        "newlist = [x for x in fruits]\n",
        "print(newlist)\n",
        "newlist = [x for x in range(10)]\n",
        "print(newlist)\n",
        "newlist = [x for x in range(10) if x < 5]\n",
        "print(newlist)\n",
        "newlist = [x.upper() for x in fruits]\n",
        "print(newlist)\n",
        "newlist = ['hello' for x in fruits]\n",
        "print(newlist)\n",
        "newlist = [x if x != \"banana\" else \"orange\" for x in fruits]\n",
        "print(newlist)\n",
        "#Sort List Alphanumerically\n",
        "thislist = [\"orange\", \"mango\", \"kiwi\", \"pineapple\", \"banana\"]\n",
        "thislist.sort()\n",
        "print(thislist)\n",
        "thislist = [100, 50, 65, 82, 23]\n",
        "thislist.sort()\n",
        "print(thislist)\n",
        "thislist = [\"orange\", \"mango\", \"kiwi\", \"pineapple\", \"banana\"]\n",
        "thislist.sort(reverse = True)\n",
        "print(thislist)#sort the listin descending order"
      ],
      "metadata": {
        "colab": {
          "base_uri": "https://localhost:8080/"
        },
        "id": "hzykMaEgzxmM",
        "outputId": "b56303d6-3f6c-44fc-9981-72eb7249556b"
      },
      "execution_count": null,
      "outputs": [
        {
          "output_type": "stream",
          "name": "stdout",
          "text": [
            "apple\n",
            "banana\n",
            "cherry\n",
            "apple\n",
            "banana\n",
            "cherry\n",
            "['apple', 'banana', 'mango']\n",
            "['apple', 'banana', 'mango']\n",
            "['banana', 'cherry', 'kiwi', 'mango']\n",
            "['apple', 'banana', 'cherry', 'kiwi', 'mango']\n",
            "[0, 1, 2, 3, 4, 5, 6, 7, 8, 9]\n",
            "[0, 1, 2, 3, 4]\n",
            "['APPLE', 'BANANA', 'CHERRY', 'KIWI', 'MANGO']\n",
            "['hello', 'hello', 'hello', 'hello', 'hello']\n",
            "['apple', 'orange', 'cherry', 'kiwi', 'mango']\n",
            "['banana', 'kiwi', 'mango', 'orange', 'pineapple']\n",
            "[23, 50, 65, 82, 100]\n",
            "['pineapple', 'orange', 'mango', 'kiwi', 'banana']\n"
          ]
        }
      ]
    },
    {
      "cell_type": "code",
      "source": [
        "\n",
        "\n",
        "\n",
        "#Case Insensitive Sort\n",
        "thislist = [\"banana\", \"Orange\", \"Kiwi\", \"cherry\"]\n",
        "thislist.sort()\n",
        "print(thislist)\n",
        "#Reverse Order\n",
        "thislist = [\"banana\", \"Orange\", \"Kiwi\", \"cherry\"]\n",
        "thislist.reverse()\n",
        "print(thislist)\n",
        "#copy method\n",
        "thislist = [\"apple\", \"banana\", \"cherry\"]\n",
        "mylist = thislist.copy()\n",
        "print(mylist)\n",
        "#using slice operator\n",
        "thislist = [\"apple\", \"banana\", \"cherry\"]\n",
        "mylist = thislist[:]\n",
        "print(mylist)\n",
        "#joining of lists\n",
        "list1 = [\"a\", \"b\", \"c\"]\n",
        "list2 = [1, 2, 3]\n",
        "list3 = list1 + list2\n",
        "print(list3)\n",
        "#Append list2 into list1:\n",
        "list1 = [\"a\", \"b\" , \"c\"]\n",
        "list2 = [1, 2, 3]\n",
        "for x in list2:\n",
        "  list1.append(x)\n",
        "print(list1)\n"
      ],
      "metadata": {
        "id": "LjWdJ3QQ2Oko",
        "colab": {
          "base_uri": "https://localhost:8080/"
        },
        "outputId": "161f8202-4e8d-4205-ba7b-108e525c68bc"
      },
      "execution_count": null,
      "outputs": [
        {
          "output_type": "stream",
          "name": "stdout",
          "text": [
            "['Kiwi', 'Orange', 'banana', 'cherry']\n",
            "['cherry', 'Kiwi', 'Orange', 'banana']\n",
            "['apple', 'banana', 'cherry']\n",
            "['apple', 'banana', 'cherry']\n",
            "['a', 'b', 'c', 1, 2, 3]\n",
            "['a', 'b', 'c', 1, 2, 3]\n"
          ]
        }
      ]
    },
    {
      "cell_type": "markdown",
      "source": [
        "Tuple\n"
      ],
      "metadata": {
        "id": "J1r3kbT41DLk"
      }
    },
    {
      "cell_type": "code",
      "source": [
        "mytuple = (\"apple\", \"banana\", \"cherry\")\n",
        "print(mytuple)\n",
        "thistuple = (\"apple\", \"banana\", \"cherry\", \"apple\", \"cherry\")\n",
        "print(thistuple)\n",
        "#tuple length\n",
        "thistuple = (\"apple\", \"banana\", \"cherry\")\n",
        "print(len(thistuple))\n",
        "#Create Tuple With One Item\n",
        "thistuple = (\"apple\",)\n",
        "print(type(thistuple))\n",
        "\n",
        "#NOT a tuple\n",
        "thistuple = (\"apple\")\n",
        "print(type(thistuple))\n",
        "#Data Types\n",
        "tuple1 = (\"apple\", \"banana\", \"cherry\")\n",
        "tuple2 = (1, 5, 7, 9, 3)\n",
        "tuple3 = (True, False, False)\n",
        "tuple1 = (\"abc\", 34, True, 40, \"male\")\n",
        "print(tuple1)\n",
        "mytuple = (\"apple\", \"banana\", \"cherry\")\n",
        "print(type(mytuple))\n",
        "#access of items\n",
        "thistuple = (\"apple\", \"banana\", \"cherry\")\n",
        "print(thistuple[1])\n",
        "#negative indexing\n",
        "thistuple = (\"apple\", \"banana\", \"cherry\")\n",
        "print(thistuple[-1])\n",
        "#Range of Indexes\n",
        "thistuple = (\"apple\", \"banana\", \"cherry\", \"orange\", \"kiwi\", \"melon\", \"mango\")\n",
        "print(thistuple[2:5])\n",
        "thistuple = (\"apple\", \"banana\", \"cherry\", \"orange\", \"kiwi\", \"melon\", \"mango\")\n",
        "print(thistuple[:4])\n",
        "thistuple = (\"apple\", \"banana\", \"cherry\", \"orange\", \"kiwi\", \"melon\", \"mango\")\n",
        "print(thistuple[2:])\n",
        "#Range of Negative Indexes\n",
        "thistuple = (\"apple\", \"banana\", \"cherry\", \"orange\", \"kiwi\", \"melon\", \"mango\")\n",
        "print(thistuple[-4:-1])\n",
        "#Check if Item Exists\n",
        "thistuple = (\"apple\", \"banana\", \"cherry\")\n",
        "if \"apple\" in thistuple:\n",
        "  print(\"Yes, 'apple' is in the fruits tuple\")\n",
        "#Change Tuple Values\n",
        "x = (\"apple\", \"banana\", \"cherry\")\n",
        "y = list(x)\n",
        "y[1] = \"kiwi\"\n",
        "x = tuple(y)\n",
        "print(x)"
      ],
      "metadata": {
        "colab": {
          "base_uri": "https://localhost:8080/"
        },
        "id": "VyPMyxs11LdX",
        "outputId": "16316e8e-ea2b-4a6c-e88a-48f2ba4c367a"
      },
      "execution_count": null,
      "outputs": [
        {
          "output_type": "stream",
          "name": "stdout",
          "text": [
            "('apple', 'banana', 'cherry')\n",
            "('apple', 'banana', 'cherry', 'apple', 'cherry')\n",
            "3\n",
            "<class 'tuple'>\n",
            "<class 'str'>\n",
            "('abc', 34, True, 40, 'male')\n",
            "<class 'tuple'>\n",
            "banana\n",
            "cherry\n",
            "('cherry', 'orange', 'kiwi')\n",
            "('apple', 'banana', 'cherry', 'orange')\n",
            "('cherry', 'orange', 'kiwi', 'melon', 'mango')\n",
            "('orange', 'kiwi', 'melon')\n",
            "Yes, 'apple' is in the fruits tuple\n",
            "('apple', 'kiwi', 'cherry')\n"
          ]
        }
      ]
    },
    {
      "cell_type": "code",
      "source": [
        "from typing import TypeGuard\n",
        "\n",
        "#add items\n",
        "thistuple = (\"apple\", \"banana\", \"cherry\")\n",
        "y = list(thistuple)\n",
        "y.append(\"orange\")\n",
        "thistuple = tuple(y)\n",
        "print(thistuple)\n",
        "thistuple = (\"apple\", \"banana\", \"cherry\")\n",
        "y = (\"orange\",)\n",
        "thistuple += y\n",
        "print(thistuple)\n",
        "#remove items\n",
        "thistuple = (\"apple\", \"banana\", \"cherry\")\n",
        "y = list(thistuple)\n",
        "y.remove(\"apple\")\n",
        "thistuple = tuple(y)\n",
        "print(thistuple)\n",
        "#Unpacking a tuple:\n",
        "fruits = (\"apple\", \"banana\", \"cherry\")\n",
        "(green, yellow, red) = fruits\n",
        "print(green)\n",
        "print(yellow)\n",
        "print(red)\n",
        "#Using Asterisk*\n",
        "fruits = (\"apple\", \"banana\", \"cherry\", \"strawberry\", \"raspberry\")\n",
        "(green, yellow, *red) = fruits\n",
        "print(green)\n",
        "print(yellow)\n",
        "print(red)\n",
        "#Join Two Tuples\n",
        "tuple1 = (\"a\", \"b\" , \"c\")\n",
        "tuple2 = (1, 2, 3)\n",
        "tuple3 = tuple1 + tuple2\n",
        "print(tuple3)\n",
        "fruits = (\"apple\", \"banana\", \"cherry\")\n",
        "mytuple = fruits * 2\n",
        "print(mytuple)"
      ],
      "metadata": {
        "colab": {
          "base_uri": "https://localhost:8080/"
        },
        "id": "YxLzLWAjWlJH",
        "outputId": "c84db25c-54e1-409b-e540-61b4190ca032"
      },
      "execution_count": null,
      "outputs": [
        {
          "output_type": "stream",
          "name": "stdout",
          "text": [
            "('apple', 'banana', 'cherry', 'orange')\n",
            "('apple', 'banana', 'cherry', 'orange')\n",
            "('banana', 'cherry')\n",
            "apple\n",
            "banana\n",
            "cherry\n",
            "apple\n",
            "banana\n",
            "['cherry', 'strawberry', 'raspberry']\n",
            "('a', 'b', 'c', 1, 2, 3)\n",
            "('apple', 'banana', 'cherry', 'apple', 'banana', 'cherry')\n"
          ]
        }
      ]
    },
    {
      "cell_type": "markdown",
      "source": [
        "Set\n"
      ],
      "metadata": {
        "id": "kGT0K_ifTsUh"
      }
    },
    {
      "cell_type": "code",
      "source": [
        "# Empty set\n",
        "s = set()\n",
        "s1 = {1, 2, 3, 4, 5}\n",
        "s2 = {\"Madhuri\", 25, True, 9.5}\n",
        "print(s)\n",
        "print(s1)\n",
        "print(s2)\n",
        "s = {1, 2, 3}\n",
        "# Adding single element\n",
        "s.add(4)\n",
        "print(s)\n",
        "# Adding multiple elements\n",
        "s = {1, 2, 3}\n",
        "s.update([5, 6, 7])\n",
        "print(s)\n",
        "# Removing elements\n",
        "s = {1, 2, 3}\n",
        "s.remove(2)\n",
        "print(s)\n",
        "s.discard(10)\n",
        "print(s)\n",
        "s = {1, 2, 3}\n",
        "s.pop()\n",
        "print(s)\n",
        "a = {1, 2, 3, 4}\n",
        "b = {3, 4, 5, 6}\n",
        "# Subset & Superset\n",
        "print({1, 2}.issubset(a))\n",
        "print(b.issuperset({3, 4}))\n",
        "#set methods\n",
        "s = {1, 2, 3, 4}\n",
        "print(len(s))\n",
        "print(max(s))\n",
        "print(min(s))\n",
        "print(sum(s))\n",
        "print(3 in s)\n",
        "s.clear()\n",
        "# Union\n",
        "print(a | b)\n",
        "# Intersection\n",
        "print(a & b)\n",
        "# Difference\n",
        "print(a - b)\n",
        "# Symmetric Difference\n",
        "print(a ^ b)\n",
        "thisset = {\"apple\", \"banana\", \"cherry\"}\n",
        "for x in thisset:\n",
        "  print(x)\n",
        "thisset = {\"apple\", \"banana\", \"cherry\"}\n",
        "thisset.add(\"orange\")\n",
        "print(thisset)\n",
        "thisset = {\"apple\", \"banana\", \"cherry\"}\n",
        "tropical = {\"pineapple\", \"mango\", \"papaya\"}\n",
        "thisset.update(tropical)\n",
        "print(thisset)\n",
        "#pop\n",
        "thisset={'apple','banana','cherry'}\n",
        "x=thisset.pop()\n",
        "print(x)\n",
        "print(thisset)\n"
      ],
      "metadata": {
        "colab": {
          "base_uri": "https://localhost:8080/"
        },
        "id": "L7hguMF6TuA5",
        "outputId": "2142e3fb-c7b5-4d5e-99eb-fedaa357f9fa"
      },
      "execution_count": null,
      "outputs": [
        {
          "output_type": "stream",
          "name": "stdout",
          "text": [
            "set()\n",
            "{1, 2, 3, 4, 5}\n",
            "{25, 'Madhuri', True, 9.5}\n",
            "{1, 2, 3, 4}\n",
            "{1, 2, 3, 5, 6, 7}\n",
            "{1, 3}\n",
            "{1, 3}\n",
            "{2, 3}\n",
            "True\n",
            "True\n",
            "4\n",
            "4\n",
            "1\n",
            "10\n",
            "True\n",
            "{1, 2, 3, 4, 5, 6}\n",
            "{3, 4}\n",
            "{1, 2}\n",
            "{1, 2, 5, 6}\n",
            "banana\n",
            "cherry\n",
            "apple\n",
            "{'banana', 'cherry', 'apple', 'orange'}\n",
            "{'pineapple', 'papaya', 'apple', 'banana', 'cherry', 'mango'}\n",
            "banana\n",
            "{'cherry', 'apple'}\n"
          ]
        }
      ]
    },
    {
      "cell_type": "markdown",
      "source": [
        "Dictionary"
      ],
      "metadata": {
        "id": "L7OblEtqZJHg"
      }
    },
    {
      "cell_type": "code",
      "source": [
        "d = {}\n",
        "student = {\"name\": \"Madhuri\", \"age\": 22, \"course\": \"CSE\"}\n",
        "data = dict(id=101, branch=\"CSE\")\n",
        "#storing data\n",
        "student = {}\n",
        "student[\"name\"] = \"Madhuri\"\n",
        "student[\"age\"] = 22\n",
        "student[\"course\"] = \"CSE\"\n",
        "print(student)\n",
        "#Dictionary Keys and Values\n",
        "student = {\"name\": \"Madhuri\", \"age\": 22, \"course\": \"CSE\"}\n",
        "print(student.keys())\n",
        "print(student.values())\n",
        "print(student.items())\n",
        "#Accessing Elements of Dictionaries\n",
        "student = {\"name\": \"Madhuri\", \"age\": 22, \"course\": \"CSE\"}\n",
        "print(student[\"name\"])\n",
        "print(student.get(\"age\"))\n",
        "print(student.get(\"grade\", \"Not Available\"))\n",
        "#Dictionary Methods\n",
        "student = {\"name\": \"Madhuri\", \"age\": 22, \"course\": \"CSE\"}\n",
        "student.update({\"grade\": \"A\"})\n",
        "print(student)\n",
        "student.pop(\"age\")\n",
        "print(student)\n",
        "student.popitem()\n",
        "print(student)\n",
        "copy_student = student.copy()\n",
        "print(copy_student)\n",
        "student.clear()\n",
        "#Dictionary Comprehension\n",
        "squares = {x: x*x for x in range(1, 6)}\n",
        "print(squares)\n",
        "even_squares = {x: x*x for x in range(1, 11) if x % 2 == 0}\n",
        "print(even_squares)\n",
        "#Remove duplicate values\n",
        "d = {\"a\": 1, \"b\": 2, \"c\": 1, \"d\": 3}\n",
        "unique = {}\n",
        "for k, v in d.items():\n",
        "    if v not in unique.values():\n",
        "        unique[k] = v\n",
        "print(unique)\n",
        "#Nested dictionary\n",
        "students = {\n",
        "    101: {\"name\": \"Madhuri\", \"branch\": \"CSE\", \"marks\": 90},\n",
        "    102: {\"name\": \"kamakshi\", \"branch\": \"ECE\", \"marks\": 85}\n",
        "}\n",
        "print(students)\n",
        "print(students[101][\"marks\"])\n",
        "for x in students:\n",
        "  print(x)\n",
        "for x in students:\n",
        "  print(students[x])\n",
        "for x, y in students.items():\n",
        "  print(x, y)\n",
        "thisdict = {\n",
        "  \"brand\": \"Ford\",\n",
        "  \"model\": \"Mustang\",\n",
        "  \"year\": 1964\n",
        "}\n",
        "mydict = dict(thisdict)\n",
        "print(mydict)\n",
        "#nested dictionaries\n",
        "myfamily = {\n",
        "  \"child1\" : {\n",
        "    \"name\" : \"Emil\",\n",
        "    \"year\" : 2004\n",
        "  },\n",
        "  \"child2\" : {\n",
        "    \"name\" : \"Tobias\",\n",
        "    \"year\" : 2007\n",
        "  },\n",
        "  \"child3\" : {\n",
        "    \"name\" : \"Linus\",\n",
        "    \"year\" : 2011\n",
        "  }\n",
        "}"
      ],
      "metadata": {
        "colab": {
          "base_uri": "https://localhost:8080/"
        },
        "id": "sc6nnKl8ZK-_",
        "outputId": "5a7d3eb6-5713-44eb-bb9e-8edc260dec38"
      },
      "execution_count": null,
      "outputs": [
        {
          "output_type": "stream",
          "name": "stdout",
          "text": [
            "{'name': 'Madhuri', 'age': 22, 'course': 'CSE'}\n",
            "dict_keys(['name', 'age', 'course'])\n",
            "dict_values(['Madhuri', 22, 'CSE'])\n",
            "dict_items([('name', 'Madhuri'), ('age', 22), ('course', 'CSE')])\n",
            "Madhuri\n",
            "22\n",
            "Not Available\n",
            "{'name': 'Madhuri', 'age': 22, 'course': 'CSE', 'grade': 'A'}\n",
            "{'name': 'Madhuri', 'course': 'CSE', 'grade': 'A'}\n",
            "{'name': 'Madhuri', 'course': 'CSE'}\n",
            "{'name': 'Madhuri', 'course': 'CSE'}\n",
            "{1: 1, 2: 4, 3: 9, 4: 16, 5: 25}\n",
            "{2: 4, 4: 16, 6: 36, 8: 64, 10: 100}\n",
            "{'a': 1, 'b': 2, 'd': 3}\n",
            "{101: {'name': 'Madhuri', 'branch': 'CSE', 'marks': 90}, 102: {'name': 'kamakshi', 'branch': 'ECE', 'marks': 85}}\n",
            "90\n",
            "101\n",
            "102\n",
            "{'name': 'Madhuri', 'branch': 'CSE', 'marks': 90}\n",
            "{'name': 'kamakshi', 'branch': 'ECE', 'marks': 85}\n",
            "101 {'name': 'Madhuri', 'branch': 'CSE', 'marks': 90}\n",
            "102 {'name': 'kamakshi', 'branch': 'ECE', 'marks': 85}\n",
            "{'brand': 'Ford', 'model': 'Mustang', 'year': 1964}\n"
          ]
        }
      ]
    },
    {
      "cell_type": "markdown",
      "source": [
        "Python conditional statements\n"
      ],
      "metadata": {
        "id": "28qZt9kIow36"
      }
    },
    {
      "cell_type": "code",
      "source": [
        "#if statement\n",
        "x = 10\n",
        "if x > 5:\n",
        "    print(\"x is greater than 5\")\n",
        "#If-Else Statement\n",
        "num = 7\n",
        "if num % 2 == 0:\n",
        "    print(\"Even number\")\n",
        "else:\n",
        "    print(\"Odd number\")\n",
        "#if-elif-else statements\n",
        "a = 33\n",
        "b = 33\n",
        "if b > a:\n",
        "  print(\"b is greater than a\")\n",
        "elif a == b:\n",
        "  print(\"a and b are equal\")\n",
        "marks = 85\n",
        "if marks >= 90:\n",
        "    print(\"Grade A\")\n",
        "elif marks >= 75:\n",
        "    print(\"Grade B\")\n",
        "elif marks >= 50:\n",
        "    print(\"Grade C\")\n",
        "else:\n",
        "    print(\"Fail\")\n",
        "#ternary operator\n",
        "num = 10\n",
        "result = \"Even\" if num % 2 == 0 else \"Odd\"\n",
        "print(result)\n",
        "a = 33\n",
        "b = 33\n",
        "if b > a:\n",
        "  print(\"b is greater than a\")\n",
        "elif a == b:\n",
        "  print(\"a and b are equal\")\n",
        "#and\n",
        "a = 200\n",
        "b = 33\n",
        "c = 500\n",
        "if a > b and c > a:\n",
        "  print(\"Both conditions are True\")\n",
        "#or\n",
        "a = 200\n",
        "b = 33\n",
        "c = 500\n",
        "if a > b or a > c:\n",
        "  print(\"At least one of the conditions is True\")\n",
        "#not\n",
        "a = 33\n",
        "b = 200\n",
        "if not a > b:\n",
        "  print(\"a is NOT greater than b\")\n",
        "a = 33\n",
        "b = 200\n",
        "\n",
        "if b > a:\n",
        "  pass\n",
        "\n",
        "#nested if\n",
        "x = 41\n",
        "if x > 10:\n",
        "  print(\"Above ten,\")\n",
        "  if x > 20:\n",
        "    print(\"and also above 20!\")\n",
        "  else:\n",
        "    print(\"but not above 20.\")\n",
        "#match statemet\n",
        "day = 4\n",
        "match day:\n",
        "  case 1:\n",
        "    print(\"Monday\")\n",
        "  case 2:\n",
        "    print(\"Tuesday\")\n",
        "  case 3:\n",
        "    print(\"Wednesday\")\n",
        "  case 4:\n",
        "    print(\"Thursday\")\n",
        "  case 5:\n",
        "    print(\"Friday\")\n",
        "  case 6:\n",
        "    print(\"Saturday\")\n",
        "  case 7:\n",
        "    print(\"Sunday\")\n",
        "#default value\n",
        "day = 4\n",
        "match day:\n",
        "  case 6:\n",
        "    print(\"Today is Saturday\")\n",
        "  case 7:\n",
        "    print(\"Today is Sunday\")\n",
        "  case _:\n",
        "    print(\"Looking forward to the Weekend\")"
      ],
      "metadata": {
        "colab": {
          "base_uri": "https://localhost:8080/"
        },
        "id": "l50qLH7RozBp",
        "outputId": "95ea0d8d-c618-4740-cdb0-40bb4c6f3357"
      },
      "execution_count": null,
      "outputs": [
        {
          "output_type": "stream",
          "name": "stdout",
          "text": [
            "x is greater than 5\n",
            "Odd number\n",
            "a and b are equal\n",
            "Grade B\n",
            "Even\n",
            "a and b are equal\n",
            "Both conditions are True\n",
            "At least one of the conditions is True\n",
            "a is NOT greater than b\n",
            "Above ten,\n",
            "and also above 20!\n",
            "Thursday\n"
          ]
        }
      ]
    },
    {
      "cell_type": "markdown",
      "source": [
        " Loops in Python\n"
      ],
      "metadata": {
        "id": "4kO73jdsT4gI"
      }
    },
    {
      "cell_type": "code",
      "source": [
        "#while loop\n",
        "i = 1\n",
        "while i < 6:\n",
        "  print(i)\n",
        "  i += 1\n",
        "#break statement\n",
        "i = 1\n",
        "while i < 6:\n",
        "  print(i)\n",
        "  if i == 3:\n",
        "    break\n",
        "  i += 1\n",
        "#continue statement\n",
        "i=1\n",
        "while i<6:\n",
        "  i+=1\n",
        "  if i==3:\n",
        "    continue\n",
        "  print(i)\n",
        "#the else statement\n",
        "i = 1\n",
        "while i < 6:\n",
        "  print(i)\n",
        "  i += 1\n",
        "else:\n",
        "  print(\"i is no longer less than 6\")\n"
      ],
      "metadata": {
        "id": "mC-wX6RCszdI",
        "colab": {
          "base_uri": "https://localhost:8080/"
        },
        "outputId": "7c5bce86-8d84-42ac-f6e7-c8bd5f7c7c5f"
      },
      "execution_count": null,
      "outputs": [
        {
          "output_type": "stream",
          "name": "stdout",
          "text": [
            "1\n",
            "2\n",
            "3\n",
            "4\n",
            "5\n",
            "1\n",
            "2\n",
            "3\n",
            "2\n",
            "4\n",
            "5\n",
            "6\n",
            "1\n",
            "2\n",
            "3\n",
            "4\n",
            "5\n",
            "i is no longer less than 6\n"
          ]
        }
      ]
    },
    {
      "cell_type": "markdown",
      "source": [
        "python for loops"
      ],
      "metadata": {
        "id": "ztmgqMUtZUhu"
      }
    },
    {
      "cell_type": "code",
      "source": [
        "fruits = [\"apple\", \"banana\", \"cherry\"]\n",
        "for x in fruits:\n",
        "  print(x)\n",
        "#looping through a string\n",
        "for x in 'madhuri':\n",
        "  print(x)\n",
        "fruits = [\"apple\", \"banana\", \"cherry\"]\n",
        "for x in fruits:\n",
        "  print(x)\n",
        "  if x == \"banana\":\n",
        "    break\n",
        "fruits = [\"apple\", \"banana\", \"cherry\"]\n",
        "for x in fruits:\n",
        "  if x == \"banana\":\n",
        "    break\n",
        "  print(x)\n",
        "for x in range(6):\n",
        "  print(x)\n",
        "print(\"---\")\n",
        "for x in range(2, 6):\n",
        "  print(x)\n",
        "print(\"---\")\n",
        "for x in range(2, 30, 3):\n",
        "  print(x)\n",
        "print(\"---\")\n",
        "for x in range(6):\n",
        "  print(x)\n",
        "else:\n",
        "  print(\"Finally finished!\")\n",
        "print(\"---\")\n",
        "for x in range(6):\n",
        "  print(x)\n",
        "else:\n",
        "  print(\"Finally finished!\")\n",
        "print(\"----\")\n",
        "#nested loops\n",
        "adj = [\"red\", \"big\", \"tasty\"]\n",
        "fruits = [\"apple\", \"banana\", \"cherry\"]\n",
        "for x in adj:\n",
        "  for y in fruits:\n",
        "    print(x, y)\n",
        "#enumerate\n",
        "fruits = [\"apple\", \"banana\", \"cherry\"]\n",
        "for index, fruit in enumerate(fruits):\n",
        "    print(index, fruit)\n",
        "#zip\n",
        "names = [\"Madhuri\", \"kamakshi\",\"dhana\",\"manasa\"]\n",
        "scores = [95, 90,50,60]\n",
        "for name, score in zip(names, scores):\n",
        "    print(name, score)\n",
        ""
      ],
      "metadata": {
        "id": "kMtbnWj9szfN",
        "colab": {
          "base_uri": "https://localhost:8080/"
        },
        "outputId": "c5e70e50-5522-45fb-8e57-4e245e0f2959"
      },
      "execution_count": 21,
      "outputs": [
        {
          "output_type": "stream",
          "name": "stdout",
          "text": [
            "apple\n",
            "banana\n",
            "cherry\n",
            "m\n",
            "a\n",
            "d\n",
            "h\n",
            "u\n",
            "r\n",
            "i\n",
            "apple\n",
            "banana\n",
            "apple\n",
            "0\n",
            "1\n",
            "2\n",
            "3\n",
            "4\n",
            "5\n",
            "---\n",
            "2\n",
            "3\n",
            "4\n",
            "5\n",
            "---\n",
            "2\n",
            "5\n",
            "8\n",
            "11\n",
            "14\n",
            "17\n",
            "20\n",
            "23\n",
            "26\n",
            "29\n",
            "---\n",
            "0\n",
            "1\n",
            "2\n",
            "3\n",
            "4\n",
            "5\n",
            "Finally finished!\n",
            "---\n",
            "0\n",
            "1\n",
            "2\n",
            "3\n",
            "4\n",
            "5\n",
            "Finally finished!\n",
            "----\n",
            "red apple\n",
            "red banana\n",
            "red cherry\n",
            "big apple\n",
            "big banana\n",
            "big cherry\n",
            "tasty apple\n",
            "tasty banana\n",
            "tasty cherry\n",
            "0 apple\n",
            "1 banana\n",
            "2 cherry\n",
            "Madhuri 95\n",
            "kamakshi 90\n",
            "dhana 50\n",
            "manasa 60\n"
          ]
        }
      ]
    },
    {
      "cell_type": "markdown",
      "source": [
        "List and Dictionaries comprehension\n"
      ],
      "metadata": {
        "id": "G5fuQdOkXMPb"
      }
    },
    {
      "cell_type": "code",
      "source": [
        "squares = [x**2 for x in range(5)]\n",
        "print(squares)  # [0, 1, 4, 9, 16]"
      ],
      "metadata": {
        "id": "OfKYTFtweBJW",
        "colab": {
          "base_uri": "https://localhost:8080/"
        },
        "outputId": "f697d691-a9cb-4d8a-c6d1-a2e0b884191d"
      },
      "execution_count": 22,
      "outputs": [
        {
          "output_type": "stream",
          "name": "stdout",
          "text": [
            "[0, 1, 4, 9, 16]\n"
          ]
        }
      ]
    }
  ]
}